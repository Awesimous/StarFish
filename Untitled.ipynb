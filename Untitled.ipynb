{
 "cells": [
  {
   "cell_type": "code",
   "execution_count": 178,
   "id": "20134305-4072-42f1-b462-0e996363464a",
   "metadata": {},
   "outputs": [],
   "source": [
    "#imports \n",
    "import requests\n",
    "from bs4 import BeautifulSoup\n",
    "import numpy as np\n",
    "import pandas as pd\n",
    "import sys\n",
    "import time"
   ]
  },
  {
   "cell_type": "code",
   "execution_count": 9,
   "id": "414d84a0-1216-499a-95cd-3006cf364a9c",
   "metadata": {},
   "outputs": [],
   "source": [
    "#parsing the average stream metrics\n",
    "\n",
    "\n",
    "def parse_average_stream(user):\n",
    "    headers = {'User-Agent': 'Mozilla/5.0 (Platform; Security; OS-or-CPU; Localization; rv:1.4) Gecko/20030624 Netscape/7.1 (ax)'}\n",
    "    url = f\"https://twitchtracker.com/{user}\"\n",
    "    response = requests.get(url, headers=headers)\n",
    "    soup = BeautifulSoup(response.content, 'html.parser')\n",
    "    df=pd.read_html(str(soup), flavor='bs4')[2]\n",
    "    return df\n",
    "\n"
   ]
  },
  {
   "cell_type": "code",
   "execution_count": 11,
   "id": "a7695a13-7489-4053-a87e-c4f117925c9e",
   "metadata": {},
   "outputs": [
    {
     "data": {
      "text/html": [
       "<div>\n",
       "<style scoped>\n",
       "    .dataframe tbody tr th:only-of-type {\n",
       "        vertical-align: middle;\n",
       "    }\n",
       "\n",
       "    .dataframe tbody tr th {\n",
       "        vertical-align: top;\n",
       "    }\n",
       "\n",
       "    .dataframe thead th {\n",
       "        text-align: right;\n",
       "    }\n",
       "</style>\n",
       "<table border=\"1\" class=\"dataframe\">\n",
       "  <thead>\n",
       "    <tr style=\"text-align: right;\">\n",
       "      <th></th>\n",
       "      <th>0</th>\n",
       "      <th>1</th>\n",
       "    </tr>\n",
       "  </thead>\n",
       "  <tbody>\n",
       "    <tr>\n",
       "      <th>0</th>\n",
       "      <td>Games streamed</td>\n",
       "      <td>1.1</td>\n",
       "    </tr>\n",
       "    <tr>\n",
       "      <th>1</th>\n",
       "      <td>Live views</td>\n",
       "      <td>68079.0</td>\n",
       "    </tr>\n",
       "    <tr>\n",
       "      <th>2</th>\n",
       "      <td>Followers</td>\n",
       "      <td>10168.0</td>\n",
       "    </tr>\n",
       "    <tr>\n",
       "      <th>3</th>\n",
       "      <td>Duration</td>\n",
       "      <td>102.0</td>\n",
       "    </tr>\n",
       "  </tbody>\n",
       "</table>\n",
       "</div>"
      ],
      "text/plain": [
       "                0        1\n",
       "0  Games streamed      1.1\n",
       "1      Live views  68079.0\n",
       "2       Followers  10168.0\n",
       "3        Duration    102.0"
      ]
     },
     "execution_count": 11,
     "metadata": {},
     "output_type": "execute_result"
    }
   ],
   "source": [
    "parse_user_statistics(\"quackity\")\n"
   ]
  },
  {
   "cell_type": "code",
   "execution_count": 32,
   "id": "dac9f1c8-8ee9-44ae-8a89-5fd69db213ec",
   "metadata": {},
   "outputs": [],
   "source": [
    "#parsing the performance of the player\n",
    "\n",
    "def parsing_the_performance(user):\n",
    "    headers = {'User-Agent': 'Mozilla/5.0 (Platform; Security; OS-or-CPU; Localization; rv:1.4) Gecko/20030624 Netscape/7.1 (ax)'}\n",
    "    url = f\"https://twitchtracker.com/{user}\"\n",
    "    response = requests.get(url, headers=headers)\n",
    "    soup = BeautifulSoup(response.content, 'html.parser')\n",
    "    all_divs = soup.body.find_all(string=True)\n",
    "    all_divs_str = str(all_divs)\n",
    "    return all_divs_str\n",
    "    \n",
    "\n"
   ]
  },
  {
   "cell_type": "code",
   "execution_count": 34,
   "id": "72e7b72f-06b6-41ea-a298-80a965de596a",
   "metadata": {},
   "outputs": [],
   "source": [
    "all_divs_str = parsing_the_performance(\"quackity\")\n",
    "#<div class=\"to-number\">650.6</div>"
   ]
  },
  {
   "cell_type": "code",
   "execution_count": 39,
   "id": "cbc28559-53a8-4a09-b10b-c7ea6f654a32",
   "metadata": {},
   "outputs": [],
   "source": [
    "def clean_the_performance(all_divs_str):\n",
    "    all_divs_str_cleaned = all_divs_str.replace(\"'\\\\n\\'\", \" \")\n",
    "    return all_divs_str_cleaned"
   ]
  },
  {
   "cell_type": "code",
   "execution_count": 40,
   "id": "edab1cec-f199-47a0-b4a7-6508c4f3a5eb",
   "metadata": {},
   "outputs": [
    {
     "data": {
      "text/plain": [
       "'[ ,  ,  ,  , \\'TwitchTracker\\',  ,  ,  ,  , \\'Time zone\\',  ,  ,  ,  ,  , \\'SIGN IN\\',  ,  ,  ,  ,  ,  ,  , \\'SEARCH\\',  ,  ,  ,  ,  ,  ,  ,  ,  ,  ,  , \\'Channels\\',  ,  ,  , \\'Games\\',  ,  ,  , \\'Clips\\',  ,  ,  , \\'Stats \\',  ,  , \\'Overview\\',  , \\'Viewers\\',  , \\'Channels\\',  , \\'Games\\',  , \\'Languages\\',  ,  ,  ,  , \\'Subscribers\\',  ,  ,  ,  ,  ,  ,  ,  ,  ,  ,  ,  ,  ,  ,  , \\'\\\\n\\\\t\\\\t\\\\t     (adsbygoogle = window.adsbygoogle || []).push({});\\\\n\\\\t\\\\t\\\\t\\',  ,  ,  ,  ,  ,  , \\'quackity:48526626\\',  ,  ,  ,  ,  ,  ,  , \\'\\\\nQuackity\\\\n\\',  ,  , \\'Overview\\',  , \\'Streams\\',  , \\'Games\\',  , \\'Subs\\',  , \\'Statistics\\',  , \\'Clips\\',  ,  ,  ,  , \\'RANK\\',  ,  , \\'3\\',  ,  ,  ,  ,  ,  ,  ,  ,  ,  , \\'??? - ???\\',  ,  ,  , \\'\\\\nRerun \\',  ,  ,  ,  ,  ,  ,  ,  , \\'Performance\\',  ,  ,  , \\'Week\\',  , \\'Month\\',  , \\'3 months\\',  , \\'all time\\',  ,  ,  , \\'\\\\n            <div class=\"g-x-s-block\">\\\\n                <div class=\"g-x-s-value g-x-s-contrast\">\\\\n                    <div title=\"<%= m[3] %> difference from the previous period\" class=\"g-x-s-contrast-value\" style=\"word-spacing:-.3em\">\\\\n                        <% if (d.prev[m[0]] && d.curr[m[0]] != d.prev[m[0]]) { %>\\\\n                            <%= d.curr[m[0]] > d.prev[m[0]] ? \\\\\\'+\\\\\\' : \\\\\\'-\\\\\\' %>\\\\n                            <%= m[1](Math.abs(d.curr[m[0]] - d.prev[m[0]])) %>\\\\n                            <% if (d.curr[m[0]] && d.prev[m[0]]) { %>\\\\n                                | <%= toNumberLarge(Math.round(Math.abs((d.curr[m[0]] / d.prev[m[0]] - 1) * 100))) %>%\\\\n                            <% } %>\\\\n                        <% } else { %>\\\\n                            &nbsp;\\\\n                        <% } %>\\\\n                    </div>\\\\n                    <div>\\\\n                        <span><%= m[1](d.curr[m[0]]) %></span>\\\\n                        <% if (d.curr[m[0]] > d.prev[m[0]]) { %>\\\\n                            <span class=\"up\"></span>\\\\n                        <% } else if (d.curr[m[0]] < d.prev[m[0]]) { %>\\\\n                            <span class=\"down\"></span>\\\\n                        <% } %>\\\\n                    </div>\\\\n                </div>\\\\n                <hr class=\"g-x-s-separator border-<%= m[2] %>\">\\\\n                <div class=\"g-x-s-label color-<%= m[2] %>\"><%= m[3] %></div>\\\\n            </div>\\\\n        \\',  ,  ,  , \\'No streams for the selected period\\',  ,  ,  ,  ,  ,  ,  , \\'Summary\\',  ,  ,  ,  ,  ,  , \\'\\\\xa0\\',  , \\'650.6\\',  ,  ,  , \\'Total Hours Streamed\\',  ,  ,  ,  , \\'33\\',  , \\'381550\\',  ,  ,  , \\'\\\\nHighest recorded number of concur. viewers\\\\n\\', \\'\\\\n2021-05-22 21:02:38\\',  ,  ,  ,  ,  , \\'36\\',  , \\'3515334\\',  ,  ,  , \\'Total followers\\',  ,  ,  ,  , \\'831\\',  , \\'23526957\\',  ,  ,  , \\'Total views\\',  ,  ,  ,  ,  ,  ,  ,  ,  ,  , \\'Subscribers\\',  ,  ,  , \\'Details\\',  ,  ,  ,  ,  , \\'0\\',  ,  , \\'Current Active Subs\\',  ,  ,  , \\'0\\',  ,  , \\'Paid Active Subs\\',  ,  ,  , \\'0\\',  ,  , \\'Gifted Active Subs\\',  ,  ,  , \\'42252\\',  ,  , \\'All-time High Active Subs\\',  ,  ,  ,  ,  ,  ,  , \\'\\\\nRecent Streams\\\\n\\',  , \\' Max Viewers\\',  , \\' Followers\\',  , \\' Time Streamed\\',  ,  ,  ,  ,  ,  ,  ,  ,  , \\'262715\\',  ,  ,  , \\'10905\\',  ,  ,  , \\'94\\',  ,  ,  ,  ,  ,  ,  ,  ,  ,  , \\'142608\\',  ,  ,  , \\'34169\\',  ,  ,  , \\'205\\',  ,  ,  ,  ,  ,  ,  ,  ,  ,  , \\'132564\\',  ,  ,  , \\'6125\\',  ,  ,  , \\'105\\',  ,  ,  ,  ,  ,  ,  ,  ,  ,  , \\'381550\\',  ,  ,  , \\'7873\\',  ,  ,  , \\'92\\',  ,  ,  ,  ,  ,  ,  ,  ,  ,  , \\'191818\\',  ,  ,  , \\'12512\\',  ,  ,  , \\'144\\',  ,  ,  ,  ,  ,  ,  ,  ,  ,  ,  ,  , \\'221162\\',  ,  ,  , \\'10196\\',  ,  ,  , \\'68\\',  ,  ,  ,  ,  ,  ,  ,  ,  ,  , \\'191381\\',  ,  ,  , \\'2326\\',  ,  ,  , \\'85\\',  ,  ,  ,  ,  ,  ,  ,  ,  ,  , \\'215736\\',  ,  ,  , \\'6108\\',  ,  ,  , \\'101\\',  ,  ,  ,  ,  ,  ,  ,  ,  ,  , \\'160580\\',  ,  ,  , \\'4570\\',  ,  ,  , \\'85\\',  ,  ,  ,  ,  ,  ,  ,  ,  ,  , \\'359531\\',  ,  ,  , \\'15147\\',  ,  ,  , \\'76\\',  ,  ,  ,  ,  ,  ,  ,  ,  ,  ,  ,  , \\'176174\\',  ,  ,  , \\'4614\\',  ,  ,  , \\'138\\',  ,  ,  ,  ,  ,  ,  ,  ,  ,  , \\'134517\\',  ,  ,  , \\'16883\\',  ,  ,  , \\'98\\',  ,  ,  ,  ,  ,  ,  ,  ,  ,  , \\'164457\\',  ,  ,  , \\'6280\\',  ,  ,  , \\'95\\',  ,  ,  ,  ,  ,  ,  ,  ,  ,  , \\'196817\\',  ,  ,  , \\'8549\\',  ,  ,  , \\'93\\',  ,  ,  ,  ,  ,  ,  ,  ,  ,  , \\'149944\\',  ,  ,  , \\'8101\\',  ,  ,  , \\'103\\',  ,  ,  ,  ,  ,  ,  ,  ,  ,  , \\' VIEW MORE\\\\n\\',  ,  ,  ,  ,  ,  ,  ,  , \\'Streamer Profile\\',  ,  ,  ,  ,  , \\'Quackity\\',  , \\'\\\\nRanked \\', \\'# \\', \\'3\\',  ,  , \\'# \\', \\'3\\', \\' English channel\\',  ,  ,  , \\'\\\\nLast live\\\\n\\', \\'\\\\n2021-06-02 21:25:00\\\\n\\',  ,  ,  ,  , \\'Followers\\',  ,  , \\'●\\',  , \\'3515334\\',  ,  ,  ,  , \\'Avg viewers\\',  ,  , \\'●\\',  , \\'165529\\',  ,  ,  ,  ,  ,  , \\'Language\\',  ,  , \\'English\\',  ,  ,  ,  , \\'Created\\',  ,  , \\'2013-09-03 23:14:29\\',  ,  ,  ,  ,  , \\'\\\\nPartner \\',  ,  , \\'\\\\n18+ \\',  ,  ,  ,  , \\'take a picturego to quackity vods\\',  ,  ,  ,  , \\'Twitch Page\\',  ,  ,  ,  ,  ,  ,  ,  , \\'\\\\nFamous Followers\\\\n \\',  ,  ,  ,  ,  ,  ,  ,  , \\'tommyinnit\\',  , \\'\\\\nEnglish\\\\nPartner\\\\n\\',  ,  ,  ,  ,  ,  ,  ,  , \\'AdinRoss\\',  , \\'\\\\nEnglish\\\\nPartner\\\\n\\',  ,  ,  ,  ,  ,  ,  ,  , \\'RanbooLive\\',  , \\'\\\\nEnglish\\\\nPartner\\\\n\\',  ,  ,  ,  ,  ,  ,  ,  , \\'Sapnap\\',  , \\'\\\\nEnglish\\\\nPartner\\\\n\\',  ,  ,  ,  ,  ,  ,  ,  , \\'Tubbo\\',  , \\'\\\\nEnglish\\\\nPartner\\\\n\\',  ,  ,  ,  ,  ,  ,  ,  , \\'WilburSoot\\',  , \\'\\\\nEnglish\\\\nPartner\\\\n18+\\\\n\\',  ,  ,  ,  ,  ,  ,  ,  , \\'Sykkuno\\',  , \\'\\\\nEnglish\\\\nPartner\\\\n\\',  ,  ,  ,  ,  ,  ,  ,  , \\'Philza\\',  , \\'\\\\nEnglish\\\\nPartner\\\\n\\',  ,  ,  ,  ,  ,  ,  ,  , \\'Trainwreckstv\\',  , \\' \\', \\'\\\\nEnglish\\\\nPartner\\\\n18+\\\\n\\',  ,  ,  ,  ,  ,  ,  ,  , \\'Mizkif\\',  , \\'\\\\nEnglish\\\\nPartner\\\\n\\',  ,  ,  ,  ,  ,  ,  ,  , \\'Viewers and stream time dynamic\\',  ,  , \\'Requires at least 2 weeks of tracked streams to render the chart\\',  ,  ,  ,  , \\'\\\\nMost Streamed Games\\\\n\\',  , \\' Average Viewers\\',  , \\' Followers\\',  , \\' Time Streamed\\',  ,  ,  ,  ,  ,  ,  ,  ,  ,  , \\'32652\\',  ,  ,  , \\'578956\\',  ,  ,  , \\'13355\\',  ,  ,  ,  ,  ,  ,  ,  ,  ,  , \\'18207\\',  ,  ,  , \\'244898\\',  ,  ,  , \\'9447\\',  ,  ,  ,  ,  ,  ,  ,  ,  ,  , \\'1524\\',  ,  ,  , \\'7992\\',  ,  ,  , \\'2032\\',  ,  ,  ,  ,  ,  ,  ,  ,  ,  , \\'126620\\',  ,  ,  , \\'119954\\',  ,  ,  , \\'1376\\',  ,  ,  ,  ,  ,  ,  ,  ,  ,  , \\'20987\\',  ,  ,  , \\'49840\\',  ,  ,  , \\'1254\\',  ,  ,  ,  ,  ,  ,  ,  ,  ,  , \\'76616\\',  ,  ,  , \\'85787\\',  ,  ,  , \\'1223\\',  ,  ,  ,  ,  ,  ,  , \\' VIEW MORE\\\\n\\',  ,  ,  ,  , \\'Popular Clips\\',  ,  ,  ,  ,  , \\' \\',  ,  ,  , \\' VIEW MORE\\\\n\\',  ,  ,  ,  ,  ,  ,  ,  , \\'Average Stream\\',  ,  ,  ,  , \\'Games streamed\\',  , \\'1.1\\',  ,  ,  , \\'Live views\\',  , \\'68079\\',  ,  ,  , \\'Followers\\',  , \\'10168\\',  ,  ,  , \\'Duration\\',  , \\'102\\',  ,  ,  ,  ,  ,  ,  ,  , \\'Various Metrics\\',  ,  ,  ,  , \\'Active days per week\\',  , \\'1.6 / 7\\',  ,  ,  , \\'Total games played\\',  , \\'57\\',  ,  ,  , \\'Usually starts stream at\\',  , \\'05:30\\',  ,  ,  , \\'Total Activity\\',  , \\'381 of 1630 days\\',  ,  ,  ,  ,  ,  ,  ,  ,  , \\'Followers\\',  ,  , \\'Requires atleast 3 datapoints to render the chart\\',  ,  ,  ,  , \\'Hours Watched\\',  ,  , \\'Requires atleast 3 datapoints to render the chart\\',  ,  ,  ,  ,  ,  , \\' VIEW MORE\\\\n\\',  ,  ,  ,  ,  ,  ,  ,  ,  ,  , \\'\\\\n             (adsbygoogle = window.adsbygoogle || []).push({});\\\\n        \\',  ,  ,  ,  , \\'Get in touch, report a bug or incorrect information, suggest a feature.\\',  ,  , \\'TwitchTracker © 2021\\',  , \\'[email\\\\xa0protected]\\',  ,  , \\'Scraping is prohibited, it overloads the servers. Violation will be detected and eliminated!\\',  , \\'TwitchTracker is not affiliated with Twitch or Amazon. All Trademarks referred to are the property of their respective owners.\\',  ,  ,  ,  ,  ,  ,  ,  ,  ,  ,  ,  ,  ,  ,  ,  ,  , \\'\\\\n        // Midpage #1 Left\\\\n        $(\\\\\\'#ads-midpage-1-left\\\\\\').show().html(\\\\\\'<ins class=\"adsbygoogle\" \\\\\\\\\\\\n            style=\"display:block;\" \\\\\\\\\\\\n            data-ad-client=\"ca-pub-3581129455196386\" \\\\\\\\\\\\n            data-ad-slot=\"4055259883\" \\\\\\\\\\\\n            data-ad-format=\"auto\" \\\\\\\\\\\\n            data-full-width-responsive=\"true\"></ins>\\\\\\');\\\\n        window.adsbygoogle.push({});\\\\n\\\\n        if (getDocumentWidth() > 999) {\\\\n            // Midpage #1 Desktop\\\\n            $(\\\\\\'#ads-midpage-1\\\\\\').show().html(\\\\\\'<ins class=\"adsbygoogle\" \\\\\\\\\\\\n                style=\"display:inline-block;width:970px;height:250px\" \\\\\\\\\\\\n                data-ad-client=\"ca-pub-3581129455196386\" \\\\\\\\\\\\n                data-ad-slot=\"2550606525\"></ins>\\\\\\');\\\\n            window.adsbygoogle.push({});\\\\n\\\\n            // Midpage #2 Desktop\\\\n            $(\\\\\\'#ads-midpage-2\\\\\\').show().html(\\\\\\'<ins class=\"adsbygoogle\" \\\\\\\\\\\\n                style=\"display:inline-block;width:100%;height:100px\" \\\\\\\\\\\\n                data-ad-client=\"ca-pub-3581129455196386\" \\\\\\\\\\\\n                data-ad-slot=\"3612761979\"></ins>\\\\\\');\\\\n            window.adsbygoogle.push({});\\\\n        } else {\\\\n            // Mobile Wide #1\\\\n            $(\\\\\\'#ads-mobile-wide-1\\\\\\').show().html(\\\\\\'<ins class=\"adsbygoogle\" \\\\\\\\\\\\n                 style=\"display:inline-block;\" \\\\\\\\\\\\n                 data-ad-client=\"ca-pub-3581129455196386\" \\\\\\\\\\\\n                 data-ad-slot=\"3598866832\" \\\\\\\\\\\\n                 data-ad-format=\"auto\" \\\\\\\\\\\\n                 data-full-width-responsive=\"true\"></ins>\\\\\\');\\\\n            window.adsbygoogle.push({});\\\\n\\\\n            // Midpage #1 Mobile\\\\n            $(\\\\\\'#ads-midpage-1\\\\\\').show().html(\\\\\\'<ins class=\"adsbygoogle\" \\\\\\\\\\\\n                style=\"display:inline-block;\" \\\\\\\\\\\\n                data-ad-client=\"ca-pub-3581129455196386\" \\\\\\\\\\\\n                data-ad-slot=\"4055259883\" \\\\\\\\\\\\n                data-ad-format=\"auto\" \\\\\\\\\\\\n                data-full-width-responsive=\"true\"></ins>\\\\\\');\\\\n            window.adsbygoogle.push({});\\\\n\\\\n            // Midpage #2 Mobile\\\\n            $(\\\\\\'#ads-midpage-2\\\\\\').show().html(\\\\\\'<ins class=\"adsbygoogle\" \\\\\\\\\\\\n\\\\t\\\\t\\\\t\\\\tstyle=\"display:block\" \\\\\\\\\\\\n\\\\t\\\\t\\\\t\\\\tdata-ad-client=\"ca-pub-3581129455196386\" \\\\\\\\\\\\n\\\\t\\\\t\\\\t\\\\tdata-ad-slot=\"4570620425\" \\\\\\\\\\\\n\\\\t\\\\t\\\\t\\\\tdata-ad-format=\"auto\" \\\\\\\\\\\\n\\\\t\\\\t\\\\t\\\\tdata-full-width-responsive=\"true\"></ins>\\\\\\');\\\\n            window.adsbygoogle.push({});\\\\n        }\\\\n    \\',  ,  , \\'\\\\n        $(\\\\\\'.twitchPlay\\\\\\').click(function () {\\\\n            $(this).parent().parent().html(\\\\\\'<iframe src=\"https://player.twitch.tv/?\\\\\\\\\\\\nparent=twitchtracker.com&channel=quackity\" allowfullscreen=\"true\" scrolling=\"no\"></iframe>\\\\\\')\\\\n        });\\\\n    \\',  , \"(function(){window[\\'__CF$cv$params\\']={r:\\'65aae5ab088e2c3a\\',m:\\'2018b5cb3c1da6778138a1cef4d2bdceb294197b-1622911796-1800-Ad4tO/ueHi5GFMwUwnfjFMRuL0mPstLiFwkiUwu4b6Uq9D89kbOJuQRqPJlrw7bRzaJTyse3PQ40LRsUHm2GywSAfc58ZUCZ6B4FwS/hcL1UhzBNXL7GiyXB1DeLhUoc8Q==\\',s:[0xf8c45cf65e,0xeec3d657cc],}})();\",  ]'"
      ]
     },
     "execution_count": 40,
     "metadata": {},
     "output_type": "execute_result"
    }
   ],
   "source": [
    "clean_the_performance(all_divs_str)"
   ]
  },
  {
   "cell_type": "code",
   "execution_count": 179,
   "id": "a3dcc680-70f0-48df-9b07-24b5ab240ea7",
   "metadata": {},
   "outputs": [],
   "source": [
    "#trying to pare more data\n",
    "t = 5\n",
    "def parse_average_stream_2(user):\n",
    "\n",
    "    headers = {'User-Agent': 'Mozilla/5.0 (Platform; Security; OS-or-CPU; Localization; rv:1.4) Gecko/20030624 Netscape/7.1 (ax)'}\n",
    "    url = f\"https://twitchtracker.com/{user}\"\n",
    "    response = requests.get(url, headers=headers)\n",
    "    soup = BeautifulSoup(response.content, 'html.parser')\n",
    "    div_gxsblock = soup.find(\"div\", {\"class\":\"g-x-s-block\"})     \n",
    "    div_tonumber = soup.find(\"div\", {\"class\":\"to-number\"})\n",
    "    time.sleep(5)\n",
    "    \n",
    "    return div_tonumber\n",
    "\n"
   ]
  },
  {
   "cell_type": "code",
   "execution_count": 180,
   "id": "efa3fd50-65b7-461e-8470-728112202f6c",
   "metadata": {},
   "outputs": [
    {
     "data": {
      "text/plain": [
       "<div class=\"to-number\">5370.7</div>"
      ]
     },
     "execution_count": 180,
     "metadata": {},
     "output_type": "execute_result"
    }
   ],
   "source": [
    "parse_average_stream_2(\"Ludwig\")"
   ]
  },
  {
   "cell_type": "code",
   "execution_count": null,
   "id": "b0759f85-75ea-454a-9214-5aa84ff17ac3",
   "metadata": {},
   "outputs": [],
   "source": []
  },
  {
   "cell_type": "code",
   "execution_count": null,
   "id": "9fd2eed2-27e1-4ed8-a980-17ae73fd9c98",
   "metadata": {},
   "outputs": [],
   "source": [
    "  for stat in soup.body.find(\"div\", {\"id\":\"performance-panel\"}).get_text(\" \", strip=True):  #\"div\", {\"class\":\"g-x-s-block\"},     #streamer_performance = soup.find_all(\"div\", {\"span\":True})\n",
    "\n",
    "\n",
    "        print(stat)"
   ]
  }
 ],
 "metadata": {
  "kernelspec": {
   "display_name": "Python 3",
   "language": "python",
   "name": "python3"
  },
  "language_info": {
   "codemirror_mode": {
    "name": "ipython",
    "version": 3
   },
   "file_extension": ".py",
   "mimetype": "text/x-python",
   "name": "python",
   "nbconvert_exporter": "python",
   "pygments_lexer": "ipython3",
   "version": "3.8.6"
  }
 },
 "nbformat": 4,
 "nbformat_minor": 5
}
