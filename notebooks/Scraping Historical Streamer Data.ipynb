{
 "cells": [
  {
   "cell_type": "code",
   "execution_count": 88,
   "id": "212fbdf7",
   "metadata": {
    "ExecuteTime": {
     "end_time": "2021-06-05T07:56:48.956612Z",
     "start_time": "2021-06-05T07:56:48.953512Z"
    }
   },
   "outputs": [],
   "source": [
    "import requests\n",
    "from bs4 import BeautifulSoup\n",
    "import pandas as pd\n",
    "import numpy as np\n",
    "from selenium import webdriver\n",
    "from selenium.webdriver.chrome.options import Options\n",
    "import time"
   ]
  },
  {
   "cell_type": "code",
   "execution_count": 89,
   "id": "0aa19250",
   "metadata": {
    "ExecuteTime": {
     "end_time": "2021-06-05T07:56:49.587429Z",
     "start_time": "2021-06-05T07:56:49.584744Z"
    }
   },
   "outputs": [],
   "source": [
    "import requests\n",
    "from bs4 import BeautifulSoup\n",
    "import pandas as pd"
   ]
  },
  {
   "cell_type": "code",
   "execution_count": 2,
   "id": "089aaf8c",
   "metadata": {
    "ExecuteTime": {
     "end_time": "2021-06-04T22:16:14.047118Z",
     "start_time": "2021-06-04T22:16:14.031485Z"
    }
   },
   "outputs": [],
   "source": [
    "df = pd.read_csv('streamer_df')"
   ]
  },
  {
   "cell_type": "markdown",
   "id": "286e1538",
   "metadata": {},
   "source": [
    "# trying to scrape historical data"
   ]
  },
  {
   "cell_type": "markdown",
   "id": "07bb1308",
   "metadata": {},
   "source": [
    "## Scrape data # ez"
   ]
  },
  {
   "cell_type": "code",
   "execution_count": 130,
   "id": "62f5ebd2",
   "metadata": {
    "ExecuteTime": {
     "end_time": "2021-06-05T08:55:28.079192Z",
     "start_time": "2021-06-05T08:55:28.074423Z"
    }
   },
   "outputs": [],
   "source": [
    "def time_assignment(x):\n",
    "    '''Support function to classify streams by time when they are on air'''\n",
    "    midnight = 24\n",
    "    morning = 6 \n",
    "    noon = 12 \n",
    "    evening = 18\n",
    "    if morning <= x.hour < noon:\n",
    "        return 1\n",
    "    elif noon <= x.hour < evening:\n",
    "        return 2\n",
    "    elif evening <= x.hour < midnight:\n",
    "        return 3\n",
    "    else:\n",
    "        return 0"
   ]
  },
  {
   "cell_type": "code",
   "execution_count": 129,
   "id": "2f229491",
   "metadata": {
    "ExecuteTime": {
     "end_time": "2021-06-05T08:51:59.901995Z",
     "start_time": "2021-06-05T08:51:59.891873Z"
    }
   },
   "outputs": [],
   "source": [
    "def parse_streams(usernames):\n",
    "    '''For all usernames input as a list, retrieve their stats for all streams and classify by daytime'''\n",
    "    import time\n",
    "    t=1\n",
    "    count = 0\n",
    "    df_all = pd.DataFrame(columns=['Stream', 'Duration', 'AVG Viewers', 'MAX Viewers', 'Followers Gain', 'Live Views', 'Title', 'Games', 'User'])\n",
    "    for user in usernames:\n",
    "        count += 1\n",
    "        url = f\"https://twitchtracker.com/{user}/streams\"\n",
    "        headers = {'User-Agent': 'Mozilla/5.0 (Platform; Security; OS-or-CPU; Localization; rv:1.4) Gecko/20030624 Netscape/7.1 (ax)'}\n",
    "        response = requests.get(url, headers=headers)\n",
    "        soup = BeautifulSoup(response.content, \"html.parser\")\n",
    "        df = pd.read_html(str(soup))[0]\n",
    "        df['User'] = f'{user}'\n",
    "        temp_df = pd.concat([df_all, df])\n",
    "\n",
    "        temp_df['Stream'] = pd.to_datetime(temp_df['Stream'])\n",
    "        temp_df['Duration'] = temp_df['Duration'].apply(lambda x: int(x))\n",
    "        temp_df['AVG Viewers'] = temp_df['AVG Viewers'].apply(lambda x: int(x))\n",
    "        temp_df['MAX Viewers'] = temp_df['MAX Viewers'].apply(lambda x: int(x))\n",
    "        temp_df['Followers Gain'] = temp_df['Followers Gain'].apply(lambda x: int(x))\n",
    "        temp_df['Live Views'] = temp_df['Live Views'].apply(lambda x: int(x))\n",
    "        new_dates, new_times = zip(*[(d.date(), d.time()) for d in temp_df['Stream']])\n",
    "        df_clean = temp_df.assign(new_date=new_dates, new_time=new_times)\n",
    "        df_clean = df_clean[['User', 'new_date', 'new_time', 'Duration', 'AVG Viewers', 'MAX Viewers', 'Followers Gain', 'Live Views', 'Title']]\n",
    "        df_clean['daytime_classifier'] = df_clean['new_time'].apply(lambda x: time_assignment(x))\n",
    "        print(count)\n",
    "        time.sleep(t)\n",
    "    return df_clean\n",
    "# df.to_csv(r'/Users/home/code/Awesimous/StarFish/notebooks/top100_streams', index=False)"
   ]
  },
  {
   "cell_type": "code",
   "execution_count": 127,
   "id": "4fcc7ca7",
   "metadata": {
    "ExecuteTime": {
     "end_time": "2021-06-05T08:50:51.654624Z",
     "start_time": "2021-06-05T08:50:44.425343Z"
    }
   },
   "outputs": [
    {
     "name": "stdout",
     "output_type": "stream",
     "text": [
      "1\n"
     ]
    }
   ],
   "source": [
    "temp_df = parse_streams(['agurin'])"
   ]
  },
  {
   "cell_type": "markdown",
   "id": "955855a5",
   "metadata": {},
   "source": [
    "## Trying to match somehow the time of stream with the game on the twitchtracker page"
   ]
  },
  {
   "cell_type": "code",
   "execution_count": 19,
   "id": "23f496a2",
   "metadata": {
    "ExecuteTime": {
     "end_time": "2021-06-05T07:03:00.058000Z",
     "start_time": "2021-06-05T07:03:00.049267Z"
    }
   },
   "outputs": [],
   "source": [
    "# filter for only agurin user\n",
    "agurin = temp_df[temp_df['User'] == 'agurin']\n",
    "\n",
    "zeiten = agurin['Stream'].to_list()\n",
    "\n",
    "zeiten"
   ]
  },
  {
   "cell_type": "code",
   "execution_count": 70,
   "id": "ccb640c9",
   "metadata": {
    "ExecuteTime": {
     "end_time": "2021-06-05T07:37:28.316298Z",
     "start_time": "2021-06-05T07:37:28.041316Z"
    }
   },
   "outputs": [
    {
     "ename": "AttributeError",
     "evalue": "ResultSet object has no attribute 'find'. You're probably treating a list of elements like a single element. Did you call find_all() when you meant to call find()?",
     "output_type": "error",
     "traceback": [
      "\u001b[0;31m---------------------------------------------------------------------------\u001b[0m",
      "\u001b[0;31mAttributeError\u001b[0m                            Traceback (most recent call last)",
      "\u001b[0;32m<ipython-input-70-f94a769e7b88>\u001b[0m in \u001b[0;36m<module>\u001b[0;34m\u001b[0m\n\u001b[1;32m      7\u001b[0m \u001b[0msoup\u001b[0m\u001b[0;34m.\u001b[0m\u001b[0mfindAll\u001b[0m\u001b[0;34m(\u001b[0m\u001b[0;34m'2017-08-14'\u001b[0m\u001b[0;34m)\u001b[0m\u001b[0;34m\u001b[0m\u001b[0;34m\u001b[0m\u001b[0m\n\u001b[1;32m      8\u001b[0m \u001b[0;34m\u001b[0m\u001b[0m\n\u001b[0;32m----> 9\u001b[0;31m \u001b[0msoup\u001b[0m\u001b[0;34m.\u001b[0m\u001b[0mfind_all\u001b[0m\u001b[0;34m(\u001b[0m\u001b[0;34m'a'\u001b[0m\u001b[0;34m)\u001b[0m\u001b[0;34m.\u001b[0m\u001b[0mfind\u001b[0m\u001b[0;34m(\u001b[0m\u001b[0;34m'src'\u001b[0m\u001b[0;34m)\u001b[0m\u001b[0;34m.\u001b[0m\u001b[0mget\u001b[0m\u001b[0;34m(\u001b[0m\u001b[0;34m'title'\u001b[0m\u001b[0;34m)\u001b[0m\u001b[0;34m\u001b[0m\u001b[0;34m\u001b[0m\u001b[0m\n\u001b[0m",
      "\u001b[0;32m~/.pyenv/versions/3.8.6/envs/starfish/lib/python3.8/site-packages/bs4/element.py\u001b[0m in \u001b[0;36m__getattr__\u001b[0;34m(self, key)\u001b[0m\n\u001b[1;32m   2171\u001b[0m     \u001b[0;32mdef\u001b[0m \u001b[0m__getattr__\u001b[0m\u001b[0;34m(\u001b[0m\u001b[0mself\u001b[0m\u001b[0;34m,\u001b[0m \u001b[0mkey\u001b[0m\u001b[0;34m)\u001b[0m\u001b[0;34m:\u001b[0m\u001b[0;34m\u001b[0m\u001b[0;34m\u001b[0m\u001b[0m\n\u001b[1;32m   2172\u001b[0m         \u001b[0;34m\"\"\"Raise a helpful exception to explain a common code fix.\"\"\"\u001b[0m\u001b[0;34m\u001b[0m\u001b[0;34m\u001b[0m\u001b[0m\n\u001b[0;32m-> 2173\u001b[0;31m         raise AttributeError(\n\u001b[0m\u001b[1;32m   2174\u001b[0m             \u001b[0;34m\"ResultSet object has no attribute '%s'. You're probably treating a list of elements like a single element. Did you call find_all() when you meant to call find()?\"\u001b[0m \u001b[0;34m%\u001b[0m \u001b[0mkey\u001b[0m\u001b[0;34m\u001b[0m\u001b[0;34m\u001b[0m\u001b[0m\n\u001b[1;32m   2175\u001b[0m         )\n",
      "\u001b[0;31mAttributeError\u001b[0m: ResultSet object has no attribute 'find'. You're probably treating a list of elements like a single element. Did you call find_all() when you meant to call find()?"
     ]
    }
   ],
   "source": [
    "## not working out ...\n",
    "\n",
    "url = f\"https://twitchtracker.com/agurin/streams\"\n",
    "headers = {'User-Agent': 'Mozilla/5.0 (Platform; Security; OS-or-CPU; Localization; rv:1.4) Gecko/20030624 Netscape/7.1 (ax)'}\n",
    "response = requests.get(url, headers=headers)\n",
    "soup = BeautifulSoup(response.content, \"html.parser\")\n",
    "\n",
    "soup.findAll(class_='games hidden-xs hidden-sm')\n",
    "\n",
    "[img.text for td in soup.find_all('img title', class_='games hidden-xs hidden-sm')]\n",
    "\n",
    "soup.find_all('img title', class_='games hidden-xs hidden-sm')\n",
    "\n",
    "soup.findAll('2017-08-14')\n",
    "\n",
    "soup.find_all('a').find('src').get('title')"
   ]
  },
  {
   "cell_type": "code",
   "execution_count": null,
   "id": "03df1aa3",
   "metadata": {},
   "outputs": [],
   "source": []
  }
 ],
 "metadata": {
  "kernelspec": {
   "display_name": "Python 3",
   "language": "python",
   "name": "python3"
  },
  "language_info": {
   "codemirror_mode": {
    "name": "ipython",
    "version": 3
   },
   "file_extension": ".py",
   "mimetype": "text/x-python",
   "name": "python",
   "nbconvert_exporter": "python",
   "pygments_lexer": "ipython3",
   "version": "3.8.6"
  },
  "toc": {
   "base_numbering": 1,
   "nav_menu": {},
   "number_sections": true,
   "sideBar": true,
   "skip_h1_title": false,
   "title_cell": "Table of Contents",
   "title_sidebar": "Contents",
   "toc_cell": false,
   "toc_position": {},
   "toc_section_display": true,
   "toc_window_display": false
  }
 },
 "nbformat": 4,
 "nbformat_minor": 5
}
