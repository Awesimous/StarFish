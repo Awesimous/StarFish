{
 "cells": [
  {
   "cell_type": "code",
   "execution_count": 3,
   "id": "0aa19250",
   "metadata": {},
   "outputs": [],
   "source": [
    "import requests\n",
    "from bs4 import BeautifulSoup\n",
    "import pandas as pd"
   ]
  },
  {
   "cell_type": "code",
   "execution_count": 4,
   "id": "86fc40d2",
   "metadata": {},
   "outputs": [],
   "source": [
    "pages = range(2,25)\n",
    "url = f\"https://twitchtracker.com/channels/viewership?page=1\"\n",
    "def parse_html(url):\n",
    "    headers = {'User-Agent': 'Mozilla/5.0 (Platform; Security; OS-or-CPU; Localization; rv:1.4) Gecko/20030624 Netscape/7.1 (ax)'}\n",
    "    response = requests.get(url, headers=headers)\n",
    "    soup = BeautifulSoup(response.content, 'html.parser')\n",
    "    df=pd.read_html(str(soup), flavor='bs4')[0]\n",
    "    return df"
   ]
  },
  {
   "cell_type": "code",
   "execution_count": 5,
   "id": "f6e2e1fb",
   "metadata": {},
   "outputs": [
    {
     "name": "stdout",
     "output_type": "stream",
     "text": [
      "2\n",
      "3\n",
      "4\n",
      "5\n",
      "6\n",
      "7\n",
      "8\n",
      "9\n",
      "10\n",
      "11\n",
      "12\n",
      "13\n",
      "14\n",
      "15\n",
      "16\n",
      "17\n",
      "18\n",
      "19\n",
      "20\n",
      "21\n",
      "22\n",
      "23\n",
      "24\n"
     ]
    }
   ],
   "source": [
    "url = \"https://twitchtracker.com/channels/viewership?page=\"\n",
    "def get_data(url, pages):\n",
    "    import time\n",
    "    t=5\n",
    "    df = parse_html(f'{url}=1') # getting the first page\n",
    "    pages = range(2,pages)\n",
    "    for page in pages: # getting all other pages, defined by argument\n",
    "        print(page)\n",
    "        new_df = parse_html(f\"{url}{page}\")\n",
    "        df = df.append(new_df, ignore_index=True)\n",
    "        time.sleep(t)\n",
    "    return df\n",
    "\n",
    "df = get_data(url, 25)"
   ]
  },
  {
   "cell_type": "code",
   "execution_count": 9,
   "id": "3853df95",
   "metadata": {},
   "outputs": [],
   "source": [
    "def streamers_df_cleaning(df):\n",
    "    df = df[df[\"Time Streamed\"].str.contains(\"ads\")==False]\n",
    "    # creating a new column that contains hours where we replace all hours with an emptry string and convert numbers in string to float\n",
    "    df['Time Streamed (in hours)'] = df['Time Streamed'].str.replace('hours','').apply(lambda x: float(x))\n",
    "\n",
    "\n",
    "    # do same thing for hours watched\n",
    "    df['Hours Watched'] = df['Hours Watched'].apply(lambda x: int(x))\n",
    "\n",
    "    # do it for every other columns\n",
    "    df['AVG Viewers'] = df['AVG Viewers'].apply(lambda x: int(x))\n",
    "    df['All Time Peak Viewers'] = df['All Time Peak Viewers'].apply(lambda x: int(x))\n",
    "    df['Total Followers'] = df['Total Followers'].apply(lambda x: int(x))\n",
    "    df['Total Views'] = df['Total Views'].apply(lambda x: int(x))\n",
    "    df['Followers Gained'] = df['Followers Gained'].str.replace('+','').apply(lambda x: int(x))\n",
    "    # check if it worked\n",
    "    df.dtypes\n",
    "\n",
    "    # drop and rename columns\n",
    "    df.drop(columns=['Unnamed: 0', 'Unnamed: 1', 'Time Streamed'], axis=1,inplace=True)\n",
    "    df.rename(columns={'Unnamed: 2':'username'}, inplace=True)\n",
    "\n",
    "    # sort according to importance\n",
    "    df = df[['username', 'AVG Viewers', 'Time Streamed (in hours)', 'Hours Watched', 'Followers Gained', 'Total Followers', 'Total Views', 'All Time Peak Viewers']]\n",
    "    return df"
   ]
  },
  {
   "cell_type": "code",
   "execution_count": 10,
   "id": "70d7fe62",
   "metadata": {
    "scrolled": true
   },
   "outputs": [
    {
     "ename": "NameError",
     "evalue": "name 'streames_df_cleaning' is not defined",
     "output_type": "error",
     "traceback": [
      "\u001b[0;31m---------------------------------------------------------------------------\u001b[0m",
      "\u001b[0;31mNameError\u001b[0m                                 Traceback (most recent call last)",
      "\u001b[0;32m<ipython-input-10-fbe515cef879>\u001b[0m in \u001b[0;36m<module>\u001b[0;34m\u001b[0m\n\u001b[0;32m----> 1\u001b[0;31m \u001b[0mclean_streamers_df\u001b[0m \u001b[0;34m=\u001b[0m \u001b[0mstreames_df_cleaning\u001b[0m\u001b[0;34m(\u001b[0m\u001b[0mdf\u001b[0m\u001b[0;34m)\u001b[0m\u001b[0;34m\u001b[0m\u001b[0;34m\u001b[0m\u001b[0m\n\u001b[0m",
      "\u001b[0;31mNameError\u001b[0m: name 'streames_df_cleaning' is not defined"
     ]
    }
   ],
   "source": [
    "clean_streamers_df = streames_df_cleaning(df)"
   ]
  },
  {
   "cell_type": "code",
   "execution_count": null,
   "id": "44cc7ce9",
   "metadata": {},
   "outputs": [],
   "source": [
    "#get df for every broadcast //done\n",
    "\n",
    "def parse_games_2(user_name):\n",
    "    user_name.lower()\n",
    "    headers = {'User-Agent': 'Mozilla/5.0 (Platform; Security; OS-or-CPU; Localization; rv:1.4) Gecko/20030624 Netscape/7.1 (ax)'}\n",
    "    response = requests.get(url = f\"https://twitchtracker.com/{user_name}/games\", headers=headers)\n",
    "    soup = BeautifulSoup(response.content, \"html.parser\")\n",
    "    df=pd.read_html(str(soup))[0]\n",
    "    return df"
   ]
  },
  {
   "cell_type": "code",
   "execution_count": null,
   "id": "9a98c5b6",
   "metadata": {},
   "outputs": [],
   "source": [
    "quack=parse_games_2('Quackity')"
   ]
  },
  {
   "cell_type": "code",
   "execution_count": null,
   "id": "db8cc200",
   "metadata": {},
   "outputs": [],
   "source": [
    "quack.head()"
   ]
  },
  {
   "cell_type": "code",
   "execution_count": null,
   "id": "b9c0330c",
   "metadata": {},
   "outputs": [],
   "source": [
    "def clean_gamer_df(username):\n",
    "    df=parse_games_2(username)\n",
    "    df[\"Total airtime\"] = df[\"Total airtime\"].astype(str).str[:-1]\n",
    "    df[['Followers per hour', 'to_remove']]=df['Followers'].str.split(' /',expand=True)\n",
    "    df = df.drop(columns=['Followers', 'to_remove'])\n",
    "    df[['Total airtime','Percentage of total airtime']]=df['Total airtime'].str.split(' ',expand=True) \n",
    "    df['Percentage of total airtime'] = df['Percentage of total airtime'].apply(lambda x: float(x))\n",
    "    df['Followers per hour'] = df['Followers per hour'].apply(lambda x: float(x))\n",
    "    df['Last seen'] = pd.to_datetime(df['Last seen'])\n",
    "    df=df.rename(columns={'#':'id'})\n",
    "    df['id']=df['id'].astype(str).str[1]\n",
    "    df=df.set_index('id')\n",
    "    return df"
   ]
  },
  {
   "cell_type": "code",
   "execution_count": null,
   "id": "e42e5a35",
   "metadata": {},
   "outputs": [],
   "source": [
    "clean_gamer_df('Quackity')"
   ]
  },
  {
   "cell_type": "code",
   "execution_count": null,
   "id": "87563f9b",
   "metadata": {},
   "outputs": [],
   "source": []
  }
 ],
 "metadata": {
  "kernelspec": {
   "display_name": "Python 3",
   "language": "python",
   "name": "python3"
  },
  "language_info": {
   "codemirror_mode": {
    "name": "ipython",
    "version": 3
   },
   "file_extension": ".py",
   "mimetype": "text/x-python",
   "name": "python",
   "nbconvert_exporter": "python",
   "pygments_lexer": "ipython3",
   "version": "3.8.6"
  },
  "toc": {
   "base_numbering": 1,
   "nav_menu": {},
   "number_sections": true,
   "sideBar": true,
   "skip_h1_title": false,
   "title_cell": "Table of Contents",
   "title_sidebar": "Contents",
   "toc_cell": false,
   "toc_position": {},
   "toc_section_display": true,
   "toc_window_display": false
  }
 },
 "nbformat": 4,
 "nbformat_minor": 5
}
