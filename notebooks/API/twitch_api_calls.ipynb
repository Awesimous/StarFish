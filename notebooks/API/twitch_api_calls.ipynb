{
 "cells": [
  {
   "cell_type": "code",
   "execution_count": null,
   "id": "1dbe7846-27bc-4148-a9b4-2b64695537bb",
   "metadata": {},
   "outputs": [],
   "source": [
    "import requests\n",
    "from twitchAPI.twitch import Twitch\n",
    "\n",
    "CLIENT_ID     = 'no'\n",
    "CLIENT_SECRET = 'i said no'\n",
    "\n",
    "# Create an instance of the twitch API client\n",
    "twitch = Twitch(CLIENT_ID, CLIENT_SECRET)\n",
    "twitch.authenticate_app([])\n",
    "\n",
    "\n",
    "# Get the ID of the user accessing the resource\n",
    "user_info = twitch.get_users(logins=['Awesimous'])\n",
    "user_id = user_info['data'][0]['id']\n",
    "\n",
    "\n",
    "def authorize(client_id = CLIENT_ID, client_secret = CLIENT_SECRET):\n",
    "    '''Get OAuth token'''\n",
    "    x = requests.post(f\"https://id.twitch.tv/oauth2/token?client_id={client_id}&client_secret={client_secret}&grant_type=client_credentials\")\n",
    "    x = x.json()\n",
    "    token = x[\"access_token\"]\n",
    "    return token\n",
    "\n",
    "def request(api_endpoint, headers, params):\n",
    "    '''Return a resource as json'''\n",
    "    response = requests.get(url = api_endpoint, headers = headers, params = params).json()\n",
    "    return response"
   ]
  },
  {
   "cell_type": "code",
   "execution_count": null,
   "id": "01670d4d-99c4-4f0a-aee0-46db7354108d",
   "metadata": {},
   "outputs": [],
   "source": [
    "# Get the user token\n",
    "token = authorize()"
   ]
  },
  {
   "cell_type": "code",
   "execution_count": null,
   "id": "87a95859-e344-45a6-9ed2-7d74686804c8",
   "metadata": {},
   "outputs": [],
   "source": [
    "# Define the endpoint for the \"Search Categories\" resource\n",
    "base_uri = 'https://api.twitch.tv/helix/'\n",
    "\n",
    "\n",
    "API_ENDPOINT = base_uri + 'search/channels'\n",
    "\n",
    "# Define the parameters of the call\n",
    "params = {\n",
    "        'query': 'DanGheesling',\n",
    "        'first': 1\n",
    "    }\n",
    "\n",
    "# Use the token to \"authenticate\"\n",
    "headers = {\n",
    "        'Client-ID' : CLIENT_ID,\n",
    "        'Authorization': f'Bearer {token}'\n",
    "    }\n",
    "\n",
    "\n",
    "response = request(API_ENDPOINT, headers, params)\n",
    "\n",
    "response\n",
    "# Quill18: 18219250\n",
    "# Northernlion: 14371185\n",
    "# DanGheesling: 30923466"
   ]
  },
  {
   "cell_type": "code",
   "execution_count": null,
   "id": "3377161c-772e-4e44-b9cf-ececec1cd24b",
   "metadata": {},
   "outputs": [],
   "source": [
    "API_ENDPOINT = base_uri + 'teams/channel'\n",
    "\n",
    "# Define the parameters of the call\n",
    "params = {\n",
    "       'broadcaster_id': '30923466'\n",
    "    }\n",
    "\n",
    "# Use the token to \"authenticate\"\n",
    "headers = {\n",
    "        'Client-ID' : CLIENT_ID,\n",
    "        'Authorization': f'Bearer {token}'\n",
    "    }\n",
    "\n",
    "response = request(API_ENDPOINT, headers, params)\n",
    "\n",
    "response"
   ]
  },
  {
   "cell_type": "code",
   "execution_count": null,
   "id": "7e3b7c72-f0d5-4bf3-b8ba-f94f3a42ab97",
   "metadata": {},
   "outputs": [],
   "source": [
    "API_ENDPOINT, token, headers, params, CLIENT_SECRET"
   ]
  },
  {
   "cell_type": "code",
   "execution_count": null,
   "id": "4c0fc481-971c-4360-bb93-3637867da1ab",
   "metadata": {},
   "outputs": [],
   "source": []
  }
 ],
 "metadata": {
  "kernelspec": {
   "display_name": "Python 3",
   "language": "python",
   "name": "python3"
  },
  "language_info": {
   "codemirror_mode": {
    "name": "ipython",
    "version": 3
   },
   "file_extension": ".py",
   "mimetype": "text/x-python",
   "name": "python",
   "nbconvert_exporter": "python",
   "pygments_lexer": "ipython3",
   "version": "3.8.6"
  }
 },
 "nbformat": 4,
 "nbformat_minor": 5
}
