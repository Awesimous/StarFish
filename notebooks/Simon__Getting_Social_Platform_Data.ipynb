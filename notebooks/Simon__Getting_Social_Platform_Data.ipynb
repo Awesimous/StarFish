{
 "cells": [
  {
   "cell_type": "code",
   "execution_count": 2,
   "id": "66d49bb3",
   "metadata": {
    "ExecuteTime": {
     "end_time": "2021-06-03T11:17:48.983385Z",
     "start_time": "2021-06-03T11:17:48.927405Z"
    }
   },
   "outputs": [],
   "source": [
    "import requests\n",
    "from bs4 import BeautifulSoup\n",
    "import pandas as pd\n",
    "import numpy as np\n",
    "from selenium import webdriver\n",
    "from selenium.webdriver.chrome.options import Options\n",
    "import time"
   ]
  },
  {
   "cell_type": "code",
   "execution_count": 3,
   "id": "2320b3b4",
   "metadata": {
    "ExecuteTime": {
     "end_time": "2021-06-03T11:17:50.428316Z",
     "start_time": "2021-06-03T11:17:50.413935Z"
    }
   },
   "outputs": [],
   "source": [
    "df = pd.read_csv('streamer_df')"
   ]
  },
  {
   "cell_type": "code",
   "execution_count": 33,
   "id": "b8a02f71",
   "metadata": {
    "ExecuteTime": {
     "end_time": "2021-06-03T13:45:09.850280Z",
     "start_time": "2021-06-03T13:45:09.802863Z"
    }
   },
   "outputs": [],
   "source": [
    "def get_data(url, pages):\n",
    "    import time\n",
    "    t=5\n",
    "    df = parse_html(f'{url}=1') # getting the first page\n",
    "    pages = range(2,pages)\n",
    "    for page in pages: # getting all other pages, defined by argument\n",
    "        print(page)\n",
    "        new_df = parse_html(f\"{url}{page}\")\n",
    "        df = df.append(new_df, ignore_index=True)\n",
    "        time.sleep(t)\n",
    "    return df\n",
    "\n",
    "def parse_html(url):\n",
    "    headers = {'User-Agent': 'Mozilla/5.0 (Platform; Security; OS-or-CPU; Localization; rv:1.4) Gecko/20030624 Netscape/7.1 (ax)'}\n",
    "    response = requests.get(url, headers=headers)\n",
    "    soup = BeautifulSoup(response.content, 'html.parser')\n",
    "    df=pd.read_html(str(soup), flavor='bs4')[0]\n",
    "    return df\n",
    "\n",
    "# creates a dataframe for social media plattforms scraped from twitch for a given df with usernames in it\n",
    "def get_social(df):\n",
    "    ''' this function scrapes the URL to youtube and twitter for a username-list'''\n",
    "    import time\n",
    "    t=5\n",
    "    usernames = df.username.to_list()\n",
    "    options = webdriver.ChromeOptions()\n",
    "    options.binary_location = \"/Applications/Google Chrome.app/Contents/MacOS/Google Chrome\"\n",
    "    chrome_driver_binary = \"/Users/frckles/drivers/chromedriver\"\n",
    "    dict = {}\n",
    "    for user in usernames:\n",
    "        URL= f'https://www.twitch.tv/{user}/about'\n",
    "        driver = webdriver.Chrome(chrome_driver_binary, chrome_options=options)\n",
    "        driver.get(URL)\n",
    "        soup=BeautifulSoup(driver.page_source)\n",
    "        twitter = list(set([a[\"href\"].lower() for a in soup.find_all(\"a\", href=True) if \"twitter.com/\" in a[\"href\"]]))\n",
    "        youtube = list(set([a[\"href\"] for a in soup.find_all(\"a\", href=True) if \"youtube.com/\" in a[\"href\"]]))\n",
    "        instagram = list(set([a[\"href\"].lower() for a in soup.find_all(\"a\", href=True) if \"instagram\" in a[\"href\"]]))\n",
    "        discord = list(set([a[\"href\"].lower() for a in soup.find_all(\"a\", href=True) if \"discord\" in a[\"href\"]]))\n",
    "        if twitter:\n",
    "            twitter = twitter[0]\n",
    "        if instagram:\n",
    "            instagram = instagram[0]\n",
    "        if discord:\n",
    "            discord = discord[0]\n",
    "        dict[user] = [twitter, youtube, instagram, discord]\n",
    "        time.sleep(t)\n",
    "    df = pd.DataFrame.from_dict(dict, orient='index')\n",
    "    df['Twitter'] = df[0].apply(lambda x: None if x == [] else x)\n",
    "    df['YouTube'] = df[1].apply(lambda x: None if x == [] else x)\n",
    "    df['Instagram'] = df[2].apply(lambda x: None if x == [] else x)\n",
    "    df['Discord'] = df[3].apply(lambda x: None if x == [] else x)\n",
    "    df.index.name = 'username'\n",
    "    df = df.reset_index()\n",
    "    return df[['username', 'Twitter', 'YouTube', 'Instagram', 'Discord']]\n",
    "\n",
    "# transfer stuff to csv\n",
    "# df.to_csv(r'/Users/home/code/Awesimous/StarFish/notebooks/put_name', index=False)"
   ]
  },
  {
   "cell_type": "code",
   "execution_count": 36,
   "id": "43914641",
   "metadata": {
    "ExecuteTime": {
     "end_time": "2021-06-03T13:45:44.002776Z",
     "start_time": "2021-06-03T13:45:11.617395Z"
    }
   },
   "outputs": [
    {
     "name": "stderr",
     "output_type": "stream",
     "text": [
      "<ipython-input-33-559cea6ad27e>:32: DeprecationWarning: use options instead of chrome_options\n",
      "  driver = webdriver.Chrome(chrome_driver_binary, chrome_options=options)\n"
     ]
    }
   ],
   "source": [
    "socials = get_social(df.head(10))"
   ]
  },
  {
   "cell_type": "code",
   "execution_count": 37,
   "id": "c701f150",
   "metadata": {
    "ExecuteTime": {
     "end_time": "2021-06-03T13:49:31.660910Z",
     "start_time": "2021-06-03T13:49:31.641612Z"
    }
   },
   "outputs": [
    {
     "data": {
      "text/html": [
       "<div>\n",
       "<style scoped>\n",
       "    .dataframe tbody tr th:only-of-type {\n",
       "        vertical-align: middle;\n",
       "    }\n",
       "\n",
       "    .dataframe tbody tr th {\n",
       "        vertical-align: top;\n",
       "    }\n",
       "\n",
       "    .dataframe thead th {\n",
       "        text-align: right;\n",
       "    }\n",
       "</style>\n",
       "<table border=\"1\" class=\"dataframe\">\n",
       "  <thead>\n",
       "    <tr style=\"text-align: right;\">\n",
       "      <th></th>\n",
       "      <th>username</th>\n",
       "      <th>Twitter</th>\n",
       "      <th>YouTube</th>\n",
       "      <th>Instagram</th>\n",
       "      <th>Discord</th>\n",
       "    </tr>\n",
       "  </thead>\n",
       "  <tbody>\n",
       "    <tr>\n",
       "      <th>0</th>\n",
       "      <td>tommyinnit</td>\n",
       "      <td>https://twitter.com/tommyinnit</td>\n",
       "      <td>None</td>\n",
       "      <td>https://www.instagram.com/tommyinnitt/</td>\n",
       "      <td>https://discord.gg/an6rt4d</td>\n",
       "    </tr>\n",
       "    <tr>\n",
       "      <th>1</th>\n",
       "      <td>Quackity</td>\n",
       "      <td>https://twitter.com/quackity</td>\n",
       "      <td>[https://www.youtube.com/user/QuackityHQ, http...</td>\n",
       "      <td>https://www.instagram.com/quackity/?hl=en</td>\n",
       "      <td>https://www.discord.gg/quackity</td>\n",
       "    </tr>\n",
       "    <tr>\n",
       "      <th>2</th>\n",
       "      <td>Sapnap</td>\n",
       "      <td>https://twitter.com/sapnap</td>\n",
       "      <td>[https://www.youtube.com/sapnap, https://www.y...</td>\n",
       "      <td>https://www.instagram.com/sapnapinsta/</td>\n",
       "      <td>https://discord.gg/qwmnrnp</td>\n",
       "    </tr>\n",
       "    <tr>\n",
       "      <th>3</th>\n",
       "      <td>auronplay</td>\n",
       "      <td>https://twitter.com/auronplay</td>\n",
       "      <td>[https://www.youtube.com/channel/UCFR2oaNj02Wn...</td>\n",
       "      <td>https://www.instagram.com/auronplay/</td>\n",
       "      <td>None</td>\n",
       "    </tr>\n",
       "    <tr>\n",
       "      <th>4</th>\n",
       "      <td>xQcOW</td>\n",
       "      <td>https://twitter.com/xqc</td>\n",
       "      <td>[https://www.youtube.com/channel/UCmDTrq0LNgPo...</td>\n",
       "      <td>None</td>\n",
       "      <td>https://discord.gg/xqcow</td>\n",
       "    </tr>\n",
       "    <tr>\n",
       "      <th>5</th>\n",
       "      <td>AdinRoss</td>\n",
       "      <td>https://twitter.com/adinross</td>\n",
       "      <td>[https://www.youtube.com/channel/UCpq0Ou2ObQr-...</td>\n",
       "      <td>https://www.instagram.com/adin.ross</td>\n",
       "      <td>None</td>\n",
       "    </tr>\n",
       "    <tr>\n",
       "      <th>6</th>\n",
       "      <td>WilburSoot</td>\n",
       "      <td>None</td>\n",
       "      <td>None</td>\n",
       "      <td>None</td>\n",
       "      <td>None</td>\n",
       "    </tr>\n",
       "    <tr>\n",
       "      <th>7</th>\n",
       "      <td>ibai</td>\n",
       "      <td>https://twitter.com/ibaillanos</td>\n",
       "      <td>[https://www.youtube.com/channel/UCaY_-ksFSQtT...</td>\n",
       "      <td>https://www.instagram.com/ibaillanos/</td>\n",
       "      <td>None</td>\n",
       "    </tr>\n",
       "    <tr>\n",
       "      <th>8</th>\n",
       "      <td>Tubbo</td>\n",
       "      <td>https://twitter.com/tubbolive</td>\n",
       "      <td>[https://www.youtube.com/tubbo, https://www.yo...</td>\n",
       "      <td>None</td>\n",
       "      <td>https://discord.gg/tubbo</td>\n",
       "    </tr>\n",
       "    <tr>\n",
       "      <th>9</th>\n",
       "      <td>LCK_Korea</td>\n",
       "      <td>None</td>\n",
       "      <td>[https://www.youtube.com/channel/UCw1DsweY9b2A...</td>\n",
       "      <td>https://www.instagram.com/lckofficial/?hl=ko</td>\n",
       "      <td>None</td>\n",
       "    </tr>\n",
       "  </tbody>\n",
       "</table>\n",
       "</div>"
      ],
      "text/plain": [
       "     username                         Twitter  \\\n",
       "0  tommyinnit  https://twitter.com/tommyinnit   \n",
       "1    Quackity    https://twitter.com/quackity   \n",
       "2      Sapnap      https://twitter.com/sapnap   \n",
       "3   auronplay   https://twitter.com/auronplay   \n",
       "4       xQcOW         https://twitter.com/xqc   \n",
       "5    AdinRoss    https://twitter.com/adinross   \n",
       "6  WilburSoot                            None   \n",
       "7        ibai  https://twitter.com/ibaillanos   \n",
       "8       Tubbo   https://twitter.com/tubbolive   \n",
       "9   LCK_Korea                            None   \n",
       "\n",
       "                                             YouTube  \\\n",
       "0                                               None   \n",
       "1  [https://www.youtube.com/user/QuackityHQ, http...   \n",
       "2  [https://www.youtube.com/sapnap, https://www.y...   \n",
       "3  [https://www.youtube.com/channel/UCFR2oaNj02Wn...   \n",
       "4  [https://www.youtube.com/channel/UCmDTrq0LNgPo...   \n",
       "5  [https://www.youtube.com/channel/UCpq0Ou2ObQr-...   \n",
       "6                                               None   \n",
       "7  [https://www.youtube.com/channel/UCaY_-ksFSQtT...   \n",
       "8  [https://www.youtube.com/tubbo, https://www.yo...   \n",
       "9  [https://www.youtube.com/channel/UCw1DsweY9b2A...   \n",
       "\n",
       "                                      Instagram  \\\n",
       "0        https://www.instagram.com/tommyinnitt/   \n",
       "1     https://www.instagram.com/quackity/?hl=en   \n",
       "2        https://www.instagram.com/sapnapinsta/   \n",
       "3          https://www.instagram.com/auronplay/   \n",
       "4                                          None   \n",
       "5           https://www.instagram.com/adin.ross   \n",
       "6                                          None   \n",
       "7         https://www.instagram.com/ibaillanos/   \n",
       "8                                          None   \n",
       "9  https://www.instagram.com/lckofficial/?hl=ko   \n",
       "\n",
       "                           Discord  \n",
       "0       https://discord.gg/an6rt4d  \n",
       "1  https://www.discord.gg/quackity  \n",
       "2       https://discord.gg/qwmnrnp  \n",
       "3                             None  \n",
       "4         https://discord.gg/xqcow  \n",
       "5                             None  \n",
       "6                             None  \n",
       "7                             None  \n",
       "8         https://discord.gg/tubbo  \n",
       "9                             None  "
      ]
     },
     "execution_count": 37,
     "metadata": {},
     "output_type": "execute_result"
    }
   ],
   "source": [
    "df_socs = socials.copy()\n",
    "df_socs"
   ]
  },
  {
   "cell_type": "code",
   "execution_count": 40,
   "id": "c77d640d-e94b-492b-a4a6-53cdade8885c",
   "metadata": {},
   "outputs": [
    {
     "data": {
      "text/plain": [
       "['https://www.youtube.com/user/QuackityHQ',\n",
       " 'http://youtube.com/c/Quackitwo',\n",
       " 'https://www.youtube.com/channel/UCFbZ2e9IrPejOdp8wsKUxvA/',\n",
       " 'https://www.youtube.com/c/Quackity']"
      ]
     },
     "execution_count": 40,
     "metadata": {},
     "output_type": "execute_result"
    }
   ],
   "source": [
    "df_socs['YouTube'][1]"
   ]
  },
  {
   "cell_type": "code",
   "execution_count": 61,
   "id": "d5a38e68-92f3-4677-ae1b-c5502c3f3a55",
   "metadata": {},
   "outputs": [],
   "source": [
    "test_link =  ['https://www.youtube.com/channel/UCFbZ2e9IrPejOdp8wsKUxvA?view=srkgjsef&loc=xmisland','https://www.youtube.com/channel/UCFbZ2e9IrPejOdp8IM-FAKE?view=srkgjsef&loc=xmisland',  'https://www.youtube.com/channel/short_boi?view=srkgjsef&loc=xmisland']"
   ]
  },
  {
   "cell_type": "code",
   "execution_count": 86,
   "id": "232de153-e3bd-4e24-8026-a52128bf7650",
   "metadata": {},
   "outputs": [],
   "source": [
    "def get_social_id(link):\n",
    "    '''Extract streamer identifier at the end of their social media links'''\n",
    "    if link[-1] == '/':\n",
    "        link = link[:-1]\n",
    "    start = link.rfind('/')\n",
    "    id = link[start + 1:]\n",
    "\n",
    "    return id\n",
    "\n",
    "def get_yt_channel_id(links):\n",
    "    '''Return the first genuine yt channel id in a list of yt links'''\n",
    "    if not links:\n",
    "        return None\n",
    "    channel_id = None\n",
    "    for link in links:\n",
    "        link = link.split('?')[0]\n",
    "        print(link)\n",
    "        id = get_social_id(link)\n",
    "        if len(id) == 24:\n",
    "            channel_id = id\n",
    "            break\n",
    "    \n",
    "    return channel_id\n",
    "\n",
    "\n",
    "def parse_streamer_socials(socials_df):\n",
    "    '''Return a dataframe with relevant ids per treamer and platform'''\n",
    "    for (column_name, column_data) in socials_df.iteritems():\n",
    "        if column_name != 'Discord':\n",
    "            if column_name == 'YouTube':\n",
    "                socials_df[column_name] = socials_df[column_name].apply(get_yt_channel_id)\n",
    "            socials_df[column_name] = column_data.apply(lambda x: get_social_id(x) if x else None)\n",
    "            \n",
    "        \n",
    "    return socials_df"
   ]
  },
  {
   "cell_type": "code",
   "execution_count": 87,
   "id": "976ee366-e896-4b7d-ad72-420198c08781",
   "metadata": {},
   "outputs": [
    {
     "name": "stdout",
     "output_type": "stream",
     "text": [
      "https://www.youtube.com/channel/UCFbZ2e9IrPejOdp8wsKUxvA\n"
     ]
    },
    {
     "data": {
      "text/plain": [
       "'UCFbZ2e9IrPejOdp8wsKUxvA'"
      ]
     },
     "execution_count": 87,
     "metadata": {},
     "output_type": "execute_result"
    }
   ],
   "source": [
    "get_yt_channel_id(test_link)"
   ]
  },
  {
   "cell_type": "code",
   "execution_count": 88,
   "id": "65f64040-a6d3-4cb6-a854-36d7d98b01a4",
   "metadata": {},
   "outputs": [
    {
     "name": "stdout",
     "output_type": "stream",
     "text": [
      "https://www.youtube.com/user/QuackityHQ\n",
      "http://youtube.com/c/Quackitwo\n",
      "https://www.youtube.com/channel/UCFbZ2e9IrPejOdp8wsKUxvA/\n",
      "https://www.youtube.com/sapnap\n",
      "https://www.youtube.com/channel/UCEKH2P285Qylr60_e32Xn_g\n",
      "https://www.youtube.com/channel/UCFR2oaNj02WnXkOgLH0iqOA\n",
      "https://www.youtube.com/channel/UCmDTrq0LNgPodDOFZiSbsww\n",
      "https://www.youtube.com/channel/UCpq0Ou2ObQr-LbTB6hsl8BA\n",
      "https://www.youtube.com/channel/UCaY_-ksFSQtTGk0y1HA_3YQ\n",
      "https://www.youtube.com/tubbo\n",
      "https://www.youtube.com/channel/UCAz5JW1_oryewk0eR-eP7Bw\n",
      "https://www.youtube.com/channel/UCw1DsweY9b2AKGjV4kGJP1A\n"
     ]
    },
    {
     "data": {
      "text/html": [
       "<div>\n",
       "<style scoped>\n",
       "    .dataframe tbody tr th:only-of-type {\n",
       "        vertical-align: middle;\n",
       "    }\n",
       "\n",
       "    .dataframe tbody tr th {\n",
       "        vertical-align: top;\n",
       "    }\n",
       "\n",
       "    .dataframe thead th {\n",
       "        text-align: right;\n",
       "    }\n",
       "</style>\n",
       "<table border=\"1\" class=\"dataframe\">\n",
       "  <thead>\n",
       "    <tr style=\"text-align: right;\">\n",
       "      <th></th>\n",
       "      <th>username</th>\n",
       "      <th>Twitter</th>\n",
       "      <th>YouTube</th>\n",
       "      <th>Instagram</th>\n",
       "      <th>Discord</th>\n",
       "    </tr>\n",
       "  </thead>\n",
       "  <tbody>\n",
       "    <tr>\n",
       "      <th>0</th>\n",
       "      <td>tommyinnit</td>\n",
       "      <td>tommyinnit</td>\n",
       "      <td>None</td>\n",
       "      <td>tommyinnitt</td>\n",
       "      <td>https://discord.gg/an6rt4d</td>\n",
       "    </tr>\n",
       "    <tr>\n",
       "      <th>1</th>\n",
       "      <td>Quackity</td>\n",
       "      <td>quackity</td>\n",
       "      <td>UCFbZ2e9IrPejOdp8wsKUxvA</td>\n",
       "      <td>?hl=en</td>\n",
       "      <td>https://www.discord.gg/quackity</td>\n",
       "    </tr>\n",
       "    <tr>\n",
       "      <th>2</th>\n",
       "      <td>Sapnap</td>\n",
       "      <td>sapnap</td>\n",
       "      <td>UCEKH2P285Qylr60_e32Xn_g</td>\n",
       "      <td>sapnapinsta</td>\n",
       "      <td>https://discord.gg/qwmnrnp</td>\n",
       "    </tr>\n",
       "    <tr>\n",
       "      <th>3</th>\n",
       "      <td>auronplay</td>\n",
       "      <td>auronplay</td>\n",
       "      <td>UCFR2oaNj02WnXkOgLH0iqOA</td>\n",
       "      <td>auronplay</td>\n",
       "      <td>None</td>\n",
       "    </tr>\n",
       "    <tr>\n",
       "      <th>4</th>\n",
       "      <td>xQcOW</td>\n",
       "      <td>xqc</td>\n",
       "      <td>UCmDTrq0LNgPodDOFZiSbsww</td>\n",
       "      <td>None</td>\n",
       "      <td>https://discord.gg/xqcow</td>\n",
       "    </tr>\n",
       "    <tr>\n",
       "      <th>5</th>\n",
       "      <td>AdinRoss</td>\n",
       "      <td>adinross</td>\n",
       "      <td>UCpq0Ou2ObQr-LbTB6hsl8BA</td>\n",
       "      <td>adin.ross</td>\n",
       "      <td>None</td>\n",
       "    </tr>\n",
       "    <tr>\n",
       "      <th>6</th>\n",
       "      <td>WilburSoot</td>\n",
       "      <td>None</td>\n",
       "      <td>None</td>\n",
       "      <td>None</td>\n",
       "      <td>None</td>\n",
       "    </tr>\n",
       "    <tr>\n",
       "      <th>7</th>\n",
       "      <td>ibai</td>\n",
       "      <td>ibaillanos</td>\n",
       "      <td>UCaY_-ksFSQtTGk0y1HA_3YQ</td>\n",
       "      <td>ibaillanos</td>\n",
       "      <td>None</td>\n",
       "    </tr>\n",
       "    <tr>\n",
       "      <th>8</th>\n",
       "      <td>Tubbo</td>\n",
       "      <td>tubbolive</td>\n",
       "      <td>UCAz5JW1_oryewk0eR-eP7Bw</td>\n",
       "      <td>None</td>\n",
       "      <td>https://discord.gg/tubbo</td>\n",
       "    </tr>\n",
       "    <tr>\n",
       "      <th>9</th>\n",
       "      <td>LCK_Korea</td>\n",
       "      <td>None</td>\n",
       "      <td>UCw1DsweY9b2AKGjV4kGJP1A</td>\n",
       "      <td>?hl=ko</td>\n",
       "      <td>None</td>\n",
       "    </tr>\n",
       "  </tbody>\n",
       "</table>\n",
       "</div>"
      ],
      "text/plain": [
       "     username     Twitter                   YouTube    Instagram  \\\n",
       "0  tommyinnit  tommyinnit                      None  tommyinnitt   \n",
       "1    Quackity    quackity  UCFbZ2e9IrPejOdp8wsKUxvA       ?hl=en   \n",
       "2      Sapnap      sapnap  UCEKH2P285Qylr60_e32Xn_g  sapnapinsta   \n",
       "3   auronplay   auronplay  UCFR2oaNj02WnXkOgLH0iqOA    auronplay   \n",
       "4       xQcOW         xqc  UCmDTrq0LNgPodDOFZiSbsww         None   \n",
       "5    AdinRoss    adinross  UCpq0Ou2ObQr-LbTB6hsl8BA    adin.ross   \n",
       "6  WilburSoot        None                      None         None   \n",
       "7        ibai  ibaillanos  UCaY_-ksFSQtTGk0y1HA_3YQ   ibaillanos   \n",
       "8       Tubbo   tubbolive  UCAz5JW1_oryewk0eR-eP7Bw         None   \n",
       "9   LCK_Korea        None  UCw1DsweY9b2AKGjV4kGJP1A       ?hl=ko   \n",
       "\n",
       "                           Discord  \n",
       "0       https://discord.gg/an6rt4d  \n",
       "1  https://www.discord.gg/quackity  \n",
       "2       https://discord.gg/qwmnrnp  \n",
       "3                             None  \n",
       "4         https://discord.gg/xqcow  \n",
       "5                             None  \n",
       "6                             None  \n",
       "7                             None  \n",
       "8         https://discord.gg/tubbo  \n",
       "9                             None  "
      ]
     },
     "execution_count": 88,
     "metadata": {},
     "output_type": "execute_result"
    }
   ],
   "source": [
    "parse_streamer_socials(df_socs)"
   ]
  },
  {
   "cell_type": "markdown",
   "id": "16f92789-db13-4caf-8855-6e562d774b0d",
   "metadata": {},
   "source": [
    "TODO: Insta ids need attention!!"
   ]
  }
 ],
 "metadata": {
  "kernelspec": {
   "display_name": "Python 3",
   "language": "python",
   "name": "python3"
  },
  "language_info": {
   "codemirror_mode": {
    "name": "ipython",
    "version": 3
   },
   "file_extension": ".py",
   "mimetype": "text/x-python",
   "name": "python",
   "nbconvert_exporter": "python",
   "pygments_lexer": "ipython3",
   "version": "3.8.6"
  },
  "toc": {
   "base_numbering": 1,
   "nav_menu": {},
   "number_sections": true,
   "sideBar": true,
   "skip_h1_title": false,
   "title_cell": "Table of Contents",
   "title_sidebar": "Contents",
   "toc_cell": false,
   "toc_position": {},
   "toc_section_display": true,
   "toc_window_display": false
  }
 },
 "nbformat": 4,
 "nbformat_minor": 5
}
