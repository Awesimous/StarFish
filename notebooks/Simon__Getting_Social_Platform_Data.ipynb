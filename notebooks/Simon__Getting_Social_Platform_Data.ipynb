{
 "cells": [
  {
   "cell_type": "code",
   "execution_count": 5,
   "id": "66d49bb3",
   "metadata": {
    "ExecuteTime": {
     "end_time": "2021-06-03T11:17:48.983385Z",
     "start_time": "2021-06-03T11:17:48.927405Z"
    }
   },
   "outputs": [],
   "source": [
    "import requests\n",
    "from bs4 import BeautifulSoup\n",
    "import pandas as pd\n",
    "import numpy as np\n",
    "from selenium import webdriver\n",
    "from selenium.webdriver.chrome.options import Options\n",
    "import time"
   ]
  },
  {
   "cell_type": "code",
   "execution_count": 6,
   "id": "2320b3b4",
   "metadata": {
    "ExecuteTime": {
     "end_time": "2021-06-03T11:17:50.428316Z",
     "start_time": "2021-06-03T11:17:50.413935Z"
    }
   },
   "outputs": [],
   "source": [
    "df = pd.read_csv('streamer_df')"
   ]
  },
  {
   "cell_type": "code",
   "execution_count": 148,
   "id": "b8a02f71",
   "metadata": {
    "ExecuteTime": {
     "end_time": "2021-06-03T13:45:09.850280Z",
     "start_time": "2021-06-03T13:45:09.802863Z"
    }
   },
   "outputs": [],
   "source": [
    "def get_data(url, pages):\n",
    "    import time\n",
    "    t=5\n",
    "    df = parse_html(f'{url}=1') # getting the first page\n",
    "    pages = range(2,pages)\n",
    "    for page in pages: # getting all other pages, defined by argument\n",
    "        print(page)\n",
    "        new_df = parse_html(f\"{url}{page}\")\n",
    "        df = df.append(new_df, ignore_index=True)\n",
    "        time.sleep(t)\n",
    "    return df\n",
    "\n",
    "def parse_html(url):\n",
    "    headers = {'User-Agent': 'Mozilla/5.0 (Platform; Security; OS-or-CPU; Localization; rv:1.4) Gecko/20030624 Netscape/7.1 (ax)'}\n",
    "    response = requests.get(url, headers=headers)\n",
    "    soup = BeautifulSoup(response.content, 'html.parser')\n",
    "    df=pd.read_html(str(soup), flavor='bs4')[0]\n",
    "    return df\n",
    "\n",
    "# creates a dataframe for social media plattforms scraped from twitch for a given df with usernames in it\n",
    "def get_social(df):\n",
    "    ''' this function scrapes the URL to youtube and twitter for a username-list'''\n",
    "    import time\n",
    "    t=5\n",
    "    usernames = df.username.to_list()\n",
    "    options = webdriver.ChromeOptions()\n",
    "    options.binary_location = \"/Applications/Google Chrome.app/Contents/MacOS/Google Chrome\"\n",
    "    chrome_driver_binary = \"/Users/frckles/drivers/chromedriver\"\n",
    "    dict = {}\n",
    "    for user in usernames:\n",
    "        URL= f'https://www.twitch.tv/{user}/about'\n",
    "        driver = webdriver.Chrome(chrome_driver_binary, chrome_options=options)\n",
    "        driver.get(URL)\n",
    "        soup=BeautifulSoup(driver.page_source)\n",
    "        twitter = list(set([a[\"href\"].lower() for a in soup.find_all(\"a\", href=True) if \"twitter.com/\" in a[\"href\"]]))\n",
    "        youtube = list(set([a[\"href\"].lower() for a in soup.find_all(\"a\", href=True) if \"youtube.com/\" in a[\"href\"]]))\n",
    "        instagram = list(set([a[\"href\"].lower() for a in soup.find_all(\"a\", href=True) if \"instagram\" in a[\"href\"]]))\n",
    "        discord = list(set([a[\"href\"].lower() for a in soup.find_all(\"a\", href=True) if \"discord\" in a[\"href\"]]))\n",
    "        if twitter:\n",
    "            twitter = twitter[0]\n",
    "        if youtube:\n",
    "            youtube = youtube[0]\n",
    "        if instagram:\n",
    "            instagram = instagram[0]\n",
    "        if discord:\n",
    "            discord = discord[0]\n",
    "        dict[user] = [twitter, youtube, instagram, discord]\n",
    "        time.sleep(t)\n",
    "    df = pd.DataFrame.from_dict(dict, orient='index')\n",
    "    df['Twitter'] = df[0].apply(lambda x: None if x == [] else x)\n",
    "    df['YouTube'] = df[1].apply(lambda x: None if x == [] else x)\n",
    "    df['Instagram'] = df[2].apply(lambda x: None if x == [] else x)\n",
    "    df['Discord'] = df[3].apply(lambda x: None if x == [] else x)\n",
    "    df.index.name = 'username'\n",
    "    df = df.reset_index()\n",
    "    return df[['username', 'Twitter', 'YouTube', 'Instagram', 'Discord']]\n",
    "\n",
    "# transfer stuff to csv\n",
    "# df.to_csv(r'/Users/home/code/Awesimous/StarFish/notebooks/put_name', index=False)"
   ]
  },
  {
   "cell_type": "code",
   "execution_count": 149,
   "id": "43914641",
   "metadata": {
    "ExecuteTime": {
     "end_time": "2021-06-03T13:45:44.002776Z",
     "start_time": "2021-06-03T13:45:11.617395Z"
    }
   },
   "outputs": [
    {
     "name": "stderr",
     "output_type": "stream",
     "text": [
      "<ipython-input-148-1de47f7e76cf>:32: DeprecationWarning: use options instead of chrome_options\n",
      "  driver = webdriver.Chrome(chrome_driver_binary, chrome_options=options)\n"
     ]
    }
   ],
   "source": [
    "socials = get_social(df.sample(3))"
   ]
  },
  {
   "cell_type": "code",
   "execution_count": 150,
   "id": "c701f150",
   "metadata": {
    "ExecuteTime": {
     "end_time": "2021-06-03T13:49:31.660910Z",
     "start_time": "2021-06-03T13:49:31.641612Z"
    }
   },
   "outputs": [
    {
     "data": {
      "text/html": [
       "<div>\n",
       "<style scoped>\n",
       "    .dataframe tbody tr th:only-of-type {\n",
       "        vertical-align: middle;\n",
       "    }\n",
       "\n",
       "    .dataframe tbody tr th {\n",
       "        vertical-align: top;\n",
       "    }\n",
       "\n",
       "    .dataframe thead th {\n",
       "        text-align: right;\n",
       "    }\n",
       "</style>\n",
       "<table border=\"1\" class=\"dataframe\">\n",
       "  <thead>\n",
       "    <tr style=\"text-align: right;\">\n",
       "      <th></th>\n",
       "      <th>username</th>\n",
       "      <th>Twitter</th>\n",
       "      <th>YouTube</th>\n",
       "      <th>Instagram</th>\n",
       "      <th>Discord</th>\n",
       "    </tr>\n",
       "  </thead>\n",
       "  <tbody>\n",
       "    <tr>\n",
       "      <th>0</th>\n",
       "      <td>RocketBaguette</td>\n",
       "      <td>https://twitter.com/rocketbaguette</td>\n",
       "      <td>http://youtube.com/rocketbaguette</td>\n",
       "      <td>https://instagram.com/rocketbaguette</td>\n",
       "      <td>http://discord.gg/rocketbaguette</td>\n",
       "    </tr>\n",
       "    <tr>\n",
       "      <th>1</th>\n",
       "      <td>Japczan</td>\n",
       "      <td>None</td>\n",
       "      <td>https://www.youtube.com/japczan</td>\n",
       "      <td>https://www.instagram.com/japczanek/</td>\n",
       "      <td>https://discord.gg/zcud4vqqck</td>\n",
       "    </tr>\n",
       "    <tr>\n",
       "      <th>2</th>\n",
       "      <td>VaporaDark</td>\n",
       "      <td>https://twitter.com/vaporadark</td>\n",
       "      <td>https://www.youtube.com/user/vaporadark?sub_co...</td>\n",
       "      <td>None</td>\n",
       "      <td>https://discord.gg/vaporadark</td>\n",
       "    </tr>\n",
       "  </tbody>\n",
       "</table>\n",
       "</div>"
      ],
      "text/plain": [
       "         username                             Twitter  \\\n",
       "0  RocketBaguette  https://twitter.com/rocketbaguette   \n",
       "1         Japczan                                None   \n",
       "2      VaporaDark      https://twitter.com/vaporadark   \n",
       "\n",
       "                                             YouTube  \\\n",
       "0                  http://youtube.com/rocketbaguette   \n",
       "1                    https://www.youtube.com/japczan   \n",
       "2  https://www.youtube.com/user/vaporadark?sub_co...   \n",
       "\n",
       "                              Instagram                           Discord  \n",
       "0  https://instagram.com/rocketbaguette  http://discord.gg/rocketbaguette  \n",
       "1  https://www.instagram.com/japczanek/     https://discord.gg/zcud4vqqck  \n",
       "2                                  None     https://discord.gg/vaporadark  "
      ]
     },
     "execution_count": 150,
     "metadata": {},
     "output_type": "execute_result"
    }
   ],
   "source": [
    "df_socs = socials.copy()\n",
    "df_socs"
   ]
  },
  {
   "cell_type": "code",
   "execution_count": 152,
   "id": "232de153-e3bd-4e24-8026-a52128bf7650",
   "metadata": {},
   "outputs": [],
   "source": [
    "def get_social_id(link):\n",
    "    '''Extract streamer identifier at the end of their social media links'''\n",
    "    if link[-1] == '/':\n",
    "        link = link[:-1]\n",
    "    start = link.rfind('/')\n",
    "    id = link[start + 1:]\n",
    "\n",
    "    return id\n",
    "\n",
    "\n",
    "def parse_streamer_socials(socials_df):\n",
    "    '''Return a dataframe with relevant ids per treamer and platform'''\n",
    "    for (column_name, column_data) in socials_df.iteritems():\n",
    "        if column_name != 'Discord':\n",
    "            socials_df[column_name] = column_data.apply(lambda x: get_social_id(x) if x else None)\n",
    "            if column_name == 'YouTube':\n",
    "                socials_df[column_name] = socials_df[column_name].apply(lambda x: x.split('?')[0])\n",
    "            \n",
    "        \n",
    "    return socials_df"
   ]
  },
  {
   "cell_type": "code",
   "execution_count": 153,
   "id": "7c5f3b5d-b8e5-44ca-9c7d-744b28739e08",
   "metadata": {},
   "outputs": [
    {
     "data": {
      "text/plain": [
       "'lily_off_valley'"
      ]
     },
     "execution_count": 153,
     "metadata": {},
     "output_type": "execute_result"
    }
   ],
   "source": [
    "l = df_soc.iloc[0,3]\n",
    "get_streamer_identifier(l)"
   ]
  },
  {
   "cell_type": "code",
   "execution_count": 154,
   "id": "8b494a49-dfa1-485d-b048-ff6fac58e450",
   "metadata": {},
   "outputs": [
    {
     "data": {
      "text/html": [
       "<div>\n",
       "<style scoped>\n",
       "    .dataframe tbody tr th:only-of-type {\n",
       "        vertical-align: middle;\n",
       "    }\n",
       "\n",
       "    .dataframe tbody tr th {\n",
       "        vertical-align: top;\n",
       "    }\n",
       "\n",
       "    .dataframe thead th {\n",
       "        text-align: right;\n",
       "    }\n",
       "</style>\n",
       "<table border=\"1\" class=\"dataframe\">\n",
       "  <thead>\n",
       "    <tr style=\"text-align: right;\">\n",
       "      <th></th>\n",
       "      <th>username</th>\n",
       "      <th>Twitter</th>\n",
       "      <th>YouTube</th>\n",
       "      <th>Instagram</th>\n",
       "      <th>Discord</th>\n",
       "    </tr>\n",
       "  </thead>\n",
       "  <tbody>\n",
       "    <tr>\n",
       "      <th>0</th>\n",
       "      <td>RocketBaguette</td>\n",
       "      <td>rocketbaguette</td>\n",
       "      <td>rocketbaguette</td>\n",
       "      <td>rocketbaguette</td>\n",
       "      <td>http://discord.gg/rocketbaguette</td>\n",
       "    </tr>\n",
       "    <tr>\n",
       "      <th>1</th>\n",
       "      <td>Japczan</td>\n",
       "      <td>None</td>\n",
       "      <td>japczan</td>\n",
       "      <td>japczanek</td>\n",
       "      <td>https://discord.gg/zcud4vqqck</td>\n",
       "    </tr>\n",
       "    <tr>\n",
       "      <th>2</th>\n",
       "      <td>VaporaDark</td>\n",
       "      <td>vaporadark</td>\n",
       "      <td>vaporadark</td>\n",
       "      <td>None</td>\n",
       "      <td>https://discord.gg/vaporadark</td>\n",
       "    </tr>\n",
       "  </tbody>\n",
       "</table>\n",
       "</div>"
      ],
      "text/plain": [
       "         username         Twitter         YouTube       Instagram  \\\n",
       "0  RocketBaguette  rocketbaguette  rocketbaguette  rocketbaguette   \n",
       "1         Japczan            None         japczan       japczanek   \n",
       "2      VaporaDark      vaporadark      vaporadark            None   \n",
       "\n",
       "                            Discord  \n",
       "0  http://discord.gg/rocketbaguette  \n",
       "1     https://discord.gg/zcud4vqqck  \n",
       "2     https://discord.gg/vaporadark  "
      ]
     },
     "execution_count": 154,
     "metadata": {},
     "output_type": "execute_result"
    }
   ],
   "source": [
    "parse_streamer_socials(df_socs)\n",
    "df_socs"
   ]
  },
  {
   "cell_type": "code",
   "execution_count": null,
   "id": "65f64040-a6d3-4cb6-a854-36d7d98b01a4",
   "metadata": {},
   "outputs": [],
   "source": []
  }
 ],
 "metadata": {
  "kernelspec": {
   "display_name": "Python 3",
   "language": "python",
   "name": "python3"
  },
  "language_info": {
   "codemirror_mode": {
    "name": "ipython",
    "version": 3
   },
   "file_extension": ".py",
   "mimetype": "text/x-python",
   "name": "python",
   "nbconvert_exporter": "python",
   "pygments_lexer": "ipython3",
   "version": "3.8.6"
  },
  "toc": {
   "base_numbering": 1,
   "nav_menu": {},
   "number_sections": true,
   "sideBar": true,
   "skip_h1_title": false,
   "title_cell": "Table of Contents",
   "title_sidebar": "Contents",
   "toc_cell": false,
   "toc_position": {},
   "toc_section_display": true,
   "toc_window_display": false
  }
 },
 "nbformat": 4,
 "nbformat_minor": 5
}
