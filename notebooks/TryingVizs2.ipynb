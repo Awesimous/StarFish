{
 "cells": [
  {
   "cell_type": "code",
   "execution_count": 24,
   "id": "b7a6f9fc",
   "metadata": {},
   "outputs": [
    {
     "data": {
      "text/html": [
       "<div>\n",
       "<style scoped>\n",
       "    .dataframe tbody tr th:only-of-type {\n",
       "        vertical-align: middle;\n",
       "    }\n",
       "\n",
       "    .dataframe tbody tr th {\n",
       "        vertical-align: top;\n",
       "    }\n",
       "\n",
       "    .dataframe thead th {\n",
       "        text-align: right;\n",
       "    }\n",
       "</style>\n",
       "<table border=\"1\" class=\"dataframe\">\n",
       "  <thead>\n",
       "    <tr style=\"text-align: right;\">\n",
       "      <th></th>\n",
       "      <th>username</th>\n",
       "      <th>AVG Viewers</th>\n",
       "      <th>Time Streamed (in hours)</th>\n",
       "      <th>Hours Watched</th>\n",
       "      <th>Followers Gained</th>\n",
       "      <th>Total Followers</th>\n",
       "      <th>Total Views</th>\n",
       "      <th>All Time Peak Viewers</th>\n",
       "    </tr>\n",
       "  </thead>\n",
       "  <tbody>\n",
       "    <tr>\n",
       "      <th>0</th>\n",
       "      <td>tommyinnit</td>\n",
       "      <td>195782</td>\n",
       "      <td>14.3</td>\n",
       "      <td>2806209</td>\n",
       "      <td>334307</td>\n",
       "      <td>5499713</td>\n",
       "      <td>49185807</td>\n",
       "      <td>650237</td>\n",
       "    </tr>\n",
       "    <tr>\n",
       "      <th>1</th>\n",
       "      <td>Quackity</td>\n",
       "      <td>158364</td>\n",
       "      <td>10.2</td>\n",
       "      <td>1620588</td>\n",
       "      <td>198959</td>\n",
       "      <td>3471874</td>\n",
       "      <td>23178122</td>\n",
       "      <td>381550</td>\n",
       "    </tr>\n",
       "    <tr>\n",
       "      <th>2</th>\n",
       "      <td>Sapnap</td>\n",
       "      <td>129001</td>\n",
       "      <td>9.2</td>\n",
       "      <td>1188960</td>\n",
       "      <td>183191</td>\n",
       "      <td>2237876</td>\n",
       "      <td>8740493</td>\n",
       "      <td>287152</td>\n",
       "    </tr>\n",
       "    <tr>\n",
       "      <th>3</th>\n",
       "      <td>auronplay</td>\n",
       "      <td>113520</td>\n",
       "      <td>109.4</td>\n",
       "      <td>12419097</td>\n",
       "      <td>341562</td>\n",
       "      <td>8741858</td>\n",
       "      <td>142994817</td>\n",
       "      <td>313347</td>\n",
       "    </tr>\n",
       "    <tr>\n",
       "      <th>4</th>\n",
       "      <td>xQcOW</td>\n",
       "      <td>109059</td>\n",
       "      <td>339.9</td>\n",
       "      <td>37072768</td>\n",
       "      <td>182238</td>\n",
       "      <td>5776761</td>\n",
       "      <td>361856811</td>\n",
       "      <td>222720</td>\n",
       "    </tr>\n",
       "    <tr>\n",
       "      <th>...</th>\n",
       "      <td>...</td>\n",
       "      <td>...</td>\n",
       "      <td>...</td>\n",
       "      <td>...</td>\n",
       "      <td>...</td>\n",
       "      <td>...</td>\n",
       "      <td>...</td>\n",
       "      <td>...</td>\n",
       "    </tr>\n",
       "    <tr>\n",
       "      <th>2445</th>\n",
       "      <td>SwordsofLegendsOnline</td>\n",
       "      <td>1237</td>\n",
       "      <td>18.7</td>\n",
       "      <td>23158</td>\n",
       "      <td>5165</td>\n",
       "      <td>11966</td>\n",
       "      <td>89491</td>\n",
       "      <td>4074</td>\n",
       "    </tr>\n",
       "    <tr>\n",
       "      <th>2446</th>\n",
       "      <td>easywithaces</td>\n",
       "      <td>1235</td>\n",
       "      <td>100.4</td>\n",
       "      <td>124074</td>\n",
       "      <td>1685</td>\n",
       "      <td>111557</td>\n",
       "      <td>8879377</td>\n",
       "      <td>18686</td>\n",
       "    </tr>\n",
       "    <tr>\n",
       "      <th>2447</th>\n",
       "      <td>SimpleFlips</td>\n",
       "      <td>1234</td>\n",
       "      <td>64.1</td>\n",
       "      <td>79125</td>\n",
       "      <td>1877</td>\n",
       "      <td>139942</td>\n",
       "      <td>5155937</td>\n",
       "      <td>8607</td>\n",
       "    </tr>\n",
       "    <tr>\n",
       "      <th>2448</th>\n",
       "      <td>Raptor</td>\n",
       "      <td>1233</td>\n",
       "      <td>148.0</td>\n",
       "      <td>182520</td>\n",
       "      <td>4138</td>\n",
       "      <td>171559</td>\n",
       "      <td>3312085</td>\n",
       "      <td>5270</td>\n",
       "    </tr>\n",
       "    <tr>\n",
       "      <th>2449</th>\n",
       "      <td>Kiaraakitty</td>\n",
       "      <td>1233</td>\n",
       "      <td>13.6</td>\n",
       "      <td>16747</td>\n",
       "      <td>-153</td>\n",
       "      <td>214023</td>\n",
       "      <td>9036655</td>\n",
       "      <td>12661</td>\n",
       "    </tr>\n",
       "  </tbody>\n",
       "</table>\n",
       "<p>2450 rows × 8 columns</p>\n",
       "</div>"
      ],
      "text/plain": [
       "                   username  AVG Viewers  Time Streamed (in hours)  \\\n",
       "0                tommyinnit       195782                      14.3   \n",
       "1                  Quackity       158364                      10.2   \n",
       "2                    Sapnap       129001                       9.2   \n",
       "3                 auronplay       113520                     109.4   \n",
       "4                     xQcOW       109059                     339.9   \n",
       "...                     ...          ...                       ...   \n",
       "2445  SwordsofLegendsOnline         1237                      18.7   \n",
       "2446           easywithaces         1235                     100.4   \n",
       "2447            SimpleFlips         1234                      64.1   \n",
       "2448                 Raptor         1233                     148.0   \n",
       "2449            Kiaraakitty         1233                      13.6   \n",
       "\n",
       "      Hours Watched  Followers Gained  Total Followers  Total Views  \\\n",
       "0           2806209            334307          5499713     49185807   \n",
       "1           1620588            198959          3471874     23178122   \n",
       "2           1188960            183191          2237876      8740493   \n",
       "3          12419097            341562          8741858    142994817   \n",
       "4          37072768            182238          5776761    361856811   \n",
       "...             ...               ...              ...          ...   \n",
       "2445          23158              5165            11966        89491   \n",
       "2446         124074              1685           111557      8879377   \n",
       "2447          79125              1877           139942      5155937   \n",
       "2448         182520              4138           171559      3312085   \n",
       "2449          16747              -153           214023      9036655   \n",
       "\n",
       "      All Time Peak Viewers  \n",
       "0                    650237  \n",
       "1                    381550  \n",
       "2                    287152  \n",
       "3                    313347  \n",
       "4                    222720  \n",
       "...                     ...  \n",
       "2445                   4074  \n",
       "2446                  18686  \n",
       "2447                   8607  \n",
       "2448                   5270  \n",
       "2449                  12661  \n",
       "\n",
       "[2450 rows x 8 columns]"
      ]
     },
     "execution_count": 24,
     "metadata": {},
     "output_type": "execute_result"
    }
   ],
   "source": [
    "import streamlit as st\n",
    "import pandas as pd\n",
    "import numpy as np\n",
    "import plotly.express as px\n",
    "from plotly.subplots import make_subplots\n",
    "import plotly.graph_objects as go\n",
    "import matplotlib.pyplot as plt\n",
    "\n",
    "\n",
    "df = pd.read_csv('streamer_df_clean')\n",
    "df"
   ]
  },
  {
   "cell_type": "code",
   "execution_count": 15,
   "id": "9486730e",
   "metadata": {},
   "outputs": [
    {
     "data": {
      "text/plain": [
       "0.11181504046482352"
      ]
     },
     "execution_count": 15,
     "metadata": {},
     "output_type": "execute_result"
    }
   ],
   "source": [
    "5499713 / 49185807"
   ]
  },
  {
   "cell_type": "code",
   "execution_count": 16,
   "id": "de6bb5f0",
   "metadata": {},
   "outputs": [],
   "source": [
    "df['followers_conversion'] = df['Total Followers'] / df['Total Views'] "
   ]
  },
  {
   "cell_type": "code",
   "execution_count": 25,
   "id": "10e83ade",
   "metadata": {},
   "outputs": [],
   "source": [
    "#df['followers_conversion'].plot()"
   ]
  },
  {
   "cell_type": "code",
   "execution_count": 19,
   "id": "0ea43c26",
   "metadata": {},
   "outputs": [
    {
     "name": "stderr",
     "output_type": "stream",
     "text": [
      "2021-06-04 11:05:31.133 WARNING root: \n",
      "  \u001b[33m\u001b[1mWarning:\u001b[0m to view this Streamlit app on a browser, run it with the following\n",
      "  command:\n",
      "\n",
      "    streamlit run /home/dek/.pyenv/versions/3.8.6/envs/starfish/lib/python3.8/site-packages/ipykernel_launcher.py [ARGUMENTS]\n"
     ]
    },
    {
     "data": {
      "text/plain": [
       "DeltaGenerator(_root_container=0, _provided_cursor=None, _parent=None, _block_type=None, _form_data=None)"
      ]
     },
     "execution_count": 19,
     "metadata": {},
     "output_type": "execute_result"
    }
   ],
   "source": []
  },
  {
   "cell_type": "code",
   "execution_count": 23,
   "id": "80235937",
   "metadata": {},
   "outputs": [
    {
     "name": "stdout",
     "output_type": "stream",
     "text": [
      "Usage: streamlit run [OPTIONS] TARGET [ARGS]...\r\n",
      "\r\n",
      "Error: Streamlit requires raw Python (.py) files, not .ipynb.\r\n",
      "For more information, please see https://docs.streamlit.io\r\n"
     ]
    }
   ],
   "source": [
    "! streamlit run TryingVizs2.ipynb"
   ]
  },
  {
   "cell_type": "code",
   "execution_count": 36,
   "id": "d00336e2",
   "metadata": {},
   "outputs": [],
   "source": [
    "name = 'Raptor'\n",
    "\n",
    "#df['AVG Viewrs']"
   ]
  },
  {
   "cell_type": "code",
   "execution_count": 37,
   "id": "c1f6cb1c",
   "metadata": {},
   "outputs": [],
   "source": [
    "raptor =df[df.username == name]['AVG Viewers']"
   ]
  },
  {
   "cell_type": "code",
   "execution_count": 38,
   "id": "fd5c79c7",
   "metadata": {},
   "outputs": [
    {
     "data": {
      "text/plain": [
       "2448    1233\n",
       "Name: AVG Viewers, dtype: int64"
      ]
     },
     "execution_count": 38,
     "metadata": {},
     "output_type": "execute_result"
    }
   ],
   "source": [
    "raptor"
   ]
  },
  {
   "cell_type": "code",
   "execution_count": 61,
   "id": "45ab4bc4",
   "metadata": {},
   "outputs": [],
   "source": [
    "rapt = df[2448:2449]"
   ]
  },
  {
   "cell_type": "code",
   "execution_count": 62,
   "id": "da379b4e",
   "metadata": {},
   "outputs": [
    {
     "data": {
      "text/plain": [
       "1233"
      ]
     },
     "execution_count": 62,
     "metadata": {},
     "output_type": "execute_result"
    }
   ],
   "source": [
    "df.loc[2448]['AVG Viewers']"
   ]
  },
  {
   "cell_type": "code",
   "execution_count": null,
   "id": "27c1bdc9",
   "metadata": {},
   "outputs": [],
   "source": []
  },
  {
   "cell_type": "code",
   "execution_count": 64,
   "id": "b3b32afc",
   "metadata": {},
   "outputs": [
    {
     "data": {
      "text/plain": [
       "<AxesSubplot:>"
      ]
     },
     "execution_count": 64,
     "metadata": {},
     "output_type": "execute_result"
    },
    {
     "data": {
      "image/png": "[encoded data removed]",
      "text/plain": [
       "<Figure size 432x288 with 1 Axes>"
      ]
     },
     "metadata": {
      "needs_background": "light"
     },
     "output_type": "display_data"
    }
   ],
   "source": [
    "rapt['AVG Viewers'].plot(kind='bar')"
   ]
  },
  {
   "cell_type": "code",
   "execution_count": null,
   "id": "5e8d8a52",
   "metadata": {},
   "outputs": [],
   "source": []
  }
 ],
 "metadata": {
  "kernelspec": {
   "display_name": "Python 3",
   "language": "python",
   "name": "python3"
  },
  "language_info": {
   "codemirror_mode": {
    "name": "ipython",
    "version": 3
   },
   "file_extension": ".py",
   "mimetype": "text/x-python",
   "name": "python",
   "nbconvert_exporter": "python",
   "pygments_lexer": "ipython3",
   "version": "3.8.6"
  },
  "toc": {
   "base_numbering": 1,
   "nav_menu": {},
   "number_sections": true,
   "sideBar": true,
   "skip_h1_title": false,
   "title_cell": "Table of Contents",
   "title_sidebar": "Contents",
   "toc_cell": false,
   "toc_position": {},
   "toc_section_display": true,
   "toc_window_display": false
  }
 },
 "nbformat": 4,
 "nbformat_minor": 5
}
