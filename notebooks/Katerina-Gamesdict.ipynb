{
 "cells": [
  {
   "cell_type": "markdown",
   "id": "eedf2716",
   "metadata": {},
   "source": [
    "Columns\n",
    "\n",
    "Category\n",
    "Created by\n",
    "Realease Date\n",
    "Recommended age \n",
    "Likes pct"
   ]
  },
  {
   "cell_type": "code",
   "execution_count": 4,
   "id": "71a055d2",
   "metadata": {},
   "outputs": [],
   "source": [
    "import pandas as pd"
   ]
  },
  {
   "cell_type": "code",
   "execution_count": 5,
   "id": "f7ed6edb",
   "metadata": {},
   "outputs": [],
   "source": [
    "games_dict = {\n",
    "    'WoW': ['MORE (Multiplayer online role-playing game)', 'Leslie Benzies, Simon Lashley, David Jones, Imran Sarwar, Billy Thomson', 2004 , 14 , '84%'],\n",
    "    'Grand Theft Auto V': ['Action-Adventure Game', 'David Jones and Mike Dailly', 2013, 13, '95%'],\n",
    "    'VALORANT': ['Tactical Shooter','Riot Games',2020, 16, '90%'],\n",
    "    'Call of Duty': ['First-person Shooter', 'Activision, Treyarch, Infinity Ward, Raven Software, MORE', 2003, 18, '95%'],\n",
    "    'Minecaft': ['Sandbox-Survival', ' Mojang', 2011, 10, ''],\n",
    "    'Fortnite':['Survival', 'Epic games', 2017,12,'85%'],\n",
    "    'League of Legends': ['MOBA (Multiplayer online battle arena)', 'Steve Feak, Mark Yetter, Tom Cadwell, Christina Norman, David Capurro, Rob Garrett', 2009, 11, '76%']\n",
    "    }"
   ]
  },
  {
   "cell_type": "code",
   "execution_count": 10,
   "id": "d8b3d245",
   "metadata": {},
   "outputs": [],
   "source": [
    "df = pd.DataFrame.from_dict(games_dict, orient='index',\n",
    "                       columns=['Category', 'Created by', 'Release Date', 'Recommended Age', 'Likes pct'])"
   ]
  },
  {
   "cell_type": "code",
   "execution_count": 12,
   "id": "9e352f5f",
   "metadata": {},
   "outputs": [
    {
     "data": {
      "text/html": [
       "<div>\n",
       "<style scoped>\n",
       "    .dataframe tbody tr th:only-of-type {\n",
       "        vertical-align: middle;\n",
       "    }\n",
       "\n",
       "    .dataframe tbody tr th {\n",
       "        vertical-align: top;\n",
       "    }\n",
       "\n",
       "    .dataframe thead th {\n",
       "        text-align: right;\n",
       "    }\n",
       "</style>\n",
       "<table border=\"1\" class=\"dataframe\">\n",
       "  <thead>\n",
       "    <tr style=\"text-align: right;\">\n",
       "      <th></th>\n",
       "      <th>Category</th>\n",
       "      <th>Created by</th>\n",
       "      <th>Release Date</th>\n",
       "      <th>Recommended Age</th>\n",
       "      <th>Likes pct</th>\n",
       "    </tr>\n",
       "  </thead>\n",
       "  <tbody>\n",
       "    <tr>\n",
       "      <th>WoW</th>\n",
       "      <td>MORE (Multiplayer online role-playing game)</td>\n",
       "      <td>Leslie Benzies, Simon Lashley, David Jones, Im...</td>\n",
       "      <td>2004</td>\n",
       "      <td>14</td>\n",
       "      <td>84%</td>\n",
       "    </tr>\n",
       "    <tr>\n",
       "      <th>Grand Theft Auto V</th>\n",
       "      <td>Action-Adventure Game</td>\n",
       "      <td>David Jones and Mike Dailly</td>\n",
       "      <td>2013</td>\n",
       "      <td>13</td>\n",
       "      <td>95%</td>\n",
       "    </tr>\n",
       "    <tr>\n",
       "      <th>VALORANT</th>\n",
       "      <td>Tactical Shooter</td>\n",
       "      <td>Riot Games</td>\n",
       "      <td>2020</td>\n",
       "      <td>16</td>\n",
       "      <td>90%</td>\n",
       "    </tr>\n",
       "    <tr>\n",
       "      <th>Call of Duty</th>\n",
       "      <td>First-person Shooter</td>\n",
       "      <td>Activision, Treyarch, Infinity Ward, Raven Sof...</td>\n",
       "      <td>2003</td>\n",
       "      <td>18</td>\n",
       "      <td>95%</td>\n",
       "    </tr>\n",
       "    <tr>\n",
       "      <th>Minecaft</th>\n",
       "      <td>Sandbox-Survival</td>\n",
       "      <td>Mojang</td>\n",
       "      <td>2011</td>\n",
       "      <td>10</td>\n",
       "      <td></td>\n",
       "    </tr>\n",
       "    <tr>\n",
       "      <th>Fortnite</th>\n",
       "      <td>Survival</td>\n",
       "      <td>Epic games</td>\n",
       "      <td>2017</td>\n",
       "      <td>12</td>\n",
       "      <td>85%</td>\n",
       "    </tr>\n",
       "    <tr>\n",
       "      <th>League of Legends</th>\n",
       "      <td>MOBA (Multiplayer online battle arena)</td>\n",
       "      <td>Steve Feak, Mark Yetter, Tom Cadwell, Christin...</td>\n",
       "      <td>2009</td>\n",
       "      <td>11</td>\n",
       "      <td>76%</td>\n",
       "    </tr>\n",
       "  </tbody>\n",
       "</table>\n",
       "</div>"
      ],
      "text/plain": [
       "                                                       Category  \\\n",
       "WoW                 MORE (Multiplayer online role-playing game)   \n",
       "Grand Theft Auto V                        Action-Adventure Game   \n",
       "VALORANT                                       Tactical Shooter   \n",
       "Call of Duty                               First-person Shooter   \n",
       "Minecaft                                       Sandbox-Survival   \n",
       "Fortnite                                               Survival   \n",
       "League of Legends        MOBA (Multiplayer online battle arena)   \n",
       "\n",
       "                                                           Created by  \\\n",
       "WoW                 Leslie Benzies, Simon Lashley, David Jones, Im...   \n",
       "Grand Theft Auto V                        David Jones and Mike Dailly   \n",
       "VALORANT                                                   Riot Games   \n",
       "Call of Duty        Activision, Treyarch, Infinity Ward, Raven Sof...   \n",
       "Minecaft                                                       Mojang   \n",
       "Fortnite                                                   Epic games   \n",
       "League of Legends   Steve Feak, Mark Yetter, Tom Cadwell, Christin...   \n",
       "\n",
       "                    Release Date  Recommended Age Likes pct  \n",
       "WoW                         2004               14       84%  \n",
       "Grand Theft Auto V          2013               13       95%  \n",
       "VALORANT                    2020               16       90%  \n",
       "Call of Duty                2003               18       95%  \n",
       "Minecaft                    2011               10            \n",
       "Fortnite                    2017               12       85%  \n",
       "League of Legends           2009               11       76%  "
      ]
     },
     "execution_count": 12,
     "metadata": {},
     "output_type": "execute_result"
    }
   ],
   "source": [
    "df"
   ]
  },
  {
   "cell_type": "code",
   "execution_count": null,
   "id": "02571d97",
   "metadata": {},
   "outputs": [],
   "source": []
  }
 ],
 "metadata": {
  "kernelspec": {
   "display_name": "Python 3",
   "language": "python",
   "name": "python3"
  },
  "language_info": {
   "codemirror_mode": {
    "name": "ipython",
    "version": 3
   },
   "file_extension": ".py",
   "mimetype": "text/x-python",
   "name": "python",
   "nbconvert_exporter": "python",
   "pygments_lexer": "ipython3",
   "version": "3.8.6"
  },
  "toc": {
   "base_numbering": 1,
   "nav_menu": {},
   "number_sections": true,
   "sideBar": true,
   "skip_h1_title": false,
   "title_cell": "Table of Contents",
   "title_sidebar": "Contents",
   "toc_cell": false,
   "toc_position": {},
   "toc_section_display": true,
   "toc_window_display": false
  }
 },
 "nbformat": 4,
 "nbformat_minor": 5
}
