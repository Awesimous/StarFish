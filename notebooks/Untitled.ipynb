{
 "cells": [
  {
   "cell_type": "code",
   "execution_count": 1,
   "id": "b5ff6e11",
   "metadata": {
    "ExecuteTime": {
     "end_time": "2021-06-02T09:52:53.989976Z",
     "start_time": "2021-06-02T09:52:53.138043Z"
    }
   },
   "outputs": [],
   "source": [
    "import requests\n",
    "from bs4 import BeautifulSoup\n",
    "import pandas as pd\n",
    "import pandas as pd\n",
    "from selenium import webdriver\n",
    "from selenium.webdriver.chrome.options import Options"
   ]
  },
  {
   "cell_type": "code",
   "execution_count": null,
   "id": "14d8a8a6",
   "metadata": {},
   "outputs": [],
   "source": [
    "DRIVER_PATH = '/Users/home/Documents/Bootcamp/Google'\n",
    "def parse_twitter(df):\n",
    "usernames = df['username'].tolist()\n",
    "for user in usernames:\n",
    "\n",
    "driver = webdriver.Chrome(executable_path=DRIVER_PATH)\\n\",\n",
    "driver.get('https://google.com')\\n\",\n",
    "headers = {'User-Agent': 'Mozilla/5.0 (Platform; Security; OS-or-CPU; Localization; rv:1.4) Gecko/20030624 Netscape/7.1 (ax)'}\\n\",\n",
    "response = requests.get(url, headers=headers)\\n\",\n",
    "soup = BeautifulSoup(response.content, 'html.parser')\\n\",\n",
    "df=pd.read_html(str(soup), flavor='bs4')[0]\\n\",\n",
    "return df\""
   ]
  },
  {
   "cell_type": "code",
   "execution_count": 5,
   "id": "e7c9fca2",
   "metadata": {
    "ExecuteTime": {
     "end_time": "2021-06-02T10:10:45.284625Z",
     "start_time": "2021-06-02T10:10:41.635109Z"
    }
   },
   "outputs": [
    {
     "name": "stderr",
     "output_type": "stream",
     "text": [
      "<ipython-input-5-b8e4258e2934>:4: DeprecationWarning: use options instead of chrome_options\n",
      "  driver = webdriver.Chrome(chrome_driver_binary, chrome_options=options)\n"
     ]
    },
    {
     "ename": "NameError",
     "evalue": "name 'usernames' is not defined",
     "output_type": "error",
     "traceback": [
      "\u001b[0;31m---------------------------------------------------------------------------\u001b[0m",
      "\u001b[0;31mNameError\u001b[0m                                 Traceback (most recent call last)",
      "\u001b[0;32m<ipython-input-5-b8e4258e2934>\u001b[0m in \u001b[0;36m<module>\u001b[0;34m\u001b[0m\n\u001b[1;32m      5\u001b[0m \u001b[0msoup\u001b[0m\u001b[0;34m=\u001b[0m\u001b[0mBeautifulSoup\u001b[0m\u001b[0;34m(\u001b[0m\u001b[0mdriver\u001b[0m\u001b[0;34m.\u001b[0m\u001b[0mpage_source\u001b[0m\u001b[0;34m)\u001b[0m\u001b[0;34m\u001b[0m\u001b[0;34m\u001b[0m\u001b[0m\n\u001b[1;32m      6\u001b[0m \u001b[0mdict\u001b[0m \u001b[0;34m=\u001b[0m \u001b[0;34m{\u001b[0m\u001b[0;34m}\u001b[0m\u001b[0;34m\u001b[0m\u001b[0;34m\u001b[0m\u001b[0m\n\u001b[0;32m----> 7\u001b[0;31m \u001b[0;32mfor\u001b[0m \u001b[0muser\u001b[0m \u001b[0;32min\u001b[0m \u001b[0musernames\u001b[0m\u001b[0;34m:\u001b[0m\u001b[0;34m\u001b[0m\u001b[0;34m\u001b[0m\u001b[0m\n\u001b[0m\u001b[1;32m      8\u001b[0m     \u001b[0mURL\u001b[0m\u001b[0;34m=\u001b[0m \u001b[0;34mf'https://www.twitch.tv/{user}/about'\u001b[0m\u001b[0;34m\u001b[0m\u001b[0;34m\u001b[0m\u001b[0m\n\u001b[1;32m      9\u001b[0m     \u001b[0mdriver\u001b[0m\u001b[0;34m.\u001b[0m\u001b[0mget\u001b[0m\u001b[0;34m(\u001b[0m\u001b[0mURL\u001b[0m\u001b[0;34m)\u001b[0m\u001b[0;34m\u001b[0m\u001b[0;34m\u001b[0m\u001b[0m\n",
      "\u001b[0;31mNameError\u001b[0m: name 'usernames' is not defined"
     ]
    }
   ],
   "source": [
    "options = webdriver.ChromeOptions()\n",
    "options.binary_location = \"/Applications/Google Chrome.app/Contents/MacOS/Google Chrome\"\n",
    "chrome_driver_binary = \"/Users/home/Documents/Bootcamp/chromedriver\"\n",
    "driver = webdriver.Chrome(chrome_driver_binary, chrome_options=options)\n",
    "soup=BeautifulSoup(driver.page_source)\n",
    "dict = {}\n",
    "for user in usernames:\n",
    "    URL= f'https://www.twitch.tv/{user}/about'\n",
    "    driver.get(URL)\n",
    "    soup=BeautifulSoup(driver.page_source)\n",
    "    twitter = [a[\"href\"] for a in soup.find_all(\"a\", href=True) if \"twitter\" in a[\"href\"]]\n",
    "    youtube = [a[\"href\"] for a in soup.find_all(\"a\", href=True) if \"youtube\" in a[\"href\"]]\n",
    "    dict[user] = twitter + youtube"
   ]
  },
  {
   "cell_type": "code",
   "execution_count": null,
   "id": "02870376",
   "metadata": {},
   "outputs": [],
   "source": []
  }
 ],
 "metadata": {
  "kernelspec": {
   "display_name": "Python 3",
   "language": "python",
   "name": "python3"
  },
  "language_info": {
   "codemirror_mode": {
    "name": "ipython",
    "version": 3
   },
   "file_extension": ".py",
   "mimetype": "text/x-python",
   "name": "python",
   "nbconvert_exporter": "python",
   "pygments_lexer": "ipython3",
   "version": "3.8.6"
  },
  "toc": {
   "base_numbering": 1,
   "nav_menu": {},
   "number_sections": true,
   "sideBar": true,
   "skip_h1_title": false,
   "title_cell": "Table of Contents",
   "title_sidebar": "Contents",
   "toc_cell": false,
   "toc_position": {},
   "toc_section_display": true,
   "toc_window_display": false
  }
 },
 "nbformat": 4,
 "nbformat_minor": 5
}
