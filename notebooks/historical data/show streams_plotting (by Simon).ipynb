{
 "cells": [
  {
   "cell_type": "code",
   "execution_count": 6,
   "id": "0900213d",
   "metadata": {
    "ExecuteTime": {
     "end_time": "2021-06-08T07:34:59.828502Z",
     "start_time": "2021-06-08T07:34:58.793735Z"
    }
   },
   "outputs": [],
   "source": [
    "import pandas as pd\n",
    "import seaborn as sns"
   ]
  },
  {
   "cell_type": "code",
   "execution_count": 2,
   "id": "814b2f82",
   "metadata": {
    "ExecuteTime": {
     "end_time": "2021-06-08T07:33:14.261406Z",
     "start_time": "2021-06-08T07:33:11.524760Z"
    }
   },
   "outputs": [],
   "source": [
    "stream_df = pd.read_csv('top_2450')"
   ]
  },
  {
   "cell_type": "code",
   "execution_count": null,
   "id": "332592d0",
   "metadata": {},
   "outputs": [],
   "source": []
  },
  {
   "cell_type": "code",
   "execution_count": 4,
   "id": "cd4fda0f",
   "metadata": {
    "ExecuteTime": {
     "end_time": "2021-06-08T07:34:46.389374Z",
     "start_time": "2021-06-08T07:34:46.299424Z"
    }
   },
   "outputs": [],
   "source": [
    "target = stream_df[stream_df['User'] == 'tommyinnit']"
   ]
  },
  {
   "cell_type": "code",
   "execution_count": 8,
   "id": "568e21d7",
   "metadata": {
    "ExecuteTime": {
     "end_time": "2021-06-08T07:35:47.041951Z",
     "start_time": "2021-06-08T07:35:47.020809Z"
    }
   },
   "outputs": [
    {
     "data": {
      "text/html": [
       "<div>\n",
       "<style scoped>\n",
       "    .dataframe tbody tr th:only-of-type {\n",
       "        vertical-align: middle;\n",
       "    }\n",
       "\n",
       "    .dataframe tbody tr th {\n",
       "        vertical-align: top;\n",
       "    }\n",
       "\n",
       "    .dataframe thead th {\n",
       "        text-align: right;\n",
       "    }\n",
       "</style>\n",
       "<table border=\"1\" class=\"dataframe\">\n",
       "  <thead>\n",
       "    <tr style=\"text-align: right;\">\n",
       "      <th></th>\n",
       "      <th>User</th>\n",
       "      <th>new_date</th>\n",
       "      <th>new_time</th>\n",
       "      <th>Duration</th>\n",
       "      <th>AVG Viewers</th>\n",
       "      <th>MAX Viewers</th>\n",
       "      <th>Followers Gain</th>\n",
       "      <th>Live Views</th>\n",
       "      <th>Title</th>\n",
       "      <th>daytime_classifier</th>\n",
       "    </tr>\n",
       "  </thead>\n",
       "  <tbody>\n",
       "    <tr>\n",
       "      <th>0</th>\n",
       "      <td>tommyinnit</td>\n",
       "      <td>2017-11-24</td>\n",
       "      <td>19:52:18</td>\n",
       "      <td>62</td>\n",
       "      <td>6</td>\n",
       "      <td>7</td>\n",
       "      <td>4</td>\n",
       "      <td>51</td>\n",
       "      <td>ARMS - Ranked and Party!</td>\n",
       "      <td>3.0</td>\n",
       "    </tr>\n",
       "    <tr>\n",
       "      <th>1</th>\n",
       "      <td>tommyinnit</td>\n",
       "      <td>2017-11-25</td>\n",
       "      <td>18:02:30</td>\n",
       "      <td>42</td>\n",
       "      <td>8</td>\n",
       "      <td>10</td>\n",
       "      <td>0</td>\n",
       "      <td>15</td>\n",
       "      <td>ARMS - Ranked and Party!</td>\n",
       "      <td>3.0</td>\n",
       "    </tr>\n",
       "    <tr>\n",
       "      <th>2</th>\n",
       "      <td>tommyinnit</td>\n",
       "      <td>2017-11-26</td>\n",
       "      <td>15:36:16</td>\n",
       "      <td>28</td>\n",
       "      <td>5</td>\n",
       "      <td>5</td>\n",
       "      <td>0</td>\n",
       "      <td>0</td>\n",
       "      <td>Splatoon 2 - Turf &amp; Salmon Run</td>\n",
       "      <td>2.0</td>\n",
       "    </tr>\n",
       "    <tr>\n",
       "      <th>3</th>\n",
       "      <td>tommyinnit</td>\n",
       "      <td>2017-12-09</td>\n",
       "      <td>20:13:15</td>\n",
       "      <td>11</td>\n",
       "      <td>4</td>\n",
       "      <td>4</td>\n",
       "      <td>0</td>\n",
       "      <td>0</td>\n",
       "      <td>ARMS - Ranked &amp; Chill</td>\n",
       "      <td>3.0</td>\n",
       "    </tr>\n",
       "    <tr>\n",
       "      <th>4</th>\n",
       "      <td>tommyinnit</td>\n",
       "      <td>2017-12-17</td>\n",
       "      <td>18:27:13</td>\n",
       "      <td>97</td>\n",
       "      <td>9</td>\n",
       "      <td>12</td>\n",
       "      <td>5</td>\n",
       "      <td>14</td>\n",
       "      <td>Minecraft - Hypixel Bedwars &amp; Chill</td>\n",
       "      <td>3.0</td>\n",
       "    </tr>\n",
       "  </tbody>\n",
       "</table>\n",
       "</div>"
      ],
      "text/plain": [
       "         User    new_date  new_time  Duration  AVG Viewers  MAX Viewers  \\\n",
       "0  tommyinnit  2017-11-24  19:52:18        62            6            7   \n",
       "1  tommyinnit  2017-11-25  18:02:30        42            8           10   \n",
       "2  tommyinnit  2017-11-26  15:36:16        28            5            5   \n",
       "3  tommyinnit  2017-12-09  20:13:15        11            4            4   \n",
       "4  tommyinnit  2017-12-17  18:27:13        97            9           12   \n",
       "\n",
       "   Followers Gain  Live Views                                Title  \\\n",
       "0               4          51             ARMS - Ranked and Party!   \n",
       "1               0          15             ARMS - Ranked and Party!   \n",
       "2               0           0       Splatoon 2 - Turf & Salmon Run   \n",
       "3               0           0                ARMS - Ranked & Chill   \n",
       "4               5          14  Minecraft - Hypixel Bedwars & Chill   \n",
       "\n",
       "   daytime_classifier  \n",
       "0                 3.0  \n",
       "1                 3.0  \n",
       "2                 2.0  \n",
       "3                 3.0  \n",
       "4                 3.0  "
      ]
     },
     "execution_count": 8,
     "metadata": {},
     "output_type": "execute_result"
    }
   ],
   "source": [
    "target.head()"
   ]
  },
  {
   "cell_type": "code",
   "execution_count": 10,
   "id": "911be638",
   "metadata": {
    "ExecuteTime": {
     "end_time": "2021-06-08T07:40:26.735784Z",
     "start_time": "2021-06-08T07:40:26.732868Z"
    }
   },
   "outputs": [],
   "source": [
    "news = target.iloc[::10, :]"
   ]
  },
  {
   "cell_type": "code",
   "execution_count": 11,
   "id": "ce43dceb",
   "metadata": {
    "ExecuteTime": {
     "end_time": "2021-06-08T07:40:30.094962Z",
     "start_time": "2021-06-08T07:40:30.076728Z"
    }
   },
   "outputs": [
    {
     "data": {
      "text/html": [
       "<div>\n",
       "<style scoped>\n",
       "    .dataframe tbody tr th:only-of-type {\n",
       "        vertical-align: middle;\n",
       "    }\n",
       "\n",
       "    .dataframe tbody tr th {\n",
       "        vertical-align: top;\n",
       "    }\n",
       "\n",
       "    .dataframe thead th {\n",
       "        text-align: right;\n",
       "    }\n",
       "</style>\n",
       "<table border=\"1\" class=\"dataframe\">\n",
       "  <thead>\n",
       "    <tr style=\"text-align: right;\">\n",
       "      <th></th>\n",
       "      <th>User</th>\n",
       "      <th>new_date</th>\n",
       "      <th>new_time</th>\n",
       "      <th>Duration</th>\n",
       "      <th>AVG Viewers</th>\n",
       "      <th>MAX Viewers</th>\n",
       "      <th>Followers Gain</th>\n",
       "      <th>Live Views</th>\n",
       "      <th>Title</th>\n",
       "      <th>daytime_classifier</th>\n",
       "    </tr>\n",
       "  </thead>\n",
       "  <tbody>\n",
       "    <tr>\n",
       "      <th>0</th>\n",
       "      <td>tommyinnit</td>\n",
       "      <td>2017-11-24</td>\n",
       "      <td>19:52:18</td>\n",
       "      <td>62</td>\n",
       "      <td>6</td>\n",
       "      <td>7</td>\n",
       "      <td>4</td>\n",
       "      <td>51</td>\n",
       "      <td>ARMS - Ranked and Party!</td>\n",
       "      <td>3.0</td>\n",
       "    </tr>\n",
       "    <tr>\n",
       "      <th>10</th>\n",
       "      <td>tommyinnit</td>\n",
       "      <td>2017-12-23</td>\n",
       "      <td>15:46:37</td>\n",
       "      <td>138</td>\n",
       "      <td>9</td>\n",
       "      <td>13</td>\n",
       "      <td>6</td>\n",
       "      <td>44</td>\n",
       "      <td>Minecraft - Hardcore Survival w/ Viewers</td>\n",
       "      <td>2.0</td>\n",
       "    </tr>\n",
       "    <tr>\n",
       "      <th>20</th>\n",
       "      <td>tommyinnit</td>\n",
       "      <td>2017-12-27</td>\n",
       "      <td>14:52:44</td>\n",
       "      <td>32</td>\n",
       "      <td>5</td>\n",
       "      <td>5</td>\n",
       "      <td>0</td>\n",
       "      <td>0</td>\n",
       "      <td>[HARDCORE] Quest to slay the Wither w/ Viewers</td>\n",
       "      <td>2.0</td>\n",
       "    </tr>\n",
       "    <tr>\n",
       "      <th>30</th>\n",
       "      <td>tommyinnit</td>\n",
       "      <td>2018-01-01</td>\n",
       "      <td>20:17:11</td>\n",
       "      <td>87</td>\n",
       "      <td>10</td>\n",
       "      <td>16</td>\n",
       "      <td>2</td>\n",
       "      <td>31</td>\n",
       "      <td>Bedwars w/ Viewers</td>\n",
       "      <td>3.0</td>\n",
       "    </tr>\n",
       "    <tr>\n",
       "      <th>40</th>\n",
       "      <td>tommyinnit</td>\n",
       "      <td>2018-01-12</td>\n",
       "      <td>19:49:25</td>\n",
       "      <td>45</td>\n",
       "      <td>5</td>\n",
       "      <td>5</td>\n",
       "      <td>0</td>\n",
       "      <td>21</td>\n",
       "      <td>BattleRoyale w/ Viewers</td>\n",
       "      <td>3.0</td>\n",
       "    </tr>\n",
       "    <tr>\n",
       "      <th>...</th>\n",
       "      <td>...</td>\n",
       "      <td>...</td>\n",
       "      <td>...</td>\n",
       "      <td>...</td>\n",
       "      <td>...</td>\n",
       "      <td>...</td>\n",
       "      <td>...</td>\n",
       "      <td>...</td>\n",
       "      <td>...</td>\n",
       "      <td>...</td>\n",
       "    </tr>\n",
       "    <tr>\n",
       "      <th>620</th>\n",
       "      <td>tommyinnit</td>\n",
       "      <td>2021-01-19</td>\n",
       "      <td>19:12:30</td>\n",
       "      <td>82</td>\n",
       "      <td>219604</td>\n",
       "      <td>244026</td>\n",
       "      <td>12729</td>\n",
       "      <td>241635</td>\n",
       "      <td>The Last Night</td>\n",
       "      <td>3.0</td>\n",
       "    </tr>\n",
       "    <tr>\n",
       "      <th>630</th>\n",
       "      <td>tommyinnit</td>\n",
       "      <td>2021-02-10</td>\n",
       "      <td>20:19:15</td>\n",
       "      <td>105</td>\n",
       "      <td>244785</td>\n",
       "      <td>267938</td>\n",
       "      <td>6355</td>\n",
       "      <td>200952</td>\n",
       "      <td>Very special stream with KSI &amp; Wilbur</td>\n",
       "      <td>3.0</td>\n",
       "    </tr>\n",
       "    <tr>\n",
       "      <th>640</th>\n",
       "      <td>tommyinnit</td>\n",
       "      <td>2021-03-14</td>\n",
       "      <td>22:38:50</td>\n",
       "      <td>96</td>\n",
       "      <td>316372</td>\n",
       "      <td>351823</td>\n",
       "      <td>13128</td>\n",
       "      <td>267162</td>\n",
       "      <td>The Plan To Kill Dream</td>\n",
       "      <td>3.0</td>\n",
       "    </tr>\n",
       "    <tr>\n",
       "      <th>650</th>\n",
       "      <td>tommyinnit</td>\n",
       "      <td>2021-04-23</td>\n",
       "      <td>20:32:40</td>\n",
       "      <td>52</td>\n",
       "      <td>296681</td>\n",
       "      <td>380838</td>\n",
       "      <td>12965</td>\n",
       "      <td>203506</td>\n",
       "      <td>If Tubbo &amp; I Laugh, The Stream Ends...</td>\n",
       "      <td>3.0</td>\n",
       "    </tr>\n",
       "    <tr>\n",
       "      <th>660</th>\n",
       "      <td>tommyinnit</td>\n",
       "      <td>2021-05-29</td>\n",
       "      <td>18:31:26</td>\n",
       "      <td>183</td>\n",
       "      <td>174866</td>\n",
       "      <td>196499</td>\n",
       "      <td>15369</td>\n",
       "      <td>858407</td>\n",
       "      <td>BIG MAN DOES MCC (with little tubbo, niki and ...</td>\n",
       "      <td>3.0</td>\n",
       "    </tr>\n",
       "  </tbody>\n",
       "</table>\n",
       "<p>67 rows × 10 columns</p>\n",
       "</div>"
      ],
      "text/plain": [
       "           User    new_date  new_time  Duration  AVG Viewers  MAX Viewers  \\\n",
       "0    tommyinnit  2017-11-24  19:52:18        62            6            7   \n",
       "10   tommyinnit  2017-12-23  15:46:37       138            9           13   \n",
       "20   tommyinnit  2017-12-27  14:52:44        32            5            5   \n",
       "30   tommyinnit  2018-01-01  20:17:11        87           10           16   \n",
       "40   tommyinnit  2018-01-12  19:49:25        45            5            5   \n",
       "..          ...         ...       ...       ...          ...          ...   \n",
       "620  tommyinnit  2021-01-19  19:12:30        82       219604       244026   \n",
       "630  tommyinnit  2021-02-10  20:19:15       105       244785       267938   \n",
       "640  tommyinnit  2021-03-14  22:38:50        96       316372       351823   \n",
       "650  tommyinnit  2021-04-23  20:32:40        52       296681       380838   \n",
       "660  tommyinnit  2021-05-29  18:31:26       183       174866       196499   \n",
       "\n",
       "     Followers Gain  Live Views  \\\n",
       "0                 4          51   \n",
       "10                6          44   \n",
       "20                0           0   \n",
       "30                2          31   \n",
       "40                0          21   \n",
       "..              ...         ...   \n",
       "620           12729      241635   \n",
       "630            6355      200952   \n",
       "640           13128      267162   \n",
       "650           12965      203506   \n",
       "660           15369      858407   \n",
       "\n",
       "                                                 Title  daytime_classifier  \n",
       "0                             ARMS - Ranked and Party!                 3.0  \n",
       "10            Minecraft - Hardcore Survival w/ Viewers                 2.0  \n",
       "20      [HARDCORE] Quest to slay the Wither w/ Viewers                 2.0  \n",
       "30                                  Bedwars w/ Viewers                 3.0  \n",
       "40                             BattleRoyale w/ Viewers                 3.0  \n",
       "..                                                 ...                 ...  \n",
       "620                                     The Last Night                 3.0  \n",
       "630              Very special stream with KSI & Wilbur                 3.0  \n",
       "640                             The Plan To Kill Dream                 3.0  \n",
       "650             If Tubbo & I Laugh, The Stream Ends...                 3.0  \n",
       "660  BIG MAN DOES MCC (with little tubbo, niki and ...                 3.0  \n",
       "\n",
       "[67 rows x 10 columns]"
      ]
     },
     "execution_count": 11,
     "metadata": {},
     "output_type": "execute_result"
    }
   ],
   "source": [
    "news"
   ]
  },
  {
   "cell_type": "code",
   "execution_count": 13,
   "id": "177c7053",
   "metadata": {
    "ExecuteTime": {
     "end_time": "2021-06-08T07:43:09.470935Z",
     "start_time": "2021-06-08T07:42:49.552114Z"
    }
   },
   "outputs": [
    {
     "data": {
      "text/plain": [
       "<AxesSubplot:xlabel='new_date', ylabel='AVG Viewers'>"
      ]
     },
     "execution_count": 13,
     "metadata": {},
     "output_type": "execute_result"
    },
    {
     "data": {
      "image/png": "[encoded data removed]",
      "text/plain": [
       "<Figure size 432x288 with 1 Axes>"
      ]
     },
     "metadata": {
      "needs_background": "light"
     },
     "output_type": "display_data"
    }
   ],
   "source": [
    "sns.lineplot(x = target['new_date'] ,y= target['AVG Viewers'])"
   ]
  },
  {
   "cell_type": "code",
   "execution_count": 12,
   "id": "6d9e01e1",
   "metadata": {
    "ExecuteTime": {
     "end_time": "2021-06-08T07:41:23.667299Z",
     "start_time": "2021-06-08T07:41:21.586704Z"
    }
   },
   "outputs": [
    {
     "data": {
      "text/plain": [
       "<AxesSubplot:xlabel='new_date', ylabel='AVG Viewers'>"
      ]
     },
     "execution_count": 12,
     "metadata": {},
     "output_type": "execute_result"
    },
    {
     "data": {
      "image/png": "[encoded data removed]",
      "text/plain": [
       "<Figure size 432x288 with 1 Axes>"
      ]
     },
     "metadata": {
      "needs_background": "light"
     },
     "output_type": "display_data"
    }
   ],
   "source": [
    "sns.lineplot(x = news['new_date'] ,y= news['AVG Viewers'])"
   ]
  },
  {
   "cell_type": "code",
   "execution_count": null,
   "id": "bf8f24d5",
   "metadata": {},
   "outputs": [],
   "source": []
  }
 ],
 "metadata": {
  "kernelspec": {
   "display_name": "Python 3",
   "language": "python",
   "name": "python3"
  },
  "language_info": {
   "codemirror_mode": {
    "name": "ipython",
    "version": 3
   },
   "file_extension": ".py",
   "mimetype": "text/x-python",
   "name": "python",
   "nbconvert_exporter": "python",
   "pygments_lexer": "ipython3",
   "version": "3.8.6"
  },
  "toc": {
   "base_numbering": 1,
   "nav_menu": {},
   "number_sections": true,
   "sideBar": true,
   "skip_h1_title": false,
   "title_cell": "Table of Contents",
   "title_sidebar": "Contents",
   "toc_cell": false,
   "toc_position": {},
   "toc_section_display": true,
   "toc_window_display": false
  }
 },
 "nbformat": 4,
 "nbformat_minor": 5
}
