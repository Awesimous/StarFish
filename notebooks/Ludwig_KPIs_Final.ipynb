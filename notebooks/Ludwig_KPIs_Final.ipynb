{
 "cells": [
  {
   "cell_type": "markdown",
   "id": "3b85afaf-9ace-4ad4-88be-774ec1b1b4a1",
   "metadata": {},
   "source": [
    "# KPIs & Score out of Youtube API"
   ]
  },
  {
   "cell_type": "markdown",
   "id": "281ac0e2-670d-4389-976c-91a0be78055f",
   "metadata": {},
   "source": [
    "# in discussion with Ale and Simon: \n",
    "- total , average likes per video\n",
    "- total , average views\n",
    "\n",
    "- makes more sense in combination\n",
    "- we want persisten streamer. thats someone we want to advertise.\n",
    "- total likes tell us how much exposure"
   ]
  },
  {
   "cell_type": "code",
   "execution_count": 52,
   "id": "36f4c068-b40d-43b7-9dfb-460e30b4193e",
   "metadata": {},
   "outputs": [],
   "source": [
    "import json\n",
    "import pandas as pd\n",
    "import matplotlib.pyplot as plt"
   ]
  },
  {
   "cell_type": "markdown",
   "id": "7e903c60-5317-4c36-a31d-a38a5e779228",
   "metadata": {},
   "source": [
    "#### Get the Channel Statistics"
   ]
  },
  {
   "cell_type": "code",
   "execution_count": 90,
   "id": "5506f389-5637-4691-a1db-f65a23e0cf99",
   "metadata": {},
   "outputs": [],
   "source": [
    "def get_channel_stats(user):#see path json needs to be parsed\n",
    "    with open(f\"YTjson/{user}.json\") as f:\n",
    "        data = list(json.load(f).items())\n",
    "        data = data[0][1]\n",
    "        return data[\"channel_statistics\"]\n",
    "    "
   ]
  },
  {
   "cell_type": "code",
   "execution_count": 89,
   "id": "968d6374-10d7-4800-b02f-bd76c45a0f4f",
   "metadata": {},
   "outputs": [
    {
     "data": {
      "text/plain": [
       "{'viewCount': '1484519640',\n",
       " 'subscriberCount': '11300000',\n",
       " 'hiddenSubscriberCount': False,\n",
       " 'videoCount': '370'}"
      ]
     },
     "execution_count": 89,
     "metadata": {},
     "output_type": "execute_result"
    }
   ],
   "source": [
    "get_channel_stats(\"auron\")"
   ]
  },
  {
   "cell_type": "markdown",
   "id": "22b97969-1fa9-4263-a17c-9dcec1e5496c",
   "metadata": {},
   "source": [
    "#### Transform it to a dict."
   ]
  },
  {
   "cell_type": "code",
   "execution_count": 91,
   "id": "cf6bf451-7a26-4b80-96f3-de7a922aad23",
   "metadata": {},
   "outputs": [],
   "source": [
    "def channelstats_toframe(channel_stats):\n",
    "    column_names = [\"viewCount\", \"subscriberCount\", \"hiddenSubscriberCount\", \"videoCount\"]\n",
    "    df = pd.DataFrame(data=channel_stats, columns=column_names, index=range(0))\n",
    "    return df.append(channel_stats, ignore_index=True)\n",
    "    "
   ]
  },
  {
   "cell_type": "code",
   "execution_count": 92,
   "id": "ebec688c-e284-4469-9ce8-b8eb3fdd60e1",
   "metadata": {},
   "outputs": [
    {
     "data": {
      "text/html": [
       "<div>\n",
       "<style scoped>\n",
       "    .dataframe tbody tr th:only-of-type {\n",
       "        vertical-align: middle;\n",
       "    }\n",
       "\n",
       "    .dataframe tbody tr th {\n",
       "        vertical-align: top;\n",
       "    }\n",
       "\n",
       "    .dataframe thead th {\n",
       "        text-align: right;\n",
       "    }\n",
       "</style>\n",
       "<table border=\"1\" class=\"dataframe\">\n",
       "  <thead>\n",
       "    <tr style=\"text-align: right;\">\n",
       "      <th></th>\n",
       "      <th>viewCount</th>\n",
       "      <th>subscriberCount</th>\n",
       "      <th>hiddenSubscriberCount</th>\n",
       "      <th>videoCount</th>\n",
       "    </tr>\n",
       "  </thead>\n",
       "  <tbody>\n",
       "    <tr>\n",
       "      <th>0</th>\n",
       "      <td>1484519640</td>\n",
       "      <td>11300000</td>\n",
       "      <td>False</td>\n",
       "      <td>370</td>\n",
       "    </tr>\n",
       "  </tbody>\n",
       "</table>\n",
       "</div>"
      ],
      "text/plain": [
       "    viewCount subscriberCount  hiddenSubscriberCount videoCount\n",
       "0  1484519640        11300000                  False        370"
      ]
     },
     "execution_count": 92,
     "metadata": {},
     "output_type": "execute_result"
    }
   ],
   "source": [
    "channelstats_toframe(get_channel_stats(\"auron\"))\n",
    "#todo: Username needs to be added to the df\n",
    "#todo: df with all streamers we have needs to be done"
   ]
  },
  {
   "cell_type": "markdown",
   "id": "9f4007d2-35eb-437c-93af-bee192853cda",
   "metadata": {},
   "source": [
    "#### Transform the json in for us useful data, return it as a dataframe"
   ]
  },
  {
   "cell_type": "code",
   "execution_count": 4,
   "id": "a5a1a29f-9b02-4499-8dea-a7647ba69933",
   "metadata": {},
   "outputs": [],
   "source": []
  },
  {
   "cell_type": "code",
   "execution_count": 94,
   "id": "c511f51d-cbc5-4ede-b1f5-a420e5b09c4a",
   "metadata": {},
   "outputs": [],
   "source": [
    "#final function \n",
    "def Streamer_kpis(df):\n",
    "    data = []\n",
    "    final_data = {}\n",
    "    values = [\"title\", \"channelId\", \"channelTitle\", \"categoryId\", \"viewCount\", \"likeCount\", \"dislikeCount\", \"commentCount\"]\n",
    "    \n",
    "    df = pd.DataFrame(columns=[\"video\"] + values)\n",
    "    with open(\"YTjson/auron.json\") as f:\n",
    "        data = list(json.load(f).items())\n",
    "        data = data[0][1]\n",
    "    for video, data_inVideo in data[\"video_data\"].items():\n",
    "        final_data[\"video\"] = video\n",
    "        for features in values:\n",
    "            final_data[features] = data_inVideo[features]\n",
    "        df = df.append(final_data, ignore_index=True)\n",
    "    return df\n"
   ]
  },
  {
   "cell_type": "markdown",
   "id": "55eb8ef7-984c-4b88-bc6b-948fd24da3de",
   "metadata": {},
   "source": [
    "#### Conversion into the correct file formats. "
   ]
  },
  {
   "cell_type": "code",
   "execution_count": 7,
   "id": "a8e93f7d-3e0e-47b7-9f7f-667ad25a3cf2",
   "metadata": {},
   "outputs": [],
   "source": [
    "#all columns transfered to the right dtypes\n",
    "def correct_file_formats(df):\n",
    "    df = df.astype({\"categoryId\": \"int64\", \"viewCount\": \"int64\", \"likeCount\": \"int64\", \"dislikeCount\": \"int64\", \"commentCount\": \"int64\"})\n",
    "    #df = pd.to_numeric(\"categoryId\", \"float64\")\n",
    "    return df"
   ]
  },
  {
   "cell_type": "code",
   "execution_count": 10,
   "id": "7e6be3a5-e25f-4824-a9e8-6e22f5487953",
   "metadata": {},
   "outputs": [],
   "source": [
    "df = correct_file_formats(df)"
   ]
  },
  {
   "cell_type": "markdown",
   "id": "25c38e4c-014e-4bd7-893d-0a89157f5b33",
   "metadata": {},
   "source": [
    "#### KPI calculations"
   ]
  },
  {
   "cell_type": "code",
   "execution_count": 12,
   "id": "6395b1c1-cfd6-4b47-9003-76129e35ef78",
   "metadata": {},
   "outputs": [],
   "source": [
    "def max_like(df):\n",
    "    maxx = df[\"likeCount\"].max()\n",
    "    return maxx"
   ]
  },
  {
   "cell_type": "code",
   "execution_count": null,
   "id": "8a4be438-8ced-4ab1-aea8-d5e9af7ad5c7",
   "metadata": {},
   "outputs": [],
   "source": [
    "\n",
    "def avg_like(df):\n",
    "    avg = df[\"likeCount\"].mean()\n",
    "    return avg"
   ]
  },
  {
   "cell_type": "code",
   "execution_count": null,
   "id": "4e5fa586-e761-48e5-a040-fca571c9ed57",
   "metadata": {},
   "outputs": [],
   "source": [
    "df.viewCount.isnull().values.any()"
   ]
  },
  {
   "cell_type": "markdown",
   "id": "44daefd1-525a-4d22-b9c4-5c2607b5bc7a",
   "metadata": {},
   "source": [
    "#### transform the column \"categoryId\" into the categories by name; not index"
   ]
  },
  {
   "cell_type": "code",
   "execution_count": 50,
   "id": "83aeee70-97d2-4e29-ba38-71e709357f0d",
   "metadata": {},
   "outputs": [],
   "source": [
    "\n",
    "\n",
    "# \"categoryId\" has matching categorynames for every number. The function returns a piechart.\n",
    "def category_pie(df):\n",
    "    \n",
    "    game_categories = {\n",
    "    1 : \"Film&Animation\",\n",
    "    2 : \"Autos&Vehicles\",\n",
    "    10 : \"Music\",\n",
    "    15 : \"Pets&Animals\",\n",
    "    17 : \"Sports\",\n",
    "    19 : \"Travel&Events\",\n",
    "    20 : \"Gaming\",\n",
    "    22 : \"People&Blogs\",\n",
    "    23 : \"Comedy\",\n",
    "    24 : \"Entertainment\",\n",
    "    25 : \"News&Politics\",\n",
    "    26 : \"Howto&Style\",\n",
    "    27 : \"Education\",\n",
    "    28 : \"Science&Technology\",\n",
    "    29 : \"Nonprofits&Activism\",\n",
    "}\n",
    "     \n",
    "    df[\"categoryId\"] = df[\"categoryId\"].replace(game_categories)\n",
    "    return df\n",
    "    \n",
    "        \n",
    "    \n",
    "    #plot this to a pie chart"
   ]
  },
  {
   "cell_type": "code",
   "execution_count": 56,
   "id": "fadfea55-f760-478c-9b24-8d97cea8f482",
   "metadata": {},
   "outputs": [],
   "source": [
    "df = category_pie(df)"
   ]
  },
  {
   "cell_type": "markdown",
   "id": "f2049ead-c3ab-4bc0-97c0-033591ac4dc5",
   "metadata": {},
   "source": [
    "#### transforming the categorie in numbers to represent the different parts"
   ]
  },
  {
   "cell_type": "code",
   "execution_count": 101,
   "id": "a86d75ad-736a-4adb-a3cc-534b8bfe541b",
   "metadata": {},
   "outputs": [],
   "source": [
    "def value_counts(df):\n",
    "    value_count = df[\"categoryId\"].value_counts()\n",
    "    return value_count"
   ]
  },
  {
   "cell_type": "code",
   "execution_count": null,
   "id": "b2339e1a-6cbb-4696-8f94-86a78b88a19f",
   "metadata": {},
   "outputs": [],
   "source": [
    "value_counts(df)"
   ]
  },
  {
   "cell_type": "markdown",
   "id": "176fde0b-80e2-4526-bede-8f3d79254a77",
   "metadata": {},
   "source": [
    "#### ploting a pie chart out of it"
   ]
  },
  {
   "cell_type": "code",
   "execution_count": 105,
   "id": "4f64726a-ab34-49ad-a76c-a77e741d8946",
   "metadata": {},
   "outputs": [],
   "source": [
    "def plot_pie(value_count):\n",
    "    plt.figure(figsize=(10,10))\n",
    "    plt.pie(value_count, labels=[\"Gaming\", \"Comedy\", \"Entertainment\"], frame=True) # !!! HARDCODED THE LABELS NEED TO ADAPT THE LABELS FROM THE STREAMER! \n",
    "    plt.show()\n",
    "    \n"
   ]
  },
  {
   "cell_type": "code",
   "execution_count": null,
   "id": "84d8ef2e-02e3-4c15-92c6-b8d5016ac5d4",
   "metadata": {},
   "outputs": [],
   "source": [
    "plot_pie(value_count)"
   ]
  }
 ],
 "metadata": {
  "kernelspec": {
   "display_name": "Python 3",
   "language": "python",
   "name": "python3"
  },
  "language_info": {
   "codemirror_mode": {
    "name": "ipython",
    "version": 3
   },
   "file_extension": ".py",
   "mimetype": "text/x-python",
   "name": "python",
   "nbconvert_exporter": "python",
   "pygments_lexer": "ipython3",
   "version": "3.8.6"
  }
 },
 "nbformat": 4,
 "nbformat_minor": 5
}
