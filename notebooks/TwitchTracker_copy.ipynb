{
 "cells": [
  {
   "cell_type": "code",
   "execution_count": 1,
   "id": "14f4fd85",
   "metadata": {
    "ExecuteTime": {
     "end_time": "2021-06-02T09:21:45.775391Z",
     "start_time": "2021-06-02T09:21:45.758395Z"
    }
   },
   "outputs": [],
   "source": [
    "#tool to retrieve the content (selenium or requests); selenium is immitation user; requests is directly connected with the server\n",
    "#start with request and then go with selenium if it is not working\n",
    "\n",
    "#2nd part: bs4 or lmxl(alternative to bs4) to parse the webpage:"
   ]
  },
  {
   "cell_type": "code",
   "execution_count": 1,
   "id": "21a9a15c",
   "metadata": {
    "ExecuteTime": {
     "end_time": "2021-06-02T09:24:55.954298Z",
     "start_time": "2021-06-02T09:24:54.847618Z"
    }
   },
   "outputs": [],
   "source": [
    "import requests\n",
    "from bs4 import BeautifulSoup\n",
    "import pandas as pd\n",
    "from selenium import webdriver\n",
    "from selenium.webdriver.chrome.options import Options"
   ]
  },
  {
   "cell_type": "code",
   "execution_count": 2,
   "id": "68bc1843",
   "metadata": {
    "ExecuteTime": {
     "end_time": "2021-06-02T09:24:59.342622Z",
     "start_time": "2021-06-02T09:24:59.325066Z"
    }
   },
   "outputs": [],
   "source": [
    "pages = range(2,25)\n",
    "url = f\"https://twitchtracker.com/channels/viewership?page=1\"\n",
    "def parse_html(url):\n",
    "    headers = {'User-Agent': 'Mozilla/5.0 (Platform; Security; OS-or-CPU; Localization; rv:1.4) Gecko/20030624 Netscape/7.1 (ax)'}\n",
    "    response = requests.get(url, headers=headers)\n",
    "    soup = BeautifulSoup(response.content, 'html.parser')\n",
    "    df=pd.read_html(str(soup), flavor='bs4')[0]\n",
    "    return df"
   ]
  },
  {
   "cell_type": "code",
   "execution_count": 3,
   "id": "a3247e27",
   "metadata": {
    "ExecuteTime": {
     "end_time": "2021-06-02T09:26:04.271477Z",
     "start_time": "2021-06-02T09:25:00.073175Z"
    }
   },
   "outputs": [
    {
     "name": "stdout",
     "output_type": "stream",
     "text": [
      "2\n",
      "3\n",
      "4\n",
      "5\n",
      "6\n",
      "7\n",
      "8\n",
      "9\n",
      "10\n",
      "11\n",
      "12\n",
      "13\n",
      "14\n",
      "15\n",
      "16\n",
      "17\n",
      "18\n",
      "19\n",
      "20\n",
      "21\n",
      "22\n",
      "23\n",
      "24\n"
     ]
    }
   ],
   "source": [
    "import time\n",
    "t=1\n",
    "\n",
    "df = parse_html(url)\n",
    "for page in pages:\n",
    "    print(page)\n",
    "    new_df = parse_html(f\"https://twitchtracker.com/channels/viewership?page={page}\")\n",
    "    df = df.append(new_df, ignore_index=True)\n",
    "    time.sleep(t)\n",
    "    "
   ]
  },
  {
   "cell_type": "code",
   "execution_count": null,
   "id": "47f5bcce",
   "metadata": {
    "ExecuteTime": {
     "end_time": "2021-06-02T09:21:47.316871Z",
     "start_time": "2021-06-02T09:21:45.685Z"
    },
    "scrolled": true
   },
   "outputs": [],
   "source": [
    "df.head(50)"
   ]
  },
  {
   "cell_type": "code",
   "execution_count": null,
   "id": "87de1b8e",
   "metadata": {
    "ExecuteTime": {
     "end_time": "2021-06-02T09:21:47.321689Z",
     "start_time": "2021-06-02T09:21:45.689Z"
    }
   },
   "outputs": [],
   "source": [
    "df.pop('Unnamed: 1')"
   ]
  },
  {
   "cell_type": "code",
   "execution_count": null,
   "id": "e3ec198e",
   "metadata": {
    "ExecuteTime": {
     "end_time": "2021-06-02T09:21:47.324899Z",
     "start_time": "2021-06-02T09:21:45.691Z"
    },
    "scrolled": true
   },
   "outputs": [],
   "source": [
    "df['Unnamed: 2'] "
   ]
  },
  {
   "cell_type": "code",
   "execution_count": null,
   "id": "6c926cc2",
   "metadata": {
    "ExecuteTime": {
     "end_time": "2021-06-02T09:21:47.329555Z",
     "start_time": "2021-06-02T09:21:45.694Z"
    }
   },
   "outputs": [],
   "source": [
    "df = df.rename(columns={'Unnamed: 2': 'username'})"
   ]
  },
  {
   "cell_type": "code",
   "execution_count": null,
   "id": "07632703",
   "metadata": {
    "ExecuteTime": {
     "end_time": "2021-06-02T09:21:47.340550Z",
     "start_time": "2021-06-02T09:21:45.697Z"
    }
   },
   "outputs": [],
   "source": [
    "#remove ads rows\n",
    "#remove 'Unnamed: 1' column \n",
    "#which columns do we need\n",
    "#"
   ]
  },
  {
   "cell_type": "code",
   "execution_count": null,
   "id": "ca38dc9e",
   "metadata": {
    "ExecuteTime": {
     "end_time": "2021-06-02T09:21:47.358246Z",
     "start_time": "2021-06-02T09:21:45.699Z"
    }
   },
   "outputs": [],
   "source": [
    "#username = df['username']\n",
    "#https://twitchtracker.com/{username}\n",
    "\n",
    "#Info from username page: games, language channel, rank in their language, recent streams, increase of followers and hours "
   ]
  },
  {
   "cell_type": "code",
   "execution_count": null,
   "id": "2208e715",
   "metadata": {
    "ExecuteTime": {
     "end_time": "2021-06-02T09:21:47.361243Z",
     "start_time": "2021-06-02T09:21:45.702Z"
    }
   },
   "outputs": [],
   "source": [
    "df = df.rename(columns={'Unnamed: 0': 'id'})"
   ]
  },
  {
   "cell_type": "code",
   "execution_count": null,
   "id": "191fa6b6",
   "metadata": {
    "ExecuteTime": {
     "end_time": "2021-06-02T09:21:47.375344Z",
     "start_time": "2021-06-02T09:21:45.704Z"
    }
   },
   "outputs": [],
   "source": [
    "df.sample(5)"
   ]
  },
  {
   "cell_type": "code",
   "execution_count": null,
   "id": "e7cf7845",
   "metadata": {
    "ExecuteTime": {
     "end_time": "2021-06-02T09:21:47.385051Z",
     "start_time": "2021-06-02T09:21:45.707Z"
    }
   },
   "outputs": [],
   "source": [
    "#to_remove = df[df['id']!=]"
   ]
  },
  {
   "cell_type": "code",
   "execution_count": null,
   "id": "21da3636",
   "metadata": {
    "ExecuteTime": {
     "end_time": "2021-06-02T09:21:47.392558Z",
     "start_time": "2021-06-02T09:21:45.711Z"
    }
   },
   "outputs": [],
   "source": [
    "to_remove = df[\"id\"].str.contains('ads')"
   ]
  },
  {
   "cell_type": "code",
   "execution_count": null,
   "id": "c8b11990",
   "metadata": {
    "ExecuteTime": {
     "end_time": "2021-06-02T09:21:47.398686Z",
     "start_time": "2021-06-02T09:21:45.715Z"
    }
   },
   "outputs": [],
   "source": [
    "df"
   ]
  },
  {
   "cell_type": "code",
   "execution_count": null,
   "id": "5f90ca17",
   "metadata": {
    "ExecuteTime": {
     "end_time": "2021-06-02T09:21:47.424219Z",
     "start_time": "2021-06-02T09:21:45.717Z"
    }
   },
   "outputs": [],
   "source": [
    "# get all streamer with usernames in a list to feed into scraping\n",
    "def usernames(df)\n",
    "    usernames = []\n",
    "    for entry in df['username']:\n",
    "        if '.ads' not in entry:\n",
    "            usernames.append(entry)"
   ]
  },
  {
   "cell_type": "code",
   "execution_count": null,
   "id": "305ce78c",
   "metadata": {
    "ExecuteTime": {
     "end_time": "2021-06-02T09:21:47.427543Z",
     "start_time": "2021-06-02T09:21:45.722Z"
    }
   },
   "outputs": [],
   "source": [
    "DRIVER_PATH = '/Users/home/Documents/Bootcamp/Google'\n",
    "def parse_twitter(df):\n",
    "    usernames = df['username'].tolist()\n",
    "    for user in usernames:\n",
    "        \n",
    "        driver = webdriver.Chrome(executable_path=DRIVER_PATH)\n",
    "        driver.get('https://google.com')\n",
    "        headers = {'User-Agent': 'Mozilla/5.0 (Platform; Security; OS-or-CPU; Localization; rv:1.4) Gecko/20030624 Netscape/7.1 (ax)'}\n",
    "        response = requests.get(url, headers=headers)\n",
    "        soup = BeautifulSoup(response.content, 'html.parser')\n",
    "        df=pd.read_html(str(soup), flavor='bs4')[0]\n",
    "    return df"
   ]
  },
  {
   "cell_type": "code",
   "execution_count": null,
   "id": "2bc99a21",
   "metadata": {
    "ExecuteTime": {
     "end_time": "2021-06-02T09:21:47.434474Z",
     "start_time": "2021-06-02T09:21:45.727Z"
    }
   },
   "outputs": [],
   "source": [
    "usernames"
   ]
  },
  {
   "cell_type": "code",
   "execution_count": null,
   "id": "e1ed276a",
   "metadata": {
    "ExecuteTime": {
     "end_time": "2021-06-02T09:21:47.448046Z",
     "start_time": "2021-06-02T09:21:45.730Z"
    }
   },
   "outputs": [],
   "source": [
    "options = webdriver.ChromeOptions()\n",
    "options.binary_location = \"/Applications/Google Chrome.app/Contents/MacOS/Google Chrome\"\n",
    "chrome_driver_binary = \"/Users/home/Documents/Bootcamp/chromedriver\"\n",
    "driver = webdriver.Chrome(chrome_driver_binary, chrome_options=options)\n",
    "\n",
    "soup=BeautifulSoup(driver.page_source)\n",
    "dict = {}\n",
    "for user in usernames:\n",
    "    URL= f\"https://www.twitch.tv/{user}/about\"\n",
    "    driver.get(URL)\n",
    "    soup=BeautifulSoup(driver.page_source)\n",
    "    twitter = [a[\"href\"] for a in soup.find_all(\"a\", href=True) if \"twitter\" in a[\"href\"]]\n",
    "    youtube = [a[\"href\"] for a in soup.find_all(\"a\", href=True) if \"youtube\" in a[\"href\"]]\n",
    "    dict[user] = twitter + youtube\n",
    "    driver.quit() "
   ]
  },
  {
   "cell_type": "code",
   "execution_count": null,
   "id": "eaf676d2",
   "metadata": {
    "ExecuteTime": {
     "end_time": "2021-06-02T09:21:47.463192Z",
     "start_time": "2021-06-02T09:21:45.731Z"
    }
   },
   "outputs": [],
   "source": [
    "# Trying to get link to other social media plattforms from respective twitch/about page of users\n",
    "# here I chose one of my favorite streamer\n",
    "\n",
    "import requests\n",
    "from bs4 import BeautifulSoup\n",
    "\n",
    "URL= \"https://www.twitch.tv/noway4u_sir/about\"\n",
    "\n",
    "headers = {'User-Agent': 'Mozilla/5.0 (Platform; Security; OS-or-CPU; Localization; rv:1.4) Gecko/20030624 Netscape/7.1 (ax)'}\n",
    "response = requests.get(URL, headers=headers)\n",
    "soup = BeautifulSoup(response.content, \"html.parser\")\n",
    "# response = requests.get(html)\n",
    "# test = soup.find_all(href=True) # should return all href tags of that page but somehow no social media plattform is shown\n",
    "\n",
    "# handles = [a[\"href\"] for a in soup.find_all(\"a\", href=True) if(\"twitter\" in a[\"href\"])]\n",
    "handles2= [a[\"href\"] for a in soup.find_all(\"a\", href=True)]\n",
    "\n",
    "## other stuff that I tried based on google and our lecture on the API\n",
    "\n",
    "# links_with_text = []\n",
    "# for a in soup.find_all('a', href=True): \n",
    "#     if a.text: \n",
    "#         links_with_text.append(a['href'])\n",
    "        \n",
    "\n",
    "\n",
    "# soup = BeautifulSoup(response.content, \"html.parser\")\n",
    "# social = soup.find(\"div\", class_=\"sc-AxjAm jMKFBR\")\n",
    "# # twitter = social.find(\"div\", class_=\"sc-AxjAm jgNmMs social-media-link__container\").find(\"a\").string\n",
    "# youtube = int(movie.find(\"span\", class_=\"runtime\").string.strip(' min'))\n",
    "# instagram =  movie.find(\"h3\").find(\"a\").string\n",
    "\n",
    "\n",
    "# movies.append({'title': title, 'duration': duration})\n",
    "\n",
    "\n",
    "# movies = []\n",
    "# for movie in soup.find_all(\"div\", class_=\"lister-item-content\"):\n",
    "\n",
    "\n",
    "# print(movies[0:2])\n",
    "\n",
    "\n",
    "\n",
    "\n",
    "# def parse_streamer(streamer):\n",
    "#     twitter = article.find('p', class_= 'recipe-name').string.strip()\n",
    "#     difficulty = article.find('span', class_= 'recipe-difficulty').string.strip()\n",
    "#     prep_time = article.find('span', class_= 'recipe-cooktime').string.strip()\n",
    "#     return {'name': name, 'difficulty': difficulty, 'prep_time': prep_time}"
   ]
  },
  {
   "cell_type": "code",
   "execution_count": null,
   "id": "24bff06c",
   "metadata": {
    "ExecuteTime": {
     "end_time": "2021-06-02T09:21:47.468657Z",
     "start_time": "2021-06-02T09:21:45.733Z"
    }
   },
   "outputs": [],
   "source": [
    "from bs4 import BeautifulSoup\n",
    "from selenium import webdriver\n",
    "driver = webdriver.Chrome()\n",
    "URL= \"https://www.twitch.tv/noway4u_sir/about\"\n",
    "driver.get(URL)\n",
    "soup = BeautifulSoup(driver.page_source, 'html.parser')\n",
    "driver.quit()\n",
    "print(soup.prettify())"
   ]
  },
  {
   "cell_type": "code",
   "execution_count": null,
   "id": "9eeb0eaa",
   "metadata": {
    "ExecuteTime": {
     "end_time": "2021-06-02T09:21:47.490055Z",
     "start_time": "2021-06-02T09:21:45.735Z"
    }
   },
   "outputs": [],
   "source": [
    "handles2"
   ]
  },
  {
   "cell_type": "code",
   "execution_count": null,
   "id": "3844f151",
   "metadata": {
    "ExecuteTime": {
     "end_time": "2021-06-02T09:21:47.498684Z",
     "start_time": "2021-06-02T09:21:45.737Z"
    }
   },
   "outputs": [],
   "source": [
    "soup.find_all('a', class_='tw-link')"
   ]
  },
  {
   "cell_type": "code",
   "execution_count": null,
   "id": "99d3baaf",
   "metadata": {
    "ExecuteTime": {
     "end_time": "2021-06-02T09:21:47.503652Z",
     "start_time": "2021-06-02T09:21:45.740Z"
    }
   },
   "outputs": [],
   "source": [
    "soup.find_all"
   ]
  },
  {
   "cell_type": "code",
   "execution_count": null,
   "id": "bd0aabd8",
   "metadata": {
    "ExecuteTime": {
     "end_time": "2021-06-02T09:21:47.509496Z",
     "start_time": "2021-06-02T09:21:45.743Z"
    }
   },
   "outputs": [],
   "source": [
    "# pages = range(2,25)\n",
    "# url = f\"https://twitchtracker.com/channels/viewership?page=1\"\n",
    "# def parse_html(url):\n",
    "#     headers = {'User-Agent': 'Mozilla/5.0 (Platform; Security; OS-or-CPU; Localization; rv:1.4) Gecko/20030624 Netscape/7.1 (ax)'}\n",
    "#     response = requests.get(url, headers=headers)\n",
    "#     soup = BeautifulSoup(response.content, 'html.parser')\n",
    "#     df=pd.read_html(str(soup), flavor='bs4')[0]\n",
    "#     return df\n",
    "\n",
    "# import time\n",
    "# t=1\n",
    "\n",
    "# df = parse_html(url)\n",
    "# for page in pages:\n",
    "#     print(page)\n",
    "#     new_df = parse_html(f\"https://twitchtracker.com/channels/viewership?page={page}\")\n",
    "#     df = df.append(new_df, ignore_index=True)\n",
    "#     time.sleep(t)"
   ]
  },
  {
   "cell_type": "code",
   "execution_count": null,
   "id": "c1daddcb",
   "metadata": {
    "ExecuteTime": {
     "end_time": "2021-06-02T09:21:47.515520Z",
     "start_time": "2021-06-02T09:21:45.745Z"
    }
   },
   "outputs": [],
   "source": [
    "to_remove"
   ]
  },
  {
   "cell_type": "code",
   "execution_count": null,
   "id": "1a5c35d5",
   "metadata": {
    "ExecuteTime": {
     "end_time": "2021-06-02T09:21:47.520525Z",
     "start_time": "2021-06-02T09:21:45.748Z"
    }
   },
   "outputs": [],
   "source": [
    "df[to_remove]"
   ]
  },
  {
   "cell_type": "code",
   "execution_count": null,
   "id": "7cf22cfa",
   "metadata": {
    "ExecuteTime": {
     "end_time": "2021-06-02T09:21:47.528098Z",
     "start_time": "2021-06-02T09:21:45.750Z"
    }
   },
   "outputs": [],
   "source": [
    "df.to"
   ]
  }
 ],
 "metadata": {
  "kernelspec": {
   "display_name": "Python 3",
   "language": "python",
   "name": "python3"
  },
  "language_info": {
   "codemirror_mode": {
    "name": "ipython",
    "version": 3
   },
   "file_extension": ".py",
   "mimetype": "text/x-python",
   "name": "python",
   "nbconvert_exporter": "python",
   "pygments_lexer": "ipython3",
   "version": "3.8.6"
  },
  "toc": {
   "base_numbering": 1,
   "nav_menu": {},
   "number_sections": true,
   "sideBar": true,
   "skip_h1_title": false,
   "title_cell": "Table of Contents",
   "title_sidebar": "Contents",
   "toc_cell": false,
   "toc_position": {},
   "toc_section_display": true,
   "toc_window_display": false
  }
 },
 "nbformat": 4,
 "nbformat_minor": 5
}
