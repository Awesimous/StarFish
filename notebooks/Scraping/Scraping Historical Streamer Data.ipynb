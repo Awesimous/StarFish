{
 "cells": [
  {
   "cell_type": "code",
   "execution_count": 2,
   "id": "212fbdf7",
   "metadata": {
    "ExecuteTime": {
     "end_time": "2021-06-08T06:17:32.492274Z",
     "start_time": "2021-06-08T06:17:31.782645Z"
    }
   },
   "outputs": [],
   "source": [
    "import requests\n",
    "from bs4 import BeautifulSoup\n",
    "import pandas as pd\n",
    "import numpy as np\n",
    "from selenium import webdriver\n",
    "from selenium.webdriver.chrome.options import Options\n",
    "import time"
   ]
  },
  {
   "cell_type": "code",
   "execution_count": 3,
   "id": "0aa19250",
   "metadata": {
    "ExecuteTime": {
     "end_time": "2021-06-08T06:17:32.666990Z",
     "start_time": "2021-06-08T06:17:32.661676Z"
    }
   },
   "outputs": [],
   "source": [
    "import requests\n",
    "from bs4 import BeautifulSoup\n",
    "import pandas as pd"
   ]
  },
  {
   "cell_type": "code",
   "execution_count": 7,
   "id": "16ee0e3e",
   "metadata": {
    "ExecuteTime": {
     "end_time": "2021-06-08T06:18:32.278080Z",
     "start_time": "2021-06-08T06:18:32.269203Z"
    }
   },
   "outputs": [],
   "source": [
    "df2 = pd.read_csv('../StarFish/data/streamers_clean.csv')"
   ]
  },
  {
   "cell_type": "code",
   "execution_count": 11,
   "id": "907d9d16",
   "metadata": {
    "ExecuteTime": {
     "end_time": "2021-06-08T06:18:52.491125Z",
     "start_time": "2021-06-08T06:18:52.486440Z"
    }
   },
   "outputs": [
    {
     "data": {
      "text/plain": [
       "(2450, 8)"
      ]
     },
     "execution_count": 11,
     "metadata": {},
     "output_type": "execute_result"
    }
   ],
   "source": [
    "df.shape"
   ]
  },
  {
   "cell_type": "code",
   "execution_count": 12,
   "id": "516a777b",
   "metadata": {
    "ExecuteTime": {
     "end_time": "2021-06-08T06:18:56.178553Z",
     "start_time": "2021-06-08T06:18:56.174059Z"
    }
   },
   "outputs": [
    {
     "data": {
      "text/plain": [
       "(2450, 8)"
      ]
     },
     "execution_count": 12,
     "metadata": {},
     "output_type": "execute_result"
    }
   ],
   "source": [
    "df2.shape"
   ]
  },
  {
   "cell_type": "code",
   "execution_count": 17,
   "id": "017758d3",
   "metadata": {
    "ExecuteTime": {
     "end_time": "2021-06-05T16:07:28.620314Z",
     "start_time": "2021-06-05T16:07:28.401914Z"
    }
   },
   "outputs": [],
   "source": [
    "test = pd.read_csv('top_2500_2')"
   ]
  },
  {
   "cell_type": "code",
   "execution_count": 18,
   "id": "2bb9d5ad",
   "metadata": {
    "ExecuteTime": {
     "end_time": "2021-06-05T16:07:31.514448Z",
     "start_time": "2021-06-05T16:07:31.495582Z"
    }
   },
   "outputs": [
    {
     "data": {
      "text/html": [
       "<div>\n",
       "<style scoped>\n",
       "    .dataframe tbody tr th:only-of-type {\n",
       "        vertical-align: middle;\n",
       "    }\n",
       "\n",
       "    .dataframe tbody tr th {\n",
       "        vertical-align: top;\n",
       "    }\n",
       "\n",
       "    .dataframe thead th {\n",
       "        text-align: right;\n",
       "    }\n",
       "</style>\n",
       "<table border=\"1\" class=\"dataframe\">\n",
       "  <thead>\n",
       "    <tr style=\"text-align: right;\">\n",
       "      <th></th>\n",
       "      <th>User</th>\n",
       "      <th>new_date</th>\n",
       "      <th>new_time</th>\n",
       "      <th>Duration</th>\n",
       "      <th>AVG Viewers</th>\n",
       "      <th>MAX Viewers</th>\n",
       "      <th>Followers Gain</th>\n",
       "      <th>Live Views</th>\n",
       "      <th>Title</th>\n",
       "      <th>daytime_classifier</th>\n",
       "    </tr>\n",
       "  </thead>\n",
       "  <tbody>\n",
       "    <tr>\n",
       "      <th>0</th>\n",
       "      <td>Gotaga</td>\n",
       "      <td>2016-11-17</td>\n",
       "      <td>13:46:53</td>\n",
       "      <td>268</td>\n",
       "      <td>810</td>\n",
       "      <td>1321</td>\n",
       "      <td>0</td>\n",
       "      <td>0</td>\n",
       "      <td>NaN</td>\n",
       "      <td>2</td>\n",
       "    </tr>\n",
       "    <tr>\n",
       "      <th>1</th>\n",
       "      <td>Gotaga</td>\n",
       "      <td>2016-11-17</td>\n",
       "      <td>21:28:22</td>\n",
       "      <td>416</td>\n",
       "      <td>838</td>\n",
       "      <td>1292</td>\n",
       "      <td>134</td>\n",
       "      <td>8579</td>\n",
       "      <td>[FR] GOTAGA l Objectif le TOP 1 ! w/ Carbon / ...</td>\n",
       "      <td>3</td>\n",
       "    </tr>\n",
       "    <tr>\n",
       "      <th>2</th>\n",
       "      <td>Gotaga</td>\n",
       "      <td>2016-11-18</td>\n",
       "      <td>23:44:36</td>\n",
       "      <td>290</td>\n",
       "      <td>726</td>\n",
       "      <td>1059</td>\n",
       "      <td>86</td>\n",
       "      <td>3509</td>\n",
       "      <td>[FR] GOTAGA l BR1 GUNFIGHT LOOSEFIGHT</td>\n",
       "      <td>3</td>\n",
       "    </tr>\n",
       "    <tr>\n",
       "      <th>3</th>\n",
       "      <td>Gotaga</td>\n",
       "      <td>2016-11-20</td>\n",
       "      <td>02:06:35</td>\n",
       "      <td>158</td>\n",
       "      <td>551</td>\n",
       "      <td>781</td>\n",
       "      <td>100</td>\n",
       "      <td>3649</td>\n",
       "      <td>[FR] GOTAGA l BR1 GUNFIGHT LOOSEFIGHT</td>\n",
       "      <td>0</td>\n",
       "    </tr>\n",
       "    <tr>\n",
       "      <th>4</th>\n",
       "      <td>Gotaga</td>\n",
       "      <td>2016-11-20</td>\n",
       "      <td>23:59:33</td>\n",
       "      <td>385</td>\n",
       "      <td>802</td>\n",
       "      <td>1261</td>\n",
       "      <td>76</td>\n",
       "      <td>2447</td>\n",
       "      <td>[FR] GOTAGA l Shoot Pas Radical Oui Oui</td>\n",
       "      <td>3</td>\n",
       "    </tr>\n",
       "    <tr>\n",
       "      <th>...</th>\n",
       "      <td>...</td>\n",
       "      <td>...</td>\n",
       "      <td>...</td>\n",
       "      <td>...</td>\n",
       "      <td>...</td>\n",
       "      <td>...</td>\n",
       "      <td>...</td>\n",
       "      <td>...</td>\n",
       "      <td>...</td>\n",
       "      <td>...</td>\n",
       "    </tr>\n",
       "    <tr>\n",
       "      <th>100179</th>\n",
       "      <td>Pimpeano</td>\n",
       "      <td>2021-05-21</td>\n",
       "      <td>01:19:46</td>\n",
       "      <td>385</td>\n",
       "      <td>5153</td>\n",
       "      <td>8780</td>\n",
       "      <td>2070</td>\n",
       "      <td>60228</td>\n",
       "      <td>Chillstream ☕ 528/550 subs ☕ se charla un rato pa</td>\n",
       "      <td>0</td>\n",
       "    </tr>\n",
       "    <tr>\n",
       "      <th>100180</th>\n",
       "      <td>Pimpeano</td>\n",
       "      <td>2021-05-22</td>\n",
       "      <td>22:04:36</td>\n",
       "      <td>190</td>\n",
       "      <td>24652</td>\n",
       "      <td>31751</td>\n",
       "      <td>2048</td>\n",
       "      <td>85080</td>\n",
       "      <td>TRYHARDEAS O PILETAZO #1 🏆 Premios: 100 subs +...</td>\n",
       "      <td>3</td>\n",
       "    </tr>\n",
       "    <tr>\n",
       "      <th>100181</th>\n",
       "      <td>Pimpeano</td>\n",
       "      <td>2021-05-30</td>\n",
       "      <td>03:22:44</td>\n",
       "      <td>142</td>\n",
       "      <td>7195</td>\n",
       "      <td>10321</td>\n",
       "      <td>1876</td>\n",
       "      <td>43344</td>\n",
       "      <td>ON HASTA EL MILLON 🐱 !yt</td>\n",
       "      <td>0</td>\n",
       "    </tr>\n",
       "    <tr>\n",
       "      <th>100182</th>\n",
       "      <td>Pimpeano</td>\n",
       "      <td>2021-05-31</td>\n",
       "      <td>22:52:53</td>\n",
       "      <td>152</td>\n",
       "      <td>6682</td>\n",
       "      <td>9542</td>\n",
       "      <td>861</td>\n",
       "      <td>30295</td>\n",
       "      <td>MAÑANA ARRANCAMOS EN BOOYAH 🍀 Hoy timba !bitsl...</td>\n",
       "      <td>3</td>\n",
       "    </tr>\n",
       "    <tr>\n",
       "      <th>100183</th>\n",
       "      <td>Pimpeano</td>\n",
       "      <td>2021-06-01</td>\n",
       "      <td>17:12:37</td>\n",
       "      <td>42</td>\n",
       "      <td>5346</td>\n",
       "      <td>7433</td>\n",
       "      <td>257</td>\n",
       "      <td>4792</td>\n",
       "      <td>MEDIA HORITA ACA, Y NOS VAMO PA BOOYAH 🧡</td>\n",
       "      <td>2</td>\n",
       "    </tr>\n",
       "  </tbody>\n",
       "</table>\n",
       "<p>100184 rows × 10 columns</p>\n",
       "</div>"
      ],
      "text/plain": [
       "            User    new_date  new_time  Duration  AVG Viewers  MAX Viewers  \\\n",
       "0         Gotaga  2016-11-17  13:46:53       268          810         1321   \n",
       "1         Gotaga  2016-11-17  21:28:22       416          838         1292   \n",
       "2         Gotaga  2016-11-18  23:44:36       290          726         1059   \n",
       "3         Gotaga  2016-11-20  02:06:35       158          551          781   \n",
       "4         Gotaga  2016-11-20  23:59:33       385          802         1261   \n",
       "...          ...         ...       ...       ...          ...          ...   \n",
       "100179  Pimpeano  2021-05-21  01:19:46       385         5153         8780   \n",
       "100180  Pimpeano  2021-05-22  22:04:36       190        24652        31751   \n",
       "100181  Pimpeano  2021-05-30  03:22:44       142         7195        10321   \n",
       "100182  Pimpeano  2021-05-31  22:52:53       152         6682         9542   \n",
       "100183  Pimpeano  2021-06-01  17:12:37        42         5346         7433   \n",
       "\n",
       "        Followers Gain  Live Views  \\\n",
       "0                    0           0   \n",
       "1                  134        8579   \n",
       "2                   86        3509   \n",
       "3                  100        3649   \n",
       "4                   76        2447   \n",
       "...                ...         ...   \n",
       "100179            2070       60228   \n",
       "100180            2048       85080   \n",
       "100181            1876       43344   \n",
       "100182             861       30295   \n",
       "100183             257        4792   \n",
       "\n",
       "                                                    Title  daytime_classifier  \n",
       "0                                                     NaN                   2  \n",
       "1       [FR] GOTAGA l Objectif le TOP 1 ! w/ Carbon / ...                   3  \n",
       "2                   [FR] GOTAGA l BR1 GUNFIGHT LOOSEFIGHT                   3  \n",
       "3                   [FR] GOTAGA l BR1 GUNFIGHT LOOSEFIGHT                   0  \n",
       "4                 [FR] GOTAGA l Shoot Pas Radical Oui Oui                   3  \n",
       "...                                                   ...                 ...  \n",
       "100179  Chillstream ☕ 528/550 subs ☕ se charla un rato pa                   0  \n",
       "100180  TRYHARDEAS O PILETAZO #1 🏆 Premios: 100 subs +...                   3  \n",
       "100181                           ON HASTA EL MILLON 🐱 !yt                   0  \n",
       "100182  MAÑANA ARRANCAMOS EN BOOYAH 🍀 Hoy timba !bitsl...                   3  \n",
       "100183           MEDIA HORITA ACA, Y NOS VAMO PA BOOYAH 🧡                   2  \n",
       "\n",
       "[100184 rows x 10 columns]"
      ]
     },
     "execution_count": 18,
     "metadata": {},
     "output_type": "execute_result"
    }
   ],
   "source": [
    "test"
   ]
  },
  {
   "cell_type": "markdown",
   "id": "286e1538",
   "metadata": {},
   "source": [
    "# trying to scrape historical data"
   ]
  },
  {
   "cell_type": "markdown",
   "id": "07bb1308",
   "metadata": {},
   "source": [
    "## Scrape data # ez"
   ]
  },
  {
   "cell_type": "code",
   "execution_count": 1,
   "id": "62f5ebd2",
   "metadata": {
    "ExecuteTime": {
     "end_time": "2021-06-09T23:16:42.118282Z",
     "start_time": "2021-06-09T23:16:42.113857Z"
    }
   },
   "outputs": [],
   "source": [
    "def time_assignment(x):\n",
    "    '''Support function to classify streams by time when they are on air'''\n",
    "    midnight = 24\n",
    "    morning = 6 \n",
    "    noon = 12 \n",
    "    evening = 18\n",
    "    if morning <= x.hour < noon:\n",
    "        return 'morning'\n",
    "    elif noon <= x.hour < evening:\n",
    "        return 'afternoon'\n",
    "    elif evening <= x.hour < midnight:\n",
    "        return 'evening'\n",
    "    else:\n",
    "        return 'night'"
   ]
  },
  {
   "cell_type": "code",
   "execution_count": 2,
   "id": "2f229491",
   "metadata": {
    "ExecuteTime": {
     "end_time": "2021-06-09T23:17:15.113865Z",
     "start_time": "2021-06-09T23:17:15.102767Z"
    }
   },
   "outputs": [],
   "source": [
    "def parse_streams(usernames):\n",
    "    '''For all usernames input as a list, retrieve their stats for all streams and classify by daytime'''\n",
    "    import time\n",
    "    t=1\n",
    "    count = 0\n",
    "    df_all = pd.DataFrame(columns=['Stream', 'Duration', 'AVG Viewers', 'MAX Viewers', 'Followers Gain', 'Live Views', 'Title', 'Games', 'Username'])\n",
    "    for user in usernames:\n",
    "        count += 1\n",
    "        url = f\"https://twitchtracker.com/{user}/streams\"\n",
    "        headers = {'User-Agent': 'Mozilla/5.0 (Platform; Security; OS-or-CPU; Localization; rv:1.4) Gecko/20030624 Netscape/7.1 (ax)'}\n",
    "        response = requests.get(url, headers=headers)\n",
    "        soup = BeautifulSoup(response.content, \"html.parser\")\n",
    "        df = pd.read_html(str(soup))[0]\n",
    "        df['Username'] = f'{user}'\n",
    "        temp_df = pd.concat([df_all, df])\n",
    "\n",
    "        temp_df['Stream'] = pd.to_datetime(temp_df['Stream'])\n",
    "        temp_df['Duration'] = temp_df['Duration'].apply(lambda x: int(x))\n",
    "        temp_df['AVG Viewers'] = temp_df['AVG Viewers'].apply(lambda x: int(x))\n",
    "        temp_df['MAX Viewers'] = temp_df['MAX Viewers'].apply(lambda x: int(x))\n",
    "        temp_df['Followers Gain'] = temp_df['Followers Gain'].apply(lambda x: int(x))\n",
    "        temp_df['Live Views'] = temp_df['Live Views'].apply(lambda x: int(x))\n",
    "        new_dates, new_times = zip(*[(d.date(), d.time()) for d in temp_df['Stream']])\n",
    "        df_clean = temp_df.assign(new_date=new_dates, new_time=new_times)\n",
    "        df_clean = df_clean[['User', 'new_date', 'new_time', 'Duration', 'AVG Viewers', 'MAX Viewers', 'Followers Gain', 'Live Views', 'Title']]\n",
    "        df_clean['daytime_classifier'] = df_clean['new_time'].apply(lambda x: time_assignment(x))\n",
    "        if count % 10 == 0:\n",
    "            print(count)\n",
    "        time.sleep(t)\n",
    "    return df_clean\n",
    "# df.to_csv(r'/Users/home/code/Awesimous/StarFish/notebooks/top100_streams', index=False)"
   ]
  },
  {
   "cell_type": "code",
   "execution_count": 9,
   "id": "5582c58b",
   "metadata": {
    "ExecuteTime": {
     "end_time": "2021-06-05T14:12:01.365880Z",
     "start_time": "2021-06-05T14:12:01.363010Z"
    }
   },
   "outputs": [],
   "source": [
    "usernames= df['username'].to_list()"
   ]
  },
  {
   "cell_type": "code",
   "execution_count": 10,
   "id": "4fcc7ca7",
   "metadata": {
    "ExecuteTime": {
     "end_time": "2021-06-05T14:12:35.676038Z",
     "start_time": "2021-06-05T14:12:05.564253Z"
    },
    "scrolled": true
   },
   "outputs": [
    {
     "ename": "KeyboardInterrupt",
     "evalue": "",
     "output_type": "error",
     "traceback": [
      "\u001b[0;31m---------------------------------------------------------------------------\u001b[0m",
      "\u001b[0;31mKeyboardInterrupt\u001b[0m                         Traceback (most recent call last)",
      "\u001b[0;32m<ipython-input-10-f417b290f0ec>\u001b[0m in \u001b[0;36m<module>\u001b[0;34m\u001b[0m\n\u001b[0;32m----> 1\u001b[0;31m \u001b[0mstreams_df\u001b[0m \u001b[0;34m=\u001b[0m \u001b[0mparse_streams\u001b[0m\u001b[0;34m(\u001b[0m\u001b[0musernames\u001b[0m\u001b[0;34m)\u001b[0m\u001b[0;34m\u001b[0m\u001b[0;34m\u001b[0m\u001b[0m\n\u001b[0m",
      "\u001b[0;32m<ipython-input-8-8f4a9145386b>\u001b[0m in \u001b[0;36mparse_streams\u001b[0;34m(usernames)\u001b[0m\n\u001b[1;32m     27\u001b[0m         \u001b[0;32mif\u001b[0m \u001b[0mcount\u001b[0m \u001b[0;34m%\u001b[0m \u001b[0;36m10\u001b[0m \u001b[0;34m==\u001b[0m \u001b[0;36m0\u001b[0m\u001b[0;34m:\u001b[0m\u001b[0;34m\u001b[0m\u001b[0;34m\u001b[0m\u001b[0m\n\u001b[1;32m     28\u001b[0m             \u001b[0mprint\u001b[0m\u001b[0;34m(\u001b[0m\u001b[0mcount\u001b[0m\u001b[0;34m)\u001b[0m\u001b[0;34m\u001b[0m\u001b[0;34m\u001b[0m\u001b[0m\n\u001b[0;32m---> 29\u001b[0;31m         \u001b[0mtime\u001b[0m\u001b[0;34m.\u001b[0m\u001b[0msleep\u001b[0m\u001b[0;34m(\u001b[0m\u001b[0mt\u001b[0m\u001b[0;34m)\u001b[0m\u001b[0;34m\u001b[0m\u001b[0;34m\u001b[0m\u001b[0m\n\u001b[0m\u001b[1;32m     30\u001b[0m     \u001b[0;32mreturn\u001b[0m \u001b[0mdf_clean\u001b[0m\u001b[0;34m\u001b[0m\u001b[0;34m\u001b[0m\u001b[0m\n\u001b[1;32m     31\u001b[0m \u001b[0;31m# df.to_csv(r'/Users/home/code/Awesimous/StarFish/notebooks/top100_streams', index=False)\u001b[0m\u001b[0;34m\u001b[0m\u001b[0;34m\u001b[0m\u001b[0;34m\u001b[0m\u001b[0m\n",
      "\u001b[0;31mKeyboardInterrupt\u001b[0m: "
     ]
    }
   ],
   "source": [
    "streams_df = parse_streams(usernames)"
   ]
  },
  {
   "cell_type": "markdown",
   "id": "6de3d207",
   "metadata": {},
   "source": [
    "## putting all df together"
   ]
  },
  {
   "cell_type": "code",
   "execution_count": 23,
   "id": "41211802",
   "metadata": {
    "ExecuteTime": {
     "end_time": "2021-06-06T06:51:52.615215Z",
     "start_time": "2021-06-06T06:51:46.573720Z"
    }
   },
   "outputs": [],
   "source": [
    "df_top_2450 = pd.DataFrame(columns=['User', 'new_date', 'new_time', 'Duration', 'AVG Viewers', 'MAX Viewers', 'Followers Gain', 'Live Views', 'Title'])\n",
    "for i in range(1, 16):\n",
    "    df = pd.read_csv(f'top_2500_{i}')\n",
    "    df_top_2450 = pd.concat([df_top_2450, df])"
   ]
  },
  {
   "cell_type": "code",
   "execution_count": 25,
   "id": "9582d0df",
   "metadata": {
    "ExecuteTime": {
     "end_time": "2021-06-06T06:53:43.190772Z",
     "start_time": "2021-06-06T06:53:37.875285Z"
    }
   },
   "outputs": [],
   "source": [
    "df_top_2450.to_csv(r'/Users/home/code/Awesimous/StarFish/notebooks/top_2450', index=False)"
   ]
  },
  {
   "cell_type": "markdown",
   "id": "fa960007",
   "metadata": {},
   "source": [
    "## downsizing the df so it can be uploaded to git"
   ]
  },
  {
   "cell_type": "code",
   "execution_count": 26,
   "id": "214a7391",
   "metadata": {
    "ExecuteTime": {
     "end_time": "2021-06-06T07:17:53.675123Z",
     "start_time": "2021-06-06T07:17:53.671757Z"
    }
   },
   "outputs": [],
   "source": [
    "df_top_2000 = df_top_2450[:2000]"
   ]
  },
  {
   "cell_type": "code",
   "execution_count": 28,
   "id": "4fd7e75c",
   "metadata": {
    "ExecuteTime": {
     "end_time": "2021-06-06T07:18:16.246936Z",
     "start_time": "2021-06-06T07:18:16.230628Z"
    }
   },
   "outputs": [],
   "source": [
    "df_top_2000.to_csv(r'/Users/home/code/Awesimous/StarFish/notebooks/top_2000', index=False)"
   ]
  },
  {
   "cell_type": "markdown",
   "id": "955855a5",
   "metadata": {},
   "source": [
    "## Trying to match somehow the time of stream with the game on the twitchtracker page"
   ]
  },
  {
   "cell_type": "code",
   "execution_count": 19,
   "id": "23f496a2",
   "metadata": {
    "ExecuteTime": {
     "end_time": "2021-06-05T07:03:00.058000Z",
     "start_time": "2021-06-05T07:03:00.049267Z"
    }
   },
   "outputs": [],
   "source": [
    "# filter for only agurin user\n",
    "agurin = temp_df[temp_df['User'] == 'agurin']\n",
    "\n",
    "zeiten = agurin['Stream'].to_list()\n",
    "\n",
    "zeiten"
   ]
  },
  {
   "cell_type": "code",
   "execution_count": 70,
   "id": "ccb640c9",
   "metadata": {
    "ExecuteTime": {
     "end_time": "2021-06-05T07:37:28.316298Z",
     "start_time": "2021-06-05T07:37:28.041316Z"
    }
   },
   "outputs": [
    {
     "ename": "AttributeError",
     "evalue": "ResultSet object has no attribute 'find'. You're probably treating a list of elements like a single element. Did you call find_all() when you meant to call find()?",
     "output_type": "error",
     "traceback": [
      "\u001b[0;31m---------------------------------------------------------------------------\u001b[0m",
      "\u001b[0;31mAttributeError\u001b[0m                            Traceback (most recent call last)",
      "\u001b[0;32m<ipython-input-70-f94a769e7b88>\u001b[0m in \u001b[0;36m<module>\u001b[0;34m\u001b[0m\n\u001b[1;32m      7\u001b[0m \u001b[0msoup\u001b[0m\u001b[0;34m.\u001b[0m\u001b[0mfindAll\u001b[0m\u001b[0;34m(\u001b[0m\u001b[0;34m'2017-08-14'\u001b[0m\u001b[0;34m)\u001b[0m\u001b[0;34m\u001b[0m\u001b[0;34m\u001b[0m\u001b[0m\n\u001b[1;32m      8\u001b[0m \u001b[0;34m\u001b[0m\u001b[0m\n\u001b[0;32m----> 9\u001b[0;31m \u001b[0msoup\u001b[0m\u001b[0;34m.\u001b[0m\u001b[0mfind_all\u001b[0m\u001b[0;34m(\u001b[0m\u001b[0;34m'a'\u001b[0m\u001b[0;34m)\u001b[0m\u001b[0;34m.\u001b[0m\u001b[0mfind\u001b[0m\u001b[0;34m(\u001b[0m\u001b[0;34m'src'\u001b[0m\u001b[0;34m)\u001b[0m\u001b[0;34m.\u001b[0m\u001b[0mget\u001b[0m\u001b[0;34m(\u001b[0m\u001b[0;34m'title'\u001b[0m\u001b[0;34m)\u001b[0m\u001b[0;34m\u001b[0m\u001b[0;34m\u001b[0m\u001b[0m\n\u001b[0m",
      "\u001b[0;32m~/.pyenv/versions/3.8.6/envs/starfish/lib/python3.8/site-packages/bs4/element.py\u001b[0m in \u001b[0;36m__getattr__\u001b[0;34m(self, key)\u001b[0m\n\u001b[1;32m   2171\u001b[0m     \u001b[0;32mdef\u001b[0m \u001b[0m__getattr__\u001b[0m\u001b[0;34m(\u001b[0m\u001b[0mself\u001b[0m\u001b[0;34m,\u001b[0m \u001b[0mkey\u001b[0m\u001b[0;34m)\u001b[0m\u001b[0;34m:\u001b[0m\u001b[0;34m\u001b[0m\u001b[0;34m\u001b[0m\u001b[0m\n\u001b[1;32m   2172\u001b[0m         \u001b[0;34m\"\"\"Raise a helpful exception to explain a common code fix.\"\"\"\u001b[0m\u001b[0;34m\u001b[0m\u001b[0;34m\u001b[0m\u001b[0m\n\u001b[0;32m-> 2173\u001b[0;31m         raise AttributeError(\n\u001b[0m\u001b[1;32m   2174\u001b[0m             \u001b[0;34m\"ResultSet object has no attribute '%s'. You're probably treating a list of elements like a single element. Did you call find_all() when you meant to call find()?\"\u001b[0m \u001b[0;34m%\u001b[0m \u001b[0mkey\u001b[0m\u001b[0;34m\u001b[0m\u001b[0;34m\u001b[0m\u001b[0m\n\u001b[1;32m   2175\u001b[0m         )\n",
      "\u001b[0;31mAttributeError\u001b[0m: ResultSet object has no attribute 'find'. You're probably treating a list of elements like a single element. Did you call find_all() when you meant to call find()?"
     ]
    }
   ],
   "source": [
    "## not working out ...\n",
    "\n",
    "url = f\"https://twitchtracker.com/agurin/streams\"\n",
    "headers = {'User-Agent': 'Mozilla/5.0 (Platform; Security; OS-or-CPU; Localization; rv:1.4) Gecko/20030624 Netscape/7.1 (ax)'}\n",
    "response = requests.get(url, headers=headers)\n",
    "soup = BeautifulSoup(response.content, \"html.parser\")\n",
    "\n",
    "soup.findAll(class_='games hidden-xs hidden-sm')\n",
    "\n",
    "[img.text for td in soup.find_all('img title', class_='games hidden-xs hidden-sm')]\n",
    "\n",
    "soup.find_all('img title', class_='games hidden-xs hidden-sm')\n",
    "\n",
    "soup.findAll('2017-08-14')\n",
    "\n",
    "soup.find_all('a').find('src').get('title')"
   ]
  },
  {
   "cell_type": "code",
   "execution_count": null,
   "id": "03df1aa3",
   "metadata": {},
   "outputs": [],
   "source": []
  }
 ],
 "metadata": {
  "kernelspec": {
   "display_name": "Python 3",
   "language": "python",
   "name": "python3"
  },
  "language_info": {
   "codemirror_mode": {
    "name": "ipython",
    "version": 3
   },
   "file_extension": ".py",
   "mimetype": "text/x-python",
   "name": "python",
   "nbconvert_exporter": "python",
   "pygments_lexer": "ipython3",
   "version": "3.8.6"
  },
  "toc": {
   "base_numbering": 1,
   "nav_menu": {},
   "number_sections": true,
   "sideBar": true,
   "skip_h1_title": false,
   "title_cell": "Table of Contents",
   "title_sidebar": "Contents",
   "toc_cell": false,
   "toc_position": {},
   "toc_section_display": true,
   "toc_window_display": false
  }
 },
 "nbformat": 4,
 "nbformat_minor": 5
}
