{
 "cells": [
  {
   "cell_type": "code",
   "execution_count": 1,
   "id": "2afef313",
   "metadata": {
    "ExecuteTime": {
     "end_time": "2021-06-05T10:51:25.354431Z",
     "start_time": "2021-06-05T10:51:23.546438Z"
    }
   },
   "outputs": [],
   "source": [
    "import os\n",
    "import tweepy as tw\n",
    "import pandas as pd\n",
    "import geograpy"
   ]
  },
  {
   "cell_type": "code",
   "execution_count": 3,
   "id": "6675b44d",
   "metadata": {
    "ExecuteTime": {
     "end_time": "2021-06-05T10:51:34.618843Z",
     "start_time": "2021-06-05T10:51:34.608153Z"
    }
   },
   "outputs": [],
   "source": [
    "# import first dataframe (you can save the games df by running: df.to_csv(r'path/filename', index=False))\n",
    "df = pd.read_csv('streamer_df_clean')"
   ]
  },
  {
   "cell_type": "code",
   "execution_count": 4,
   "id": "dd330646",
   "metadata": {
    "ExecuteTime": {
     "end_time": "2021-06-05T10:51:37.024171Z",
     "start_time": "2021-06-05T10:51:36.998957Z"
    }
   },
   "outputs": [
    {
     "data": {
      "text/html": [
       "<div>\n",
       "<style scoped>\n",
       "    .dataframe tbody tr th:only-of-type {\n",
       "        vertical-align: middle;\n",
       "    }\n",
       "\n",
       "    .dataframe tbody tr th {\n",
       "        vertical-align: top;\n",
       "    }\n",
       "\n",
       "    .dataframe thead th {\n",
       "        text-align: right;\n",
       "    }\n",
       "</style>\n",
       "<table border=\"1\" class=\"dataframe\">\n",
       "  <thead>\n",
       "    <tr style=\"text-align: right;\">\n",
       "      <th></th>\n",
       "      <th>username</th>\n",
       "      <th>AVG Viewers</th>\n",
       "      <th>Time Streamed (in hours)</th>\n",
       "      <th>Hours Watched</th>\n",
       "      <th>Followers Gained</th>\n",
       "      <th>Total Followers</th>\n",
       "      <th>Total Views</th>\n",
       "      <th>All Time Peak Viewers</th>\n",
       "    </tr>\n",
       "  </thead>\n",
       "  <tbody>\n",
       "    <tr>\n",
       "      <th>0</th>\n",
       "      <td>tommyinnit</td>\n",
       "      <td>195782</td>\n",
       "      <td>14.3</td>\n",
       "      <td>2806209</td>\n",
       "      <td>334307</td>\n",
       "      <td>5499713</td>\n",
       "      <td>49185807</td>\n",
       "      <td>650237</td>\n",
       "    </tr>\n",
       "    <tr>\n",
       "      <th>1</th>\n",
       "      <td>Quackity</td>\n",
       "      <td>158364</td>\n",
       "      <td>10.2</td>\n",
       "      <td>1620588</td>\n",
       "      <td>198959</td>\n",
       "      <td>3471874</td>\n",
       "      <td>23178122</td>\n",
       "      <td>381550</td>\n",
       "    </tr>\n",
       "    <tr>\n",
       "      <th>2</th>\n",
       "      <td>Sapnap</td>\n",
       "      <td>129001</td>\n",
       "      <td>9.2</td>\n",
       "      <td>1188960</td>\n",
       "      <td>183191</td>\n",
       "      <td>2237876</td>\n",
       "      <td>8740493</td>\n",
       "      <td>287152</td>\n",
       "    </tr>\n",
       "    <tr>\n",
       "      <th>3</th>\n",
       "      <td>auronplay</td>\n",
       "      <td>113520</td>\n",
       "      <td>109.4</td>\n",
       "      <td>12419097</td>\n",
       "      <td>341562</td>\n",
       "      <td>8741858</td>\n",
       "      <td>142994817</td>\n",
       "      <td>313347</td>\n",
       "    </tr>\n",
       "    <tr>\n",
       "      <th>4</th>\n",
       "      <td>xQcOW</td>\n",
       "      <td>109059</td>\n",
       "      <td>339.9</td>\n",
       "      <td>37072768</td>\n",
       "      <td>182238</td>\n",
       "      <td>5776761</td>\n",
       "      <td>361856811</td>\n",
       "      <td>222720</td>\n",
       "    </tr>\n",
       "    <tr>\n",
       "      <th>5</th>\n",
       "      <td>AdinRoss</td>\n",
       "      <td>107816</td>\n",
       "      <td>83.4</td>\n",
       "      <td>8986453</td>\n",
       "      <td>837941</td>\n",
       "      <td>3946089</td>\n",
       "      <td>21778759</td>\n",
       "      <td>254923</td>\n",
       "    </tr>\n",
       "    <tr>\n",
       "      <th>6</th>\n",
       "      <td>WilburSoot</td>\n",
       "      <td>105874</td>\n",
       "      <td>8.3</td>\n",
       "      <td>878604</td>\n",
       "      <td>219086</td>\n",
       "      <td>3356385</td>\n",
       "      <td>15913013</td>\n",
       "      <td>215211</td>\n",
       "    </tr>\n",
       "    <tr>\n",
       "      <th>7</th>\n",
       "      <td>ibai</td>\n",
       "      <td>98068</td>\n",
       "      <td>111.1</td>\n",
       "      <td>10898658</td>\n",
       "      <td>321873</td>\n",
       "      <td>6204120</td>\n",
       "      <td>204197597</td>\n",
       "      <td>1538645</td>\n",
       "    </tr>\n",
       "    <tr>\n",
       "      <th>8</th>\n",
       "      <td>Tubbo</td>\n",
       "      <td>92966</td>\n",
       "      <td>15.2</td>\n",
       "      <td>1408437</td>\n",
       "      <td>179383</td>\n",
       "      <td>3649547</td>\n",
       "      <td>45962620</td>\n",
       "      <td>332671</td>\n",
       "    </tr>\n",
       "    <tr>\n",
       "      <th>9</th>\n",
       "      <td>LCK_Korea</td>\n",
       "      <td>90113</td>\n",
       "      <td>89.3</td>\n",
       "      <td>8044086</td>\n",
       "      <td>46689</td>\n",
       "      <td>922251</td>\n",
       "      <td>268647537</td>\n",
       "      <td>365983</td>\n",
       "    </tr>\n",
       "    <tr>\n",
       "      <th>10</th>\n",
       "      <td>RanbooLive</td>\n",
       "      <td>87705</td>\n",
       "      <td>106.6</td>\n",
       "      <td>9350811</td>\n",
       "      <td>297717</td>\n",
       "      <td>2889972</td>\n",
       "      <td>41353249</td>\n",
       "      <td>346132</td>\n",
       "    </tr>\n",
       "    <tr>\n",
       "      <th>11</th>\n",
       "      <td>RocketLeague</td>\n",
       "      <td>80301</td>\n",
       "      <td>69.2</td>\n",
       "      <td>5556826</td>\n",
       "      <td>103074</td>\n",
       "      <td>3162189</td>\n",
       "      <td>245021264</td>\n",
       "      <td>214930</td>\n",
       "    </tr>\n",
       "    <tr>\n",
       "      <th>12</th>\n",
       "      <td>Riot Games</td>\n",
       "      <td>78315</td>\n",
       "      <td>192.2</td>\n",
       "      <td>15052113</td>\n",
       "      <td>180549</td>\n",
       "      <td>5145477</td>\n",
       "      <td>1283791496</td>\n",
       "      <td>654205</td>\n",
       "    </tr>\n",
       "    <tr>\n",
       "      <th>13</th>\n",
       "      <td>ThisIsNotGeorgeNotFound</td>\n",
       "      <td>75837</td>\n",
       "      <td>19.4</td>\n",
       "      <td>1473757</td>\n",
       "      <td>237958</td>\n",
       "      <td>793752</td>\n",
       "      <td>2026883</td>\n",
       "      <td>114463</td>\n",
       "    </tr>\n",
       "    <tr>\n",
       "      <th>14</th>\n",
       "      <td>Rainbow6</td>\n",
       "      <td>71417</td>\n",
       "      <td>116.3</td>\n",
       "      <td>8303362</td>\n",
       "      <td>105674</td>\n",
       "      <td>1993976</td>\n",
       "      <td>83988789</td>\n",
       "      <td>191703</td>\n",
       "    </tr>\n",
       "    <tr>\n",
       "      <th>15</th>\n",
       "      <td>loud_coringa</td>\n",
       "      <td>66990</td>\n",
       "      <td>120.9</td>\n",
       "      <td>8101286</td>\n",
       "      <td>153027</td>\n",
       "      <td>1890683</td>\n",
       "      <td>20149102</td>\n",
       "      <td>144537</td>\n",
       "    </tr>\n",
       "    <tr>\n",
       "      <th>16</th>\n",
       "      <td>Flashpoint</td>\n",
       "      <td>66883</td>\n",
       "      <td>125.1</td>\n",
       "      <td>8363729</td>\n",
       "      <td>160653</td>\n",
       "      <td>404895</td>\n",
       "      <td>118675590</td>\n",
       "      <td>128800</td>\n",
       "    </tr>\n",
       "    <tr>\n",
       "      <th>17</th>\n",
       "      <td>TheRealKnossi</td>\n",
       "      <td>64403</td>\n",
       "      <td>95.5</td>\n",
       "      <td>6151556</td>\n",
       "      <td>95886</td>\n",
       "      <td>1674909</td>\n",
       "      <td>52372343</td>\n",
       "      <td>336065</td>\n",
       "    </tr>\n",
       "    <tr>\n",
       "      <th>18</th>\n",
       "      <td>Rubius</td>\n",
       "      <td>60892</td>\n",
       "      <td>116.1</td>\n",
       "      <td>7068535</td>\n",
       "      <td>252579</td>\n",
       "      <td>9188382</td>\n",
       "      <td>177882692</td>\n",
       "      <td>344676</td>\n",
       "    </tr>\n",
       "    <tr>\n",
       "      <th>19</th>\n",
       "      <td>shroud</td>\n",
       "      <td>60253</td>\n",
       "      <td>205.0</td>\n",
       "      <td>12349819</td>\n",
       "      <td>187393</td>\n",
       "      <td>9259582</td>\n",
       "      <td>483658279</td>\n",
       "      <td>516289</td>\n",
       "    </tr>\n",
       "  </tbody>\n",
       "</table>\n",
       "</div>"
      ],
      "text/plain": [
       "                   username  AVG Viewers  Time Streamed (in hours)  \\\n",
       "0                tommyinnit       195782                      14.3   \n",
       "1                  Quackity       158364                      10.2   \n",
       "2                    Sapnap       129001                       9.2   \n",
       "3                 auronplay       113520                     109.4   \n",
       "4                     xQcOW       109059                     339.9   \n",
       "5                  AdinRoss       107816                      83.4   \n",
       "6                WilburSoot       105874                       8.3   \n",
       "7                      ibai        98068                     111.1   \n",
       "8                     Tubbo        92966                      15.2   \n",
       "9                 LCK_Korea        90113                      89.3   \n",
       "10               RanbooLive        87705                     106.6   \n",
       "11             RocketLeague        80301                      69.2   \n",
       "12               Riot Games        78315                     192.2   \n",
       "13  ThisIsNotGeorgeNotFound        75837                      19.4   \n",
       "14                 Rainbow6        71417                     116.3   \n",
       "15             loud_coringa        66990                     120.9   \n",
       "16               Flashpoint        66883                     125.1   \n",
       "17            TheRealKnossi        64403                      95.5   \n",
       "18                   Rubius        60892                     116.1   \n",
       "19                   shroud        60253                     205.0   \n",
       "\n",
       "    Hours Watched  Followers Gained  Total Followers  Total Views  \\\n",
       "0         2806209            334307          5499713     49185807   \n",
       "1         1620588            198959          3471874     23178122   \n",
       "2         1188960            183191          2237876      8740493   \n",
       "3        12419097            341562          8741858    142994817   \n",
       "4        37072768            182238          5776761    361856811   \n",
       "5         8986453            837941          3946089     21778759   \n",
       "6          878604            219086          3356385     15913013   \n",
       "7        10898658            321873          6204120    204197597   \n",
       "8         1408437            179383          3649547     45962620   \n",
       "9         8044086             46689           922251    268647537   \n",
       "10        9350811            297717          2889972     41353249   \n",
       "11        5556826            103074          3162189    245021264   \n",
       "12       15052113            180549          5145477   1283791496   \n",
       "13        1473757            237958           793752      2026883   \n",
       "14        8303362            105674          1993976     83988789   \n",
       "15        8101286            153027          1890683     20149102   \n",
       "16        8363729            160653           404895    118675590   \n",
       "17        6151556             95886          1674909     52372343   \n",
       "18        7068535            252579          9188382    177882692   \n",
       "19       12349819            187393          9259582    483658279   \n",
       "\n",
       "    All Time Peak Viewers  \n",
       "0                  650237  \n",
       "1                  381550  \n",
       "2                  287152  \n",
       "3                  313347  \n",
       "4                  222720  \n",
       "5                  254923  \n",
       "6                  215211  \n",
       "7                 1538645  \n",
       "8                  332671  \n",
       "9                  365983  \n",
       "10                 346132  \n",
       "11                 214930  \n",
       "12                 654205  \n",
       "13                 114463  \n",
       "14                 191703  \n",
       "15                 144537  \n",
       "16                 128800  \n",
       "17                 336065  \n",
       "18                 344676  \n",
       "19                 516289  "
      ]
     },
     "execution_count": 4,
     "metadata": {},
     "output_type": "execute_result"
    }
   ],
   "source": [
    "df.head(20)"
   ]
  },
  {
   "cell_type": "code",
   "execution_count": 6,
   "id": "f20abde1",
   "metadata": {
    "ExecuteTime": {
     "end_time": "2021-06-04T12:26:30.277401Z",
     "start_time": "2021-06-04T12:26:30.260917Z"
    }
   },
   "outputs": [
    {
     "data": {
      "text/plain": [
       "(2450, 11)"
      ]
     },
     "execution_count": 6,
     "metadata": {},
     "output_type": "execute_result"
    }
   ],
   "source": [
    "# getting rows that contain ads out of the way\n",
    "df = df[df[\"Time Streamed\"].str.contains(\"ads\")==False]\n",
    "df.shape"
   ]
  },
  {
   "cell_type": "markdown",
   "id": "12ae48dd",
   "metadata": {},
   "source": [
    "# defining Twitter API"
   ]
  },
  {
   "cell_type": "code",
   "execution_count": 5,
   "id": "4dcc3b9d",
   "metadata": {
    "ExecuteTime": {
     "end_time": "2021-06-05T10:52:44.172859Z",
     "start_time": "2021-06-05T10:52:44.169706Z"
    }
   },
   "outputs": [],
   "source": [
    "consumer_key= 'RBAhyItP3hdDNBH9LpNPTfl4F'\n",
    "consumer_secret='DT0lHHLgNWqhIKlPCqtTw7E3jyIogDqU8u5PUL8lGSUosSSvV2' \n",
    "access_token= '798115618243411968-RiWI7ZbAyZdCD2ZH7XQDHdYA2UTzvK8'\n",
    "access_token_secret= '3wK6v91wmQ3rlOpr0SEw4lnCUKm1NrypJqtNKEKfx7Nzf'"
   ]
  },
  {
   "cell_type": "markdown",
   "id": "9c92da98",
   "metadata": {},
   "source": [
    "# First Tries"
   ]
  },
  {
   "cell_type": "markdown",
   "id": "0e1110d1",
   "metadata": {},
   "source": [
    "## First Tries"
   ]
  },
  {
   "cell_type": "code",
   "execution_count": 9,
   "id": "0f149f0c",
   "metadata": {
    "ExecuteTime": {
     "end_time": "2021-06-02T20:58:00.748361Z",
     "start_time": "2021-06-02T20:58:00.439840Z"
    }
   },
   "outputs": [],
   "source": [
    "user = api.get_user('noway4u_sir')\n",
    "\n",
    "print(user.screen_name)\n",
    "print(user.followers_count)\n",
    "for friend in user.friends():\n",
    "    print(friend.screen_name)\n",
    "    print(friend.location)"
   ]
  },
  {
   "cell_type": "code",
   "execution_count": 8,
   "id": "893e1ddb",
   "metadata": {
    "ExecuteTime": {
     "end_time": "2021-06-04T12:26:39.804840Z",
     "start_time": "2021-06-04T12:26:39.657657Z"
    }
   },
   "outputs": [
    {
     "ename": "NameError",
     "evalue": "name 'api' is not defined",
     "output_type": "error",
     "traceback": [
      "\u001b[0;31m---------------------------------------------------------------------------\u001b[0m",
      "\u001b[0;31mNameError\u001b[0m                                 Traceback (most recent call last)",
      "\u001b[0;32m<ipython-input-8-a88ec510d0ae>\u001b[0m in \u001b[0;36m<module>\u001b[0;34m\u001b[0m\n\u001b[1;32m      4\u001b[0m \u001b[0;34m\u001b[0m\u001b[0m\n\u001b[1;32m      5\u001b[0m \u001b[0;31m# Collect tweets\u001b[0m\u001b[0;34m\u001b[0m\u001b[0;34m\u001b[0m\u001b[0;34m\u001b[0m\u001b[0m\n\u001b[0;32m----> 6\u001b[0;31m tweets = tw.Cursor(api.search,\n\u001b[0m\u001b[1;32m      7\u001b[0m               \u001b[0mq\u001b[0m\u001b[0;34m=\u001b[0m\u001b[0msearch_words\u001b[0m\u001b[0;34m,\u001b[0m\u001b[0;34m\u001b[0m\u001b[0;34m\u001b[0m\u001b[0m\n\u001b[1;32m      8\u001b[0m               \u001b[0mlang\u001b[0m\u001b[0;34m=\u001b[0m\u001b[0;34m\"en\"\u001b[0m\u001b[0;34m,\u001b[0m\u001b[0;34m\u001b[0m\u001b[0;34m\u001b[0m\u001b[0m\n",
      "\u001b[0;31mNameError\u001b[0m: name 'api' is not defined"
     ]
    }
   ],
   "source": [
    "\n",
    "# Define the search term and the date_since date as variables\n",
    "search_words = \"#shroud\"\n",
    "date_since = \"2018-11-16\"\n",
    "\n",
    "# Collect tweets\n",
    "tweets = tw.Cursor(api.search,\n",
    "              q=search_words,\n",
    "              lang=\"en\",\n",
    "              since=date_since).items(5)\n",
    "tweets"
   ]
  },
  {
   "cell_type": "code",
   "execution_count": 18,
   "id": "904cc3cf",
   "metadata": {
    "ExecuteTime": {
     "end_time": "2021-06-02T18:23:12.718488Z",
     "start_time": "2021-06-02T18:23:12.136376Z"
    }
   },
   "outputs": [],
   "source": [
    "tweets = tw.Cursor(api.search,\n",
    "                       q=search_words,\n",
    "                       lang=\"en\",\n",
    "                       since=date_since).items(10)\n",
    "\n",
    "# Collect a list of tweets\n",
    "shroud = [tweet.text for tweet in tweets]"
   ]
  },
  {
   "cell_type": "code",
   "execution_count": 16,
   "id": "c6d11a76",
   "metadata": {
    "ExecuteTime": {
     "end_time": "2021-06-04T12:31:34.074693Z",
     "start_time": "2021-06-04T12:31:31.895580Z"
    }
   },
   "outputs": [
    {
     "data": {
      "text/plain": [
       "['Best DrDisrespect  in CSGO https://t.co/INRdpzzoyl via @YouTube #drdisrespect #shroud #gaming #ninja #twitch',\n",
       " 'Dream Cheated | Ludwig Drama | And more on Yesterdays Twitch https://t.co/WhjQ0Ivsdi \\n#ludwig  #dream  #shroud #sykkuno',\n",
       " '#shroud is now streaming #World of Warcraft https://t.co/Z9AuWBNt5p',\n",
       " 'Find out the story behind the saying \"You can\\'t pull the wool over my eyes\"\\nhttps://t.co/zpNiZ2MTmZ… https://t.co/udpk85S9HT',\n",
       " 'RT @kiddnoli: We push threw the 3rd parties 😉 \\nTwitch/KIDDNOLI🟣 \\n\\n#KIDDNOLI #pubg #pubgxbox #Pubgconsole #pubggame #pubgfunny #chocotaco #s…',\n",
       " 'We push threw the 3rd parties 😉 \\nTwitch/KIDDNOLI🟣 \\n\\n#KIDDNOLI #pubg #pubgxbox #Pubgconsole #pubggame #pubgfunny… https://t.co/GBF7P5UZ2b',\n",
       " \"RT @firstshowing: Watch: Freaky 90-Sec Horror Short Film 'Shroud' Made on Lockdown https://t.co/TUode54jKK #horror #shortfilm #Shroud https…\",\n",
       " \"Watch: Freaky 90-Sec Horror Short Film 'Shroud' Made on Lockdown https://t.co/TUode54jKK #horror #shortfilm #Shroud https://t.co/az6mdV91So\",\n",
       " 'Happy Birthday Shrimp🥳 @shroud \\nWe all love you and ur weak bladder\\n#shroud #birthday',\n",
       " '#shroud is now streaming #World of Warcraft https://t.co/Z9AuWBNt5p',\n",
       " 'A must read. #Shroud https://t.co/9iM3QlVPEv',\n",
       " 'A huge happy bday to @shroud!!! You’ve had (and continue to have!) such a tremendously positive impact on the gamin… https://t.co/UXhu2hngJz',\n",
       " 'Visage\\n.\\nWanted to draw something in ink, and always wanted to do Art Noveau justice. I think i did well this time… https://t.co/ZY4cRylF8N',\n",
       " 'Happy Birthday to Shroud @shroud\\nhttps://t.co/ZGbPHfXwsp\\n#topstarbirthdays #Gemini #birthday #TwitchStar #Shroud… https://t.co/Una1RQB79X',\n",
       " 'Happy Birthday Best Fps Player of All Time!\\n\\n#Shroud  ❤😎🐐 https://t.co/QUobcEf1Le',\n",
       " 'Happy Birthday @shroud \\nSab Logitech ka products ghar courier kardena 😘\\n#shroud #c9 https://t.co/K9Ls0lY3cZ',\n",
       " '@shroud So badass, wish that whole guild joined my discord server. \\n#ShamelessSelfpromoTuesday \\n#logitech\\n#Shroud\\n#Yoofa\\n#checkout',\n",
       " '#shroud is now streaming #World of Warcraft https://t.co/Z9AuWBNt5p',\n",
       " 'Happy birthday ❤️❤️❤️🎉@shroud \\nHave a good one \\n\\n#shroud https://t.co/5DvdIOJXWq',\n",
       " 'RT @NevFailsTV: #Ludwig, #AdinRoss, QTCinderella DRAMA | #Summit1G on #Shroud #xQc Take | #QTCinderella Blasts AdinRoss | StreamerTv📺 #Twit…',\n",
       " 'RT @NevFailsTV: #Ludwig, #AdinRoss, QTCinderella DRAMA | #Summit1G on #Shroud #xQc Take | #QTCinderella Blasts AdinRoss | StreamerTv📺 #Twit…',\n",
       " '#Ludwig, #AdinRoss, QTCinderella DRAMA | #Summit1G on #Shroud #xQc Take | #QTCinderella Blasts AdinRoss | StreamerT… https://t.co/MmicVOEEx8',\n",
       " 'shroud: truth Views: 111,985\\n\\n#Twitch #Twitchtv #Clips #TwitchStreamer #Gaming #VALORANT #shroud https://t.co/HifI0hYK3d',\n",
       " '@Sentinels VS @FNATIC whos winning today? #VALORANTMasters #VALORANT @valorant #shroud',\n",
       " '#SHROUD: Sentinels came here to win\\n\\nso true \\n#VALORANTMasters',\n",
       " 'RT @NevFailsTV: #Shroud on xQc BAN | #xQc on #Destiny, Responds | #Mizkif Confronted, #Asmongold Responds | StreamerTv📺 #Twitch \\n\\n🍿NEW vide…',\n",
       " 'RT @NevFailsTV: #Shroud on xQc BAN | #xQc on #Destiny, Responds | #Mizkif Confronted, #Asmongold Responds | StreamerTv📺 #Twitch \\n\\n🍿NEW vide…',\n",
       " '#Shroud on xQc BAN | #xQc on #Destiny, Responds | #Mizkif Confronted, #Asmongold Responds | StreamerTv📺 #Twitch \\n\\n🍿… https://t.co/p04zC6ZdeS',\n",
       " 'Sentinels vs FNATIC - Grand Finals - Small Watch Party: https://t.co/IdNteN0QaW \\n\\n#Valorant #Sentinel #FNATIC #VCT… https://t.co/JpjYkG7hTA',\n",
       " '#shroud is now streaming #VALORANT https://t.co/Z9AuWBNt5p',\n",
       " '#ESPORTSAWARDS  2021 Finalists: #DrDisrespect, #Shroud, #valkyrae, Mortal And Others Nominated\\n\\nhttps://t.co/cWO1W79egn',\n",
       " 'Esports Awards 2021 Finalists: Dr Disrespect, Shroud, Valkyrae, Mortal And Others Nominated… https://t.co/IDW0rDCaTC',\n",
       " '#shroud is now streaming #VALORANT https://t.co/Z9AuWBNt5p',\n",
       " 'RT @Fbklover61: @just9n Just sucks, the best aimer want to be a streamer instead. #Shroud',\n",
       " 'I had written about rising demand for #shroud cloth in #ruralIndia several weeks ago. A proxy marker of excess deat… https://t.co/HUfvP9fPzF',\n",
       " 'xQcOW agrees to a Fight | Shroud eats a Pizza? | And more on Yesterdays ... https://t.co/WTl76f4Tjz via @YouTube… https://t.co/bKsI6NL1Gp',\n",
       " \"RT @LewisBate8: Still couldn't get over the fact Shroud killed 8 in 10 seconds. Insane https://t.co/t9hqhDohcL\\n#shroud #pubg\",\n",
       " \"Still couldn't get over the fact Shroud killed 8 in 10 seconds. Insane https://t.co/t9hqhDohcL\\n#shroud #pubg\",\n",
       " \"Don't forget that Shroud kills 8 in 10 seconds 😲 https://t.co/t9hqhDohcL\\n#PUBG #pubgindia  #Shroud\",\n",
       " 'Shroud Pubg #ShroudPubg #PubgIndia #Shroud\\n\\nhttps://t.co/t9hqhDohcL',\n",
       " '@just9n Just sucks, the best aimer want to be a streamer instead. #Shroud',\n",
       " '#shroud is now streaming #VALORANT https://t.co/Z9AuWBNt5p',\n",
       " '@NARAKATHEGAME NARAKA BLADEPOINT: I LOVE YOU!! YOU ARE SIMPLY THE MOST BEAUTIFUL AND ADDICTIVE GAME I PLAYED IN MAN… https://t.co/j7Vm5vaSpw']"
      ]
     },
     "execution_count": 16,
     "metadata": {},
     "output_type": "execute_result"
    }
   ],
   "source": [
    "tweets = tw.Cursor(api.search,\n",
    "                       q=search_words,\n",
    "                       lang=\"en\",\n",
    "                       since=date_since).items(50)\n",
    "\n",
    "# Collect a list of tweets\n",
    "shroud = [tweet.text for tweet in tweets]\n",
    "shroud"
   ]
  },
  {
   "cell_type": "code",
   "execution_count": 17,
   "id": "bd17e2b6",
   "metadata": {
    "ExecuteTime": {
     "end_time": "2021-06-04T12:31:37.210100Z",
     "start_time": "2021-06-04T12:31:37.207279Z"
    }
   },
   "outputs": [],
   "source": [
    "word_cloud_text = ' '.join(str(v) for v in shroud)"
   ]
  },
  {
   "cell_type": "code",
   "execution_count": 19,
   "id": "ca41793a",
   "metadata": {
    "ExecuteTime": {
     "end_time": "2021-06-04T12:32:19.295401Z",
     "start_time": "2021-06-04T12:32:15.201016Z"
    }
   },
   "outputs": [
    {
     "data": {
      "image/png": "[encoded data removed]",
      "text/plain": [
       "<Figure size 1008x432 with 1 Axes>"
      ]
     },
     "metadata": {},
     "output_type": "display_data"
    }
   ],
   "source": [
    "\n",
    "# General packages\n",
    "import numpy as np\n",
    "import pandas as pd\n",
    "import seaborn as sns\n",
    "import matplotlib.pyplot as plt\n",
    "import os\n",
    "\n",
    "# NLP packages\n",
    "import nltk\n",
    "from nltk import word_tokenize\n",
    "from sklearn.feature_extraction.text import CountVectorizer\n",
    "from sklearn.feature_extraction.text import TfidfVectorizer\n",
    "from collections import Counter\n",
    "from wordcloud import WordCloud\n",
    "\n",
    "# Modeling packages\n",
    "from sklearn.model_selection import train_test_split\n",
    "from sklearn.linear_model import LogisticRegression\n",
    "from sklearn.ensemble import RandomForestClassifier\n",
    "from sklearn.metrics import accuracy_score\n",
    "from sklearn.metrics import f1_score\n",
    "\n",
    "from pylab import rcParams\n",
    "import warnings\n",
    "warnings.filterwarnings(\"ignore\")\n",
    "rcParams['figure.figsize'] = 14, 6\n",
    "plt.style.use('ggplot')\n",
    "\n",
    "wordcloud = WordCloud(max_font_size=50, # Maximum font size for the largest word\n",
    "                      max_words=5, # The maximum number of words\n",
    "                      background_color=\"white\", # Background color for the word cloud image\n",
    "                      scale = 10, # Scaling between computation and drawing\n",
    "                      width=800, # Width of the canvas\n",
    "                      height=400 # Height of the canvas\n",
    "                     ).generate(word_cloud_text)\n",
    "\n",
    "plt.figure()\n",
    "plt.imshow(wordcloud, \n",
    "           interpolation=\"bilinear\") # to make the displayed image appear more smoothly\n",
    "plt.axis(\"off\")\n",
    "plt.show()"
   ]
  },
  {
   "cell_type": "code",
   "execution_count": 9,
   "id": "02db7c7a",
   "metadata": {
    "ExecuteTime": {
     "end_time": "2021-06-04T12:28:42.389951Z",
     "start_time": "2021-06-04T12:28:41.006209Z"
    }
   },
   "outputs": [
    {
     "data": {
      "text/plain": [
       "[['KEEVVY', 'Craiova'],\n",
       " ['Hawry_Tv', ''],\n",
       " ['Project410', 'Four Ways'],\n",
       " ['MysticalBlog', 'Tewkesbury, England'],\n",
       " ['videogamingbot', 'MF world'],\n",
       " ['kiddnoli', ''],\n",
       " ['ArTris', 'Surabaya'],\n",
       " ['firstshowing', 'Berlin, Germany'],\n",
       " ['Ashank_Too_Lazy', ''],\n",
       " ['Project410', 'Four Ways'],\n",
       " ['therealjoshmc', 'Florida, USA'],\n",
       " ['GrizzledGamer', ''],\n",
       " ['jetromagcale', ''],\n",
       " ['topstarbdays', 'USA'],\n",
       " ['Virlix1', '']]"
      ]
     },
     "execution_count": 9,
     "metadata": {},
     "output_type": "execute_result"
    }
   ],
   "source": [
    "auth = tw.OAuthHandler(consumer_key, consumer_secret)\n",
    "auth.set_access_token(access_token, access_token_secret)\n",
    "api = tw.API(auth, wait_on_rate_limit=True)\n",
    "user = api.get_user('shroud')\n",
    "\n",
    "tweets = tw.Cursor(api.search, \n",
    "                           q=search_words,\n",
    "                           lang=\"en\",\n",
    "                           since=date_since).items(15)\n",
    "\n",
    "users_locs = [[tweet.user.screen_name, tweet.user.location] for tweet in tweets]\n",
    "users_locs"
   ]
  },
  {
   "cell_type": "code",
   "execution_count": 22,
   "id": "52aee58c",
   "metadata": {
    "ExecuteTime": {
     "end_time": "2021-06-02T18:24:37.819859Z",
     "start_time": "2021-06-02T18:24:37.806317Z"
    }
   },
   "outputs": [
    {
     "data": {
      "text/html": [
       "<div>\n",
       "<style scoped>\n",
       "    .dataframe tbody tr th:only-of-type {\n",
       "        vertical-align: middle;\n",
       "    }\n",
       "\n",
       "    .dataframe tbody tr th {\n",
       "        vertical-align: top;\n",
       "    }\n",
       "\n",
       "    .dataframe thead th {\n",
       "        text-align: right;\n",
       "    }\n",
       "</style>\n",
       "<table border=\"1\" class=\"dataframe\">\n",
       "  <thead>\n",
       "    <tr style=\"text-align: right;\">\n",
       "      <th></th>\n",
       "      <th>user</th>\n",
       "      <th>location</th>\n",
       "    </tr>\n",
       "  </thead>\n",
       "  <tbody>\n",
       "    <tr>\n",
       "      <th>0</th>\n",
       "      <td>therealjoshmc</td>\n",
       "      <td>Florida, USA</td>\n",
       "    </tr>\n",
       "    <tr>\n",
       "      <th>1</th>\n",
       "      <td>GrizzledGamer</td>\n",
       "      <td></td>\n",
       "    </tr>\n",
       "    <tr>\n",
       "      <th>2</th>\n",
       "      <td>jetromagcale</td>\n",
       "      <td></td>\n",
       "    </tr>\n",
       "    <tr>\n",
       "      <th>3</th>\n",
       "      <td>topstarbdays</td>\n",
       "      <td>USA</td>\n",
       "    </tr>\n",
       "    <tr>\n",
       "      <th>4</th>\n",
       "      <td>Virlix1</td>\n",
       "      <td></td>\n",
       "    </tr>\n",
       "    <tr>\n",
       "      <th>5</th>\n",
       "      <td>jakati68</td>\n",
       "      <td>Bengaluru South, India</td>\n",
       "    </tr>\n",
       "    <tr>\n",
       "      <th>6</th>\n",
       "      <td>yoofatv</td>\n",
       "      <td>Missoula, MT</td>\n",
       "    </tr>\n",
       "    <tr>\n",
       "      <th>7</th>\n",
       "      <td>Project410</td>\n",
       "      <td>Four Ways</td>\n",
       "    </tr>\n",
       "    <tr>\n",
       "      <th>8</th>\n",
       "      <td>Nackb0Y</td>\n",
       "      <td></td>\n",
       "    </tr>\n",
       "    <tr>\n",
       "      <th>9</th>\n",
       "      <td>NinjaTt91</td>\n",
       "      <td>USA</td>\n",
       "    </tr>\n",
       "    <tr>\n",
       "      <th>10</th>\n",
       "      <td>RazerTT</td>\n",
       "      <td></td>\n",
       "    </tr>\n",
       "    <tr>\n",
       "      <th>11</th>\n",
       "      <td>NevFailsTV</td>\n",
       "      <td>Twitter UK-US</td>\n",
       "    </tr>\n",
       "    <tr>\n",
       "      <th>12</th>\n",
       "      <td>TopLiveonTwitc1</td>\n",
       "      <td></td>\n",
       "    </tr>\n",
       "    <tr>\n",
       "      <th>13</th>\n",
       "      <td>AurorPhantom</td>\n",
       "      <td>Englewood, OH</td>\n",
       "    </tr>\n",
       "    <tr>\n",
       "      <th>14</th>\n",
       "      <td>jawbreakarl</td>\n",
       "      <td>🇵🇭</td>\n",
       "    </tr>\n",
       "  </tbody>\n",
       "</table>\n",
       "</div>"
      ],
      "text/plain": [
       "               user                location\n",
       "0     therealjoshmc            Florida, USA\n",
       "1     GrizzledGamer                        \n",
       "2      jetromagcale                        \n",
       "3      topstarbdays                     USA\n",
       "4           Virlix1                        \n",
       "5          jakati68  Bengaluru South, India\n",
       "6           yoofatv            Missoula, MT\n",
       "7        Project410               Four Ways\n",
       "8           Nackb0Y                        \n",
       "9         NinjaTt91                     USA\n",
       "10          RazerTT                        \n",
       "11       NevFailsTV           Twitter UK-US\n",
       "12  TopLiveonTwitc1                        \n",
       "13     AurorPhantom           Englewood, OH\n",
       "14      jawbreakarl                      🇵🇭"
      ]
     },
     "execution_count": 22,
     "metadata": {},
     "output_type": "execute_result"
    }
   ],
   "source": [
    "tweet_text = pd.DataFrame(data=users_locs, \n",
    "                    columns=['user', \"location\"])\n",
    "tweet_text\n"
   ]
  },
  {
   "cell_type": "markdown",
   "id": "abdf9e55",
   "metadata": {
    "ExecuteTime": {
     "end_time": "2021-06-02T18:52:39.954070Z",
     "start_time": "2021-06-02T18:52:39.951411Z"
    }
   },
   "source": [
    "## Second Try"
   ]
  },
  {
   "cell_type": "code",
   "execution_count": 56,
   "id": "ca5bf144",
   "metadata": {
    "ExecuteTime": {
     "end_time": "2021-06-02T18:48:43.710126Z",
     "start_time": "2021-06-02T18:48:41.544080Z"
    },
    "scrolled": true
   },
   "outputs": [
    {
     "data": {
      "text/html": [
       "<div>\n",
       "<style scoped>\n",
       "    .dataframe tbody tr th:only-of-type {\n",
       "        vertical-align: middle;\n",
       "    }\n",
       "\n",
       "    .dataframe tbody tr th {\n",
       "        vertical-align: top;\n",
       "    }\n",
       "\n",
       "    .dataframe thead th {\n",
       "        text-align: right;\n",
       "    }\n",
       "</style>\n",
       "<table border=\"1\" class=\"dataframe\">\n",
       "  <thead>\n",
       "    <tr style=\"text-align: right;\">\n",
       "      <th></th>\n",
       "      <th>user</th>\n",
       "      <th>location</th>\n",
       "    </tr>\n",
       "  </thead>\n",
       "  <tbody>\n",
       "    <tr>\n",
       "      <th>0</th>\n",
       "      <td>KRMR47</td>\n",
       "      <td>Rheinberg, Deutschland</td>\n",
       "    </tr>\n",
       "    <tr>\n",
       "      <th>1</th>\n",
       "      <td>Twitch_Amk251</td>\n",
       "      <td>Deutschland</td>\n",
       "    </tr>\n",
       "    <tr>\n",
       "      <th>2</th>\n",
       "      <td>MoSiTingKeWeiDe</td>\n",
       "      <td>Berlin, Deutschland</td>\n",
       "    </tr>\n",
       "    <tr>\n",
       "      <th>3</th>\n",
       "      <td>SchnitzelSebl</td>\n",
       "      <td>Deutschland</td>\n",
       "    </tr>\n",
       "    <tr>\n",
       "      <th>4</th>\n",
       "      <td>Der_Schaumi</td>\n",
       "      <td></td>\n",
       "    </tr>\n",
       "    <tr>\n",
       "      <th>5</th>\n",
       "      <td>Silenceuuu1</td>\n",
       "      <td></td>\n",
       "    </tr>\n",
       "    <tr>\n",
       "      <th>6</th>\n",
       "      <td>ZaveeLoL</td>\n",
       "      <td>Potsdam, Germany</td>\n",
       "    </tr>\n",
       "    <tr>\n",
       "      <th>7</th>\n",
       "      <td>MxMinority</td>\n",
       "      <td></td>\n",
       "    </tr>\n",
       "    <tr>\n",
       "      <th>8</th>\n",
       "      <td>DSchwatzer</td>\n",
       "      <td></td>\n",
       "    </tr>\n",
       "    <tr>\n",
       "      <th>9</th>\n",
       "      <td>AlanTheTeemo</td>\n",
       "      <td>Berlin, Deutschland</td>\n",
       "    </tr>\n",
       "    <tr>\n",
       "      <th>10</th>\n",
       "      <td>ZaveeLoL</td>\n",
       "      <td>Potsdam, Germany</td>\n",
       "    </tr>\n",
       "    <tr>\n",
       "      <th>11</th>\n",
       "      <td>Pruhsi</td>\n",
       "      <td>Germany</td>\n",
       "    </tr>\n",
       "    <tr>\n",
       "      <th>12</th>\n",
       "      <td>CookieLoLxx</td>\n",
       "      <td>Sweden</td>\n",
       "    </tr>\n",
       "    <tr>\n",
       "      <th>13</th>\n",
       "      <td>Vildgaard1</td>\n",
       "      <td></td>\n",
       "    </tr>\n",
       "    <tr>\n",
       "      <th>14</th>\n",
       "      <td>Vuffer2</td>\n",
       "      <td></td>\n",
       "    </tr>\n",
       "    <tr>\n",
       "      <th>15</th>\n",
       "      <td>xCruel_lol</td>\n",
       "      <td></td>\n",
       "    </tr>\n",
       "    <tr>\n",
       "      <th>16</th>\n",
       "      <td>mazeADC</td>\n",
       "      <td>Bayern</td>\n",
       "    </tr>\n",
       "    <tr>\n",
       "      <th>17</th>\n",
       "      <td>DIEMdodoCoach</td>\n",
       "      <td></td>\n",
       "    </tr>\n",
       "    <tr>\n",
       "      <th>18</th>\n",
       "      <td>DIEMdodoCoach</td>\n",
       "      <td></td>\n",
       "    </tr>\n",
       "    <tr>\n",
       "      <th>19</th>\n",
       "      <td>Forpionlol</td>\n",
       "      <td>Torres Vedras, Portugal</td>\n",
       "    </tr>\n",
       "    <tr>\n",
       "      <th>20</th>\n",
       "      <td>GranitPubg</td>\n",
       "      <td></td>\n",
       "    </tr>\n",
       "    <tr>\n",
       "      <th>21</th>\n",
       "      <td>Ashyva_LoL</td>\n",
       "      <td></td>\n",
       "    </tr>\n",
       "    <tr>\n",
       "      <th>22</th>\n",
       "      <td>EsportsNord</td>\n",
       "      <td></td>\n",
       "    </tr>\n",
       "    <tr>\n",
       "      <th>23</th>\n",
       "      <td>granitKMF</td>\n",
       "      <td>Stockholm, Sverige</td>\n",
       "    </tr>\n",
       "    <tr>\n",
       "      <th>24</th>\n",
       "      <td>granitgaming</td>\n",
       "      <td>Stockholm, Sweden</td>\n",
       "    </tr>\n",
       "    <tr>\n",
       "      <th>25</th>\n",
       "      <td>MuterLoL</td>\n",
       "      <td>Denmark</td>\n",
       "    </tr>\n",
       "    <tr>\n",
       "      <th>26</th>\n",
       "      <td>nyck</td>\n",
       "      <td>hamburg</td>\n",
       "    </tr>\n",
       "    <tr>\n",
       "      <th>27</th>\n",
       "      <td>IntCorax</td>\n",
       "      <td></td>\n",
       "    </tr>\n",
       "    <tr>\n",
       "      <th>28</th>\n",
       "      <td>DSchwatzer</td>\n",
       "      <td></td>\n",
       "    </tr>\n",
       "    <tr>\n",
       "      <th>29</th>\n",
       "      <td>EhmJaKlar</td>\n",
       "      <td>Düsseldorf</td>\n",
       "    </tr>\n",
       "    <tr>\n",
       "      <th>30</th>\n",
       "      <td>rammuslover69</td>\n",
       "      <td>Switzerland</td>\n",
       "    </tr>\n",
       "    <tr>\n",
       "      <th>31</th>\n",
       "      <td>CHGClone</td>\n",
       "      <td>Olten, Schweiz</td>\n",
       "    </tr>\n",
       "    <tr>\n",
       "      <th>32</th>\n",
       "      <td>real_sioser</td>\n",
       "      <td>Schweiz</td>\n",
       "    </tr>\n",
       "    <tr>\n",
       "      <th>33</th>\n",
       "      <td>LeMelar</td>\n",
       "      <td></td>\n",
       "    </tr>\n",
       "    <tr>\n",
       "      <th>34</th>\n",
       "      <td>Pruhsi</td>\n",
       "      <td>Germany</td>\n",
       "    </tr>\n",
       "    <tr>\n",
       "      <th>35</th>\n",
       "      <td>Santinus4</td>\n",
       "      <td></td>\n",
       "    </tr>\n",
       "    <tr>\n",
       "      <th>36</th>\n",
       "      <td>Saviour_lol</td>\n",
       "      <td></td>\n",
       "    </tr>\n",
       "    <tr>\n",
       "      <th>37</th>\n",
       "      <td>pukistyle_</td>\n",
       "      <td></td>\n",
       "    </tr>\n",
       "    <tr>\n",
       "      <th>38</th>\n",
       "      <td>vantastisch86</td>\n",
       "      <td></td>\n",
       "    </tr>\n",
       "    <tr>\n",
       "      <th>39</th>\n",
       "      <td>OrgelOscar</td>\n",
       "      <td></td>\n",
       "    </tr>\n",
       "    <tr>\n",
       "      <th>40</th>\n",
       "      <td>YannickB96_</td>\n",
       "      <td></td>\n",
       "    </tr>\n",
       "    <tr>\n",
       "      <th>41</th>\n",
       "      <td>AlanTheTeemo</td>\n",
       "      <td>Berlin, Deutschland</td>\n",
       "    </tr>\n",
       "    <tr>\n",
       "      <th>42</th>\n",
       "      <td>BigBossBaem</td>\n",
       "      <td>Hamburg, Deutschland</td>\n",
       "    </tr>\n",
       "    <tr>\n",
       "      <th>43</th>\n",
       "      <td>WizardofTruth_</td>\n",
       "      <td></td>\n",
       "    </tr>\n",
       "  </tbody>\n",
       "</table>\n",
       "</div>"
      ],
      "text/plain": [
       "               user                 location\n",
       "0            KRMR47   Rheinberg, Deutschland\n",
       "1     Twitch_Amk251              Deutschland\n",
       "2   MoSiTingKeWeiDe      Berlin, Deutschland\n",
       "3     SchnitzelSebl              Deutschland\n",
       "4       Der_Schaumi                         \n",
       "5       Silenceuuu1                         \n",
       "6          ZaveeLoL         Potsdam, Germany\n",
       "7        MxMinority                         \n",
       "8        DSchwatzer                         \n",
       "9      AlanTheTeemo      Berlin, Deutschland\n",
       "10         ZaveeLoL         Potsdam, Germany\n",
       "11           Pruhsi                  Germany\n",
       "12      CookieLoLxx                   Sweden\n",
       "13       Vildgaard1                         \n",
       "14          Vuffer2                         \n",
       "15       xCruel_lol                         \n",
       "16          mazeADC                   Bayern\n",
       "17    DIEMdodoCoach                         \n",
       "18    DIEMdodoCoach                         \n",
       "19       Forpionlol  Torres Vedras, Portugal\n",
       "20       GranitPubg                         \n",
       "21       Ashyva_LoL                         \n",
       "22      EsportsNord                         \n",
       "23        granitKMF       Stockholm, Sverige\n",
       "24     granitgaming        Stockholm, Sweden\n",
       "25         MuterLoL                  Denmark\n",
       "26             nyck                  hamburg\n",
       "27         IntCorax                         \n",
       "28       DSchwatzer                         \n",
       "29        EhmJaKlar               Düsseldorf\n",
       "30    rammuslover69              Switzerland\n",
       "31         CHGClone           Olten, Schweiz\n",
       "32      real_sioser                  Schweiz\n",
       "33          LeMelar                         \n",
       "34           Pruhsi                  Germany\n",
       "35        Santinus4                         \n",
       "36      Saviour_lol                         \n",
       "37       pukistyle_                         \n",
       "38    vantastisch86                         \n",
       "39       OrgelOscar                         \n",
       "40      YannickB96_                         \n",
       "41     AlanTheTeemo      Berlin, Deutschland\n",
       "42      BigBossBaem     Hamburg, Deutschland\n",
       "43   WizardofTruth_                         "
      ]
     },
     "execution_count": 56,
     "metadata": {},
     "output_type": "execute_result"
    }
   ],
   "source": [
    "# second try\n",
    "# Define the search term and the date_since date as variables\n",
    "new_search = \"@Noway4u_sir\"\n",
    "date_since = \"2018-11-16\"\n",
    "\n",
    "tweets_noway = tw.Cursor(api.search, \n",
    "                           q=new_search,\n",
    "                           lang=\"en\",\n",
    "                           since=date_since).items(100)\n",
    "\n",
    "users_locs_2 = [[tweet.user.screen_name, tweet.user.location] for tweet in tweets_noway]\n",
    "users_locs_2\n",
    "\n",
    "tweet_text = pd.DataFrame(data=users_locs_2, \n",
    "                    columns=['user', \"location\"])\n",
    "tweet_text"
   ]
  },
  {
   "cell_type": "markdown",
   "id": "e6e8d16e",
   "metadata": {},
   "source": [
    "# NLP"
   ]
  },
  {
   "cell_type": "code",
   "execution_count": 57,
   "id": "34c03193",
   "metadata": {
    "ExecuteTime": {
     "end_time": "2021-06-02T18:48:57.723461Z",
     "start_time": "2021-06-02T18:48:57.719416Z"
    }
   },
   "outputs": [],
   "source": [
    "def clean_text(text):\n",
    "    for punctuation in string.punctuation:\n",
    "        text = text.replace(punctuation, '')\n",
    "    text = \"\".join(word for word in text if not word.isdigit()).lower()\n",
    "    word_tokens = word_tokenize(text)\n",
    "    text = [w for w in word_tokens if not w in stop_words]\n",
    "    return ' '.join(text)"
   ]
  },
  {
   "cell_type": "code",
   "execution_count": 58,
   "id": "c26b5221",
   "metadata": {
    "ExecuteTime": {
     "end_time": "2021-06-02T18:49:01.142645Z",
     "start_time": "2021-06-02T18:49:01.135279Z"
    }
   },
   "outputs": [],
   "source": [
    "tweet_text[\"clean_location\"] = tweet_text.location.apply(lambda x: clean_text(x))"
   ]
  },
  {
   "cell_type": "code",
   "execution_count": 63,
   "id": "eb3328af",
   "metadata": {
    "ExecuteTime": {
     "end_time": "2021-06-02T18:53:17.403097Z",
     "start_time": "2021-06-02T18:53:17.397042Z"
    }
   },
   "outputs": [],
   "source": [
    "from nltk.corpus import stopwords \n",
    "from nltk.tokenize import word_tokenize\n",
    "import string\n",
    "from sklearn.decomposition import LatentDirichletAllocation\n",
    "from sklearn.feature_extraction.text import TfidfVectorizer\n",
    "stop_words = set(stopwords.words('german'))"
   ]
  },
  {
   "cell_type": "code",
   "execution_count": 64,
   "id": "c233e8a8",
   "metadata": {
    "ExecuteTime": {
     "end_time": "2021-06-02T18:53:17.828672Z",
     "start_time": "2021-06-02T18:53:17.819359Z"
    },
    "scrolled": true
   },
   "outputs": [
    {
     "data": {
      "text/plain": [
       "[('potsdam germany', 2.0),\n",
       " ('rheinberg deutschland', 1.0),\n",
       " ('stockholm sverige', 1.0),\n",
       " ('stockholm sweden', 1.0),\n",
       " ('olten schweiz', 1.0),\n",
       " ('hamburg deutschland', 1.0),\n",
       " ('torres vedras', 0.7071067811865476),\n",
       " ('vedras portugal', 0.7071067811865476)]"
      ]
     },
     "execution_count": 64,
     "metadata": {},
     "output_type": "execute_result"
    }
   ],
   "source": [
    "from sklearn.feature_extraction.text import TfidfVectorizer\n",
    "\n",
    "\n",
    "# Tuned TFidfvectorizer\n",
    "vec = TfidfVectorizer(ngram_range = (2,2), min_df=0.01, max_df = 0.05).fit(tweet_text.clean_location)\n",
    "\n",
    "vectors = vec.transform(tweet_text.clean_location) # Transform text to vectors\n",
    "\n",
    "sum_tfidf = vectors.sum(axis=0) # Sum of tfidf weighting by word\n",
    "\n",
    "tfidf_list = [(word, sum_tfidf[0, idx]) for word, idx in     vec.vocabulary_.items()]  # Get the word and associated weight\n",
    "\n",
    "sorted_tfidf_list =sorted(tfidf_list, key = lambda x: x[1], reverse=True)  # Sort\n",
    "\n",
    "sorted_tfidf_list\n"
   ]
  },
  {
   "cell_type": "code",
   "execution_count": 41,
   "id": "0c252309",
   "metadata": {
    "ExecuteTime": {
     "end_time": "2021-06-04T12:58:33.462754Z",
     "start_time": "2021-06-04T12:58:33.459179Z"
    }
   },
   "outputs": [],
   "source": [
    "from geopy.geocoders import Nominatim\n",
    "def city_lat_long(city):\n",
    "    geolocator = Nominatim(user_agent='myapplication')\n",
    "    location = geolocator.geocode(\"Berlin\")\n",
    "    latitude = location[1][0]\n",
    "    longitude = location[1][1]\n",
    "    return latitude, longitude"
   ]
  },
  {
   "cell_type": "code",
   "execution_count": 38,
   "id": "3baff1e0",
   "metadata": {
    "ExecuteTime": {
     "end_time": "2021-06-04T12:58:00.009781Z",
     "start_time": "2021-06-04T12:58:00.006088Z"
    }
   },
   "outputs": [],
   "source": [
    "from geopy.geocoders import Nominatim\n",
    "def country_lat_long(city):\n",
    "    geolocator = Nominatim(user_agent='myapplication')\n",
    "    location = geolocator.geocode(\"Berlin\")\n",
    "    latitude = location[1][0]\n",
    "    longitude = location[1][1]\n",
    "    return latitude, longitude"
   ]
  },
  {
   "cell_type": "code",
   "execution_count": 44,
   "id": "dc4ec11f",
   "metadata": {
    "ExecuteTime": {
     "end_time": "2021-06-04T13:30:37.984388Z",
     "start_time": "2021-06-04T13:30:37.975924Z"
    }
   },
   "outputs": [],
   "source": [
    "temp = np.random.randn(1000, 2) / [50, 50] + [37.76, -122.4]"
   ]
  },
  {
   "cell_type": "code",
   "execution_count": 45,
   "id": "133b9701",
   "metadata": {
    "ExecuteTime": {
     "end_time": "2021-06-04T13:30:41.593845Z",
     "start_time": "2021-06-04T13:30:41.588807Z"
    }
   },
   "outputs": [
    {
     "data": {
      "text/plain": [
       "(1000, 2)"
      ]
     },
     "execution_count": 45,
     "metadata": {},
     "output_type": "execute_result"
    }
   ],
   "source": [
    "temp.shape"
   ]
  },
  {
   "cell_type": "code",
   "execution_count": 46,
   "id": "6fd986bb",
   "metadata": {
    "ExecuteTime": {
     "end_time": "2021-06-04T13:31:06.616385Z",
     "start_time": "2021-06-04T13:31:06.428141Z"
    }
   },
   "outputs": [],
   "source": [
    "berlin = city_lat_long('Berlin')"
   ]
  },
  {
   "cell_type": "code",
   "execution_count": 53,
   "id": "1f8e7c4f",
   "metadata": {
    "ExecuteTime": {
     "end_time": "2021-06-04T13:31:59.669788Z",
     "start_time": "2021-06-04T13:31:59.666425Z"
    }
   },
   "outputs": [],
   "source": [
    "temp2 = np.array([[berlin[0],berlin[1]]])"
   ]
  },
  {
   "cell_type": "code",
   "execution_count": 54,
   "id": "e8317f03",
   "metadata": {
    "ExecuteTime": {
     "end_time": "2021-06-04T13:32:00.105297Z",
     "start_time": "2021-06-04T13:32:00.099947Z"
    }
   },
   "outputs": [
    {
     "data": {
      "text/plain": [
       "(1, 2)"
      ]
     },
     "execution_count": 54,
     "metadata": {},
     "output_type": "execute_result"
    }
   ],
   "source": [
    "temp2.shape"
   ]
  },
  {
   "cell_type": "code",
   "execution_count": 37,
   "id": "153b3455",
   "metadata": {
    "ExecuteTime": {
     "end_time": "2021-06-04T12:57:16.983631Z",
     "start_time": "2021-06-04T12:57:16.976938Z"
    }
   },
   "outputs": [
    {
     "data": {
      "text/plain": [
       "Location(Deutschland, (51.0834196, 10.4234469, 0.0))"
      ]
     },
     "execution_count": 37,
     "metadata": {},
     "output_type": "execute_result"
    }
   ],
   "source": [
    "location"
   ]
  },
  {
   "cell_type": "code",
   "execution_count": 32,
   "id": "7e26a370",
   "metadata": {
    "ExecuteTime": {
     "end_time": "2021-06-04T12:55:58.649462Z",
     "start_time": "2021-06-04T12:55:58.646053Z"
    }
   },
   "outputs": [],
   "source": []
  },
  {
   "cell_type": "code",
   "execution_count": 33,
   "id": "4960600e",
   "metadata": {
    "ExecuteTime": {
     "end_time": "2021-06-04T12:56:00.033888Z",
     "start_time": "2021-06-04T12:56:00.026420Z"
    }
   },
   "outputs": [
    {
     "data": {
      "text/plain": [
       "13.3888599"
      ]
     },
     "execution_count": 33,
     "metadata": {},
     "output_type": "execute_result"
    }
   ],
   "source": [
    "longitude"
   ]
  },
  {
   "cell_type": "markdown",
   "id": "1010b8dd",
   "metadata": {},
   "source": [
    "# Putting everything together"
   ]
  },
  {
   "cell_type": "code",
   "execution_count": 6,
   "id": "9c67cdc9",
   "metadata": {
    "ExecuteTime": {
     "end_time": "2021-06-05T10:53:10.317016Z",
     "start_time": "2021-06-05T10:53:10.312341Z"
    }
   },
   "outputs": [],
   "source": [
    "def twitter_user_info(consumer_key, consumer_secret, access_token,access_token_secret, user):\n",
    "    '''Takes secrets, username on twitter to get twitter username, location of user and follower count'''\n",
    "    auth = tw.OAuthHandler(consumer_key, consumer_secret)\n",
    "    auth.set_access_token(access_token, access_token_secret)\n",
    "    api = tw.API(auth, wait_on_rate_limit=True)\n",
    "    user = api.get_user(user)\n",
    "    location = user.location\n",
    "    name = user.screen_name\n",
    "    follower = user.followers_count\n",
    "    return pd.DataFrame(data=[[name, location, follower]], columns=['user','location of user', \"follower\"])"
   ]
  },
  {
   "cell_type": "code",
   "execution_count": null,
   "id": "ac85fd2f",
   "metadata": {},
   "outputs": [],
   "source": [
    "# def twitter_,,,(consumer_key, consumer_secret, access_token,access_token_secret, user):\n",
    "#     '''Takes secrets, username on twitter to get twitter username and follower count'''\n",
    "#     auth = tw.OAuthHandler(consumer_key, consumer_secret)\n",
    "#     auth.set_access_token(access_token, access_token_secret)\n",
    "#     api = tw.API(auth, wait_on_rate_limit=True)\n",
    "#     user = api.get_user(user)\n",
    "#     name = user.screen_name\n",
    "#     follower = user.followers_count\n",
    "#     return pd.DataFrame(data=[[name, follower]], columns=['user', \"follower\"])"
   ]
  },
  {
   "cell_type": "code",
   "execution_count": 46,
   "id": "20766ad9",
   "metadata": {
    "ExecuteTime": {
     "end_time": "2021-06-03T14:53:00.136404Z",
     "start_time": "2021-06-03T14:52:59.789742Z"
    }
   },
   "outputs": [],
   "source": [
    "temp = twitter_user_info(consumer_key, consumer_secret, access_token,access_token_secret, 'shroud')"
   ]
  },
  {
   "cell_type": "code",
   "execution_count": 47,
   "id": "368874fb",
   "metadata": {
    "ExecuteTime": {
     "end_time": "2021-06-03T14:53:01.830090Z",
     "start_time": "2021-06-03T14:53:01.819168Z"
    }
   },
   "outputs": [
    {
     "data": {
      "text/html": [
       "<div>\n",
       "<style scoped>\n",
       "    .dataframe tbody tr th:only-of-type {\n",
       "        vertical-align: middle;\n",
       "    }\n",
       "\n",
       "    .dataframe tbody tr th {\n",
       "        vertical-align: top;\n",
       "    }\n",
       "\n",
       "    .dataframe thead th {\n",
       "        text-align: right;\n",
       "    }\n",
       "</style>\n",
       "<table border=\"1\" class=\"dataframe\">\n",
       "  <thead>\n",
       "    <tr style=\"text-align: right;\">\n",
       "      <th></th>\n",
       "      <th>user</th>\n",
       "      <th>location of user</th>\n",
       "      <th>follower</th>\n",
       "    </tr>\n",
       "  </thead>\n",
       "  <tbody>\n",
       "    <tr>\n",
       "      <th>0</th>\n",
       "      <td>shroud</td>\n",
       "      <td>California, USA</td>\n",
       "      <td>1885139</td>\n",
       "    </tr>\n",
       "  </tbody>\n",
       "</table>\n",
       "</div>"
      ],
      "text/plain": [
       "     user location of user  follower\n",
       "0  shroud  California, USA   1885139"
      ]
     },
     "execution_count": 47,
     "metadata": {},
     "output_type": "execute_result"
    }
   ],
   "source": [
    "temp"
   ]
  },
  {
   "cell_type": "code",
   "execution_count": 21,
   "id": "d8071f1e",
   "metadata": {
    "ExecuteTime": {
     "end_time": "2021-06-05T10:56:18.355572Z",
     "start_time": "2021-06-05T10:56:18.349583Z"
    }
   },
   "outputs": [],
   "source": [
    "def twitter_viewer_locations(consumer_key, consumer_secret, access_token,access_token_secret, user, date, item_count):\n",
    "    '''Takes secrets, username on twitter and starting date (format yyyy-mm-dd)'''\n",
    "    auth = tw.OAuthHandler(consumer_key, consumer_secret)\n",
    "    auth.set_access_token(access_token, access_token_secret)\n",
    "    api = tw.API(auth, wait_on_rate_limit=True)\n",
    "    new_search = f\"@{user}\"\n",
    "    date_since = f\"{date}\"\n",
    "\n",
    "    tweets = tw.Cursor(api.search, \n",
    "                               q=new_search,\n",
    "                               lang=\"en\",\n",
    "                               since=date_since).items(item_count)\n",
    "    users_locs = [[tweet.user.screen_name, tweet.user.location] for tweet in tweets]\n",
    "    tweet_text = pd.DataFrame(data=users_locs, \n",
    "                        columns=['user', \"location\"])\n",
    "    locations = ' '.join(tweet_text['location'].to_list())\n",
    "    places = geograpy.get_geoPlace_context(text = locations)\n",
    "    frequent_locations = {'cities': places.cities, 'countries': places.countries}\n",
    "    return frequent_locations"
   ]
  },
  {
   "cell_type": "code",
   "execution_count": 24,
   "id": "b0e98203",
   "metadata": {
    "ExecuteTime": {
     "end_time": "2021-06-05T10:56:41.424748Z",
     "start_time": "2021-06-05T10:56:39.508229Z"
    }
   },
   "outputs": [],
   "source": [
    "temp10 = twitter_viewer_locations(consumer_key, consumer_secret, access_token,access_token_secret, 'Noway4u_sir', '2018-01-01', 100)"
   ]
  },
  {
   "cell_type": "code",
   "execution_count": 25,
   "id": "0caad22d",
   "metadata": {
    "ExecuteTime": {
     "end_time": "2021-06-05T10:56:42.960853Z",
     "start_time": "2021-06-05T10:56:42.956394Z"
    }
   },
   "outputs": [
    {
     "data": {
      "text/plain": [
       "{'cities': ['Rheinberg'], 'countries': ['Germany']}"
      ]
     },
     "execution_count": 25,
     "metadata": {},
     "output_type": "execute_result"
    }
   ],
   "source": [
    "temp10"
   ]
  },
  {
   "cell_type": "code",
   "execution_count": 65,
   "id": "be01c817",
   "metadata": {
    "ExecuteTime": {
     "end_time": "2021-06-03T20:16:12.492294Z",
     "start_time": "2021-06-03T20:16:12.489200Z"
    }
   },
   "outputs": [],
   "source": [
    "from tweepy import OAuthHandler\n",
    "from tweepy import API\n",
    "from tweepy import Cursor\n",
    "from datetime import datetime, date, time, timedelta\n",
    "from collections import Counter"
   ]
  },
  {
   "cell_type": "code",
   "execution_count": 74,
   "id": "23801aa8",
   "metadata": {
    "ExecuteTime": {
     "end_time": "2021-06-03T20:21:11.889565Z",
     "start_time": "2021-06-03T20:21:11.885375Z"
    }
   },
   "outputs": [],
   "source": [
    "auth = tw.OAuthHandler(consumer_key, consumer_secret)\n",
    "auth.set_access_token(access_token, access_token_secret)\n",
    "api = tw.API(auth, wait_on_rate_limit=True)"
   ]
  },
  {
   "cell_type": "code",
   "execution_count": 105,
   "id": "49537703",
   "metadata": {
    "ExecuteTime": {
     "end_time": "2021-06-03T20:44:41.556704Z",
     "start_time": "2021-06-03T20:44:41.550450Z"
    }
   },
   "outputs": [],
   "source": [
    "def plenty_info(consumer_key, consumer_secret, access_token,access_token_secret, user):\n",
    "    '''Takes secrets, username on twitter to get twitter username, location of user and follower count'''\n",
    "    auth = tw.OAuthHandler(consumer_key, consumer_secret)\n",
    "    auth.set_access_token(access_token, access_token_secret)\n",
    "    api = tw.API(auth, wait_on_rate_limit=True)\n",
    "    item = api.get_user(target)\n",
    "    name = item.name\n",
    "    location = item.location\n",
    "    screen_name = item.screen_name\n",
    "    description = item.description\n",
    "    status_count = item.statuses_count\n",
    "    friends_count = item.friends_count\n",
    "    followers_count = item.followers_count\n",
    "    tweets = item.statuses_count\n",
    "    account_created_date = item.created_at\n",
    "    delta = datetime.utcnow() - account_created_date\n",
    "    account_age_days = delta.days\n",
    "    tweets_per_day = round((float(tweets)/float(account_age_days)),2)\n",
    "    return pd.DataFrame(data=[[name, screen_name, location,  description, status_count, friends_count, followers_count, account_age_days, tweets_per_day]], columns=['usename','screen_name', 'location', 'description', 'statuses_count', 'friends_count', 'followers_count', 'Account age (in days)', 'tweets per day'])"
   ]
  },
  {
   "cell_type": "code",
   "execution_count": 106,
   "id": "50685fe3",
   "metadata": {
    "ExecuteTime": {
     "end_time": "2021-06-03T20:44:42.458013Z",
     "start_time": "2021-06-03T20:44:42.159297Z"
    }
   },
   "outputs": [
    {
     "data": {
      "text/html": [
       "<div>\n",
       "<style scoped>\n",
       "    .dataframe tbody tr th:only-of-type {\n",
       "        vertical-align: middle;\n",
       "    }\n",
       "\n",
       "    .dataframe tbody tr th {\n",
       "        vertical-align: top;\n",
       "    }\n",
       "\n",
       "    .dataframe thead th {\n",
       "        text-align: right;\n",
       "    }\n",
       "</style>\n",
       "<table border=\"1\" class=\"dataframe\">\n",
       "  <thead>\n",
       "    <tr style=\"text-align: right;\">\n",
       "      <th></th>\n",
       "      <th>usename</th>\n",
       "      <th>screen_name</th>\n",
       "      <th>location</th>\n",
       "      <th>description</th>\n",
       "      <th>statuses_count</th>\n",
       "      <th>friends_count</th>\n",
       "      <th>followers_count</th>\n",
       "      <th>Account age (in days)</th>\n",
       "      <th>tweets per day</th>\n",
       "    </tr>\n",
       "  </thead>\n",
       "  <tbody>\n",
       "    <tr>\n",
       "      <th>0</th>\n",
       "      <td>Frederik Hinteregger</td>\n",
       "      <td>noway4u_sir</td>\n",
       "      <td>München, Bayern</td>\n",
       "      <td>Twitchstreamer und Flammkuchenconnoisseur</td>\n",
       "      <td>5145</td>\n",
       "      <td>207</td>\n",
       "      <td>64198</td>\n",
       "      <td>2067</td>\n",
       "      <td>2.49</td>\n",
       "    </tr>\n",
       "  </tbody>\n",
       "</table>\n",
       "</div>"
      ],
      "text/plain": [
       "                usename  screen_name         location  \\\n",
       "0  Frederik Hinteregger  noway4u_sir  München, Bayern   \n",
       "\n",
       "                                 description  statuses_count  friends_count  \\\n",
       "0  Twitchstreamer und Flammkuchenconnoisseur            5145            207   \n",
       "\n",
       "   followers_count  Account age (in days)  tweets per day  \n",
       "0            64198                   2067            2.49  "
      ]
     },
     "execution_count": 106,
     "metadata": {},
     "output_type": "execute_result"
    }
   ],
   "source": [
    "plenty_info(consumer_key, consumer_secret, access_token,access_token_secret, \"NoWay4u_sir\")"
   ]
  },
  {
   "cell_type": "code",
   "execution_count": 89,
   "id": "461802eb",
   "metadata": {
    "ExecuteTime": {
     "end_time": "2021-06-03T20:29:30.939755Z",
     "start_time": "2021-06-03T20:28:58.004449Z"
    }
   },
   "outputs": [],
   "source": [
    "hashtags = []\n",
    "mentions = []\n",
    "tweet_count = 0\n",
    "end_date = datetime.utcnow() - timedelta(days=365)\n",
    "for status in Cursor(api.user_timeline, id=target).items():\n",
    "    tweet_count += 1\n",
    "    if hasattr(status, \"entities\"):\n",
    "        entities = status.entities\n",
    "        if \"hashtags\" in entities:\n",
    "            for ent in entities[\"hashtags\"]:\n",
    "                if ent is not None:\n",
    "                    if \"text\" in ent:\n",
    "                        hashtag = ent[\"text\"]\n",
    "                        if hashtag is not None:\n",
    "                            hashtags.append(hashtag)\n",
    "        if \"user_mentions\" in entities:\n",
    "            for ent in entities[\"user_mentions\"]:\n",
    "                if ent is not None:\n",
    "                    if \"screen_name\" in ent:\n",
    "                        name = ent[\"screen_name\"]\n",
    "                if name is not None:\n",
    "                    mentions.append(name)\n",
    "        if status.created_at < end_date:\n",
    "            break"
   ]
  },
  {
   "cell_type": "code",
   "execution_count": 90,
   "id": "5c5716e8",
   "metadata": {
    "ExecuteTime": {
     "end_time": "2021-06-03T20:29:40.792842Z",
     "start_time": "2021-06-03T20:29:40.787288Z"
    }
   },
   "outputs": [
    {
     "name": "stdout",
     "output_type": "stream",
     "text": [
      "Most mentioned Twitter users:\n",
      "Broeki2\t35\n",
      "teamAHG\t21\n",
      "LoLSola\t15\n",
      "LPGjustJohnny\t15\n",
      "Xiohlol\t12\n",
      "itskarni\t11\n",
      "PandarEUW\t11\n",
      "paint_tainted\t10\n",
      "Agurinlol\t10\n",
      "Autophil_lol\t10\n",
      "Most used hashtags:\n",
      "ALDIGaming\t2\n",
      "Werbung\t2\n",
      "MagentaeTrophy\t2\n",
      "Würfelqueue\t2\n",
      "PrimeLeague\t1\n",
      "aldigaming\t1\n",
      "AldiGaming\t1\n",
      "AllStar2020\t1\n",
      "Ad\t1\n",
      "chefsache\t1\n",
      "All done. Processed 1063 tweets.\n"
     ]
    }
   ],
   "source": [
    "print(\"Most mentioned Twitter users:\")\n",
    "for item, count in Counter(mentions).most_common(10):\n",
    "    print(item + \"\\t\" + str(count))\n",
    "\n",
    "print(\"Most used hashtags:\")\n",
    "for item, count in Counter(hashtags).most_common(10):\n",
    "    print(item + \"\\t\" + str(count))\n",
    "\n",
    "print(\"All done. Processed \" + str(tweet_count) + \" tweets.\")"
   ]
  },
  {
   "cell_type": "code",
   "execution_count": null,
   "id": "1c03c26f",
   "metadata": {},
   "outputs": [],
   "source": [
    "places = geograpy.get_geoPlace_context(text = locations)\n",
    "\n",
    "places.countries"
   ]
  },
  {
   "cell_type": "code",
   "execution_count": 26,
   "id": "db718e30",
   "metadata": {
    "ExecuteTime": {
     "end_time": "2021-06-05T11:02:56.555705Z",
     "start_time": "2021-06-05T11:02:56.544710Z"
    }
   },
   "outputs": [
    {
     "ename": "NameError",
     "evalue": "name 'locations' is not defined",
     "output_type": "error",
     "traceback": [
      "\u001b[0;31m---------------------------------------------------------------------------\u001b[0m",
      "\u001b[0;31mNameError\u001b[0m                                 Traceback (most recent call last)",
      "\u001b[0;32m<ipython-input-26-a750c50beb5f>\u001b[0m in \u001b[0;36m<module>\u001b[0;34m\u001b[0m\n\u001b[0;32m----> 1\u001b[0;31m \u001b[0mlocations\u001b[0m\u001b[0;34m\u001b[0m\u001b[0;34m\u001b[0m\u001b[0m\n\u001b[0m",
      "\u001b[0;31mNameError\u001b[0m: name 'locations' is not defined"
     ]
    }
   ],
   "source": [
    "locations"
   ]
  },
  {
   "cell_type": "code",
   "execution_count": 36,
   "id": "cf661693",
   "metadata": {
    "ExecuteTime": {
     "end_time": "2021-06-03T19:52:04.254689Z",
     "start_time": "2021-06-03T19:52:04.112516Z"
    }
   },
   "outputs": [
    {
     "data": {
      "text/plain": [
       "['London', 'Bristol', 'New Brunswick']"
      ]
     },
     "execution_count": 36,
     "metadata": {},
     "output_type": "execute_result"
    }
   ],
   "source": [
    "places = geograpy.get_geoPlace_context(text = locations)\n",
    "\n",
    "places.countries"
   ]
  },
  {
   "cell_type": "code",
   "execution_count": 56,
   "id": "de05c495",
   "metadata": {
    "ExecuteTime": {
     "end_time": "2021-06-04T14:03:44.948112Z",
     "start_time": "2021-06-04T14:03:44.942731Z"
    }
   },
   "outputs": [],
   "source": [
    "test = np.ndarray(shape=(1,2))"
   ]
  },
  {
   "cell_type": "code",
   "execution_count": 57,
   "id": "0951a7eb",
   "metadata": {
    "ExecuteTime": {
     "end_time": "2021-06-04T14:03:47.666400Z",
     "start_time": "2021-06-04T14:03:47.661312Z"
    }
   },
   "outputs": [
    {
     "data": {
      "text/plain": [
       "array([[52.5170365, 13.3888599]])"
      ]
     },
     "execution_count": 57,
     "metadata": {},
     "output_type": "execute_result"
    }
   ],
   "source": [
    "test"
   ]
  },
  {
   "cell_type": "code",
   "execution_count": 58,
   "id": "76c63ffd",
   "metadata": {
    "ExecuteTime": {
     "end_time": "2021-06-04T14:04:09.910147Z",
     "start_time": "2021-06-04T14:04:09.906608Z"
    }
   },
   "outputs": [],
   "source": [
    "cities = ['London', 'Bristol', 'New Brunswick']\n",
    "\n",
    "coords = []\n",
    "for city in cities:\n",
    "    city_data = city_lat_long(city)\n",
    "    coords.append([city_data[0], city_data[1]])\n",
    "np.array(coords)"
   ]
  },
  {
   "cell_type": "code",
   "execution_count": 64,
   "id": "1e92e42b",
   "metadata": {
    "ExecuteTime": {
     "end_time": "2021-06-04T14:07:11.855591Z",
     "start_time": "2021-06-04T14:07:11.847809Z"
    }
   },
   "outputs": [
    {
     "data": {
      "text/plain": [
       "(3, 2)"
      ]
     },
     "execution_count": 64,
     "metadata": {},
     "output_type": "execute_result"
    }
   ],
   "source": [
    "np.array(coords).shape"
   ]
  },
  {
   "cell_type": "code",
   "execution_count": null,
   "id": "fb98d1a6",
   "metadata": {},
   "outputs": [],
   "source": [
    "import os\n",
    "from os.path import join\n",
    "from dotenv import load_dotenv\n",
    "from twython import Twython\n",
    "import pandas as pd\n",
    "import os\n",
    "import time\n",
    "#Loading data\n",
    "# press=pd.read_csv(\"/Users/estefaniavidalbouzon/code/EstefaniaVB/LexAI/LexAI/raw_data/press.csv\", delimiter=\";\")\n",
    "# meps=pd.read_csv(\"/Users/estefaniavidalbouzon/code/EstefaniaVB/LexAI/LexAI/raw_data/meps.csv\", delimiter=\",\")\n",
    "#Loading credentials (change the path to the .env file)\n",
    "# pwd =\"/Users/estefaniavidalbouzon/code/EstefaniaVB/LexAI/LexAI/\"\n",
    "# env_path = join(pwd,'.env') # ../.env\n",
    "# load_dotenv(dotenv_path=env_path)\n",
    "# inv = load_dotenv(dotenv_path=env_path)\n",
    "#CREDENTIALS\n",
    "CONSUMER_KEY = ''\n",
    "CONSUMER_SECRET = ''\n",
    "ACCESS_TOKEN = ''\n",
    "ACCESS_SECRET = ''\n",
    "python_tweets = Twython(CONSUMER_KEY, CONSUMER_SECRET)\n",
    "### New outlets and politicians twitter data\n",
    "# news = press[\"TWITTER USERNAME \"]\n",
    "# politicians = meps[[\"twitter\"]].dropna()\n",
    "#Subsetting politicians in order to create multiple requests\n",
    "# politicians_1set = politicians[:100]\n",
    "# politicians_2set = politicians[100:200]\n",
    "# politicians_3set = politicians[200:]\n",
    "#### Twitter limitation\n",
    "#Limit of 100,000 requests per day to the /statuses/user_timeline endpoint, in addition to existing user-level and app-level rate limits. This limit is applied on a per-application basis, meaning that a single developer app can make up to 100,000 calls during any single 24-hour period.\n",
    "#This method can only return up to 3,200 of a user's most recent Tweets. Native retweets of other statuses by the user is included in this total, regardless of whether include_rts is set to false when requesting this resource.\n",
    "#- We can just retrieve 200 tweets/request\n",
    "#- 900 tweets 15 min\n",
    "#- 100000 in 24h\n",
    "#100 politicians (1set) 2 tweets --> 200\n",
    "#100 politicians (2set) 2 tweets --> 200\n",
    "#94 politicians (2set) 2 tweets -->  188\n",
    "#58 News outlets 3 tweets       -->  174\n",
    "#Total = 762\n",
    "#requesting the tweets from the news\n",
    "def get_streamer_data(streamer):\n",
    "    streamer_data=[]\n",
    "    time.sleep(60*15) #run every 15min\n",
    "#     for outlet in news:\n",
    "    streamer_data.append(python_tweets.get_user_timeline(screen_name=streamer, count=3))\n",
    "    streamer_tweets = pd.DataFrame(streamer_data)\n",
    "    return streamer_tweets\n",
    "#Selecting relevant information\n",
    "def get_news_data_filtered():\n",
    "    data_new_filtered=[]\n",
    "    for column in get_politicians_data():\n",
    "        for row in get_politicians_data()[column]:\n",
    "            id_new = row[\"id\"]\n",
    "            text = row[\"text\"]\n",
    "            try:\n",
    "                url = row[\"entities\"][\"urls\"][0][\"url\"]\n",
    "            except:\n",
    "                url =\"\"\n",
    "            try:\n",
    "                expanded_url = row[\"entities\"][\"urls\"][0][\"expanded_url\"]\n",
    "            except:\n",
    "                expanded_url =\"\"\n",
    "            name = row[\"user\"][\"name\"]\n",
    "            location = row[\"user\"][\"location\"]\n",
    "            followers_count = row[\"user\"][\"followers_count\"]\n",
    "            friends_count = row[\"user\"][\"friends_count\"]\n",
    "            listed_count = row[\"user\"][\"listed_count\"]\n",
    "            favourites_count = row[\"user\"][\"favourites_count\"]\n",
    "            profile_image_url = row[\"user\"][\"profile_image_url\"]\n",
    "            retweet_count= row[\"retweet_count\"]\n",
    "            source = row[\"source\"]\n",
    "            created_at = row[\"created_at\"]\n",
    "            data_new_filtered.append({\"id_new\":id_new,\"text\":text,\"url\":url,\"expanded_url\":expanded_url,\"name\":name,\"location\":location,\"followers_count\":followers_count,\"friends_count\":friends_count,\"listed_count\":listed_count,\"favourites_count\":favourites_count,\"profile_image_url\":profile_image_url,\"retweet_count\":retweet_count,\"source\":source,\"created_at\":created_at})\n",
    "    news_tweets = pd.DataFrame(data_new_filtered)\n",
    "    return news_tweets    \n",
    "#requesting the tweets from the politicians\n",
    "def get_politicians_data():\n",
    "    meps_data = []\n",
    "    time.sleep(60*15) #seting a sleep time of 15 min\n",
    "    for politic in politicians_1set:\n",
    "        print(f\"Downloading tweets from: ...{politic}\")\n",
    "        meps_data.append(python_tweets.get_user_timeline(screen_name=politic, count=2))\n",
    "    for politic in politicians_2set:\n",
    "        print(f\"Downloading tweets from: ...{politic}\")\n",
    "        meps_data.append(python_tweets.get_user_timeline(screen_name=politic, count=2))\n",
    "    for politic in politicians_3set:\n",
    "        print(f\"Downloading tweets from: ...{politic}\")\n",
    "        meps_data.append(python_tweets.get_user_timeline(screen_name=politic, count=2))\n",
    "        meps_tweets = pd.DataFrame(meps_data)\n",
    "    return meps_tweets\n",
    "def get_politicians_data_filtered():\n",
    "    data_politicians_filtered=[]\n",
    "    for column in get_politicians_data():\n",
    "        for row in get_politicians_data()[column]:\n",
    "            id_new = row[\"id\"]\n",
    "            text = row[\"text\"]\n",
    "            try:\n",
    "                url = row[\"entities\"][\"urls\"][0][\"url\"]\n",
    "            except:\n",
    "                url =\"\"\n",
    "            try:\n",
    "                expanded_url = row[\"entities\"][\"urls\"][0][\"expanded_url\"]\n",
    "            except:\n",
    "                expanded_url =\"\"\n",
    "            name = row[\"user\"][\"name\"]\n",
    "            location = row[\"user\"][\"location\"]\n",
    "            followers_count = row[\"user\"][\"followers_count\"]\n",
    "            friends_count = row[\"user\"][\"friends_count\"]\n",
    "            listed_count = row[\"user\"][\"listed_count\"]\n",
    "            favourites_count = row[\"user\"][\"favourites_count\"]\n",
    "            profile_image_url = row[\"user\"][\"profile_image_url\"]\n",
    "            retweet_count= row[\"retweet_count\"]\n",
    "            source = row[\"source\"]\n",
    "            created_at = row[\"created_at\"]\n",
    "            data_politicians_filtered.append({\"id_new\":id_new,\"text\":text,\"url\":url,\"expanded_url\":expanded_url,\"name\":name,\"location\":location,\"followers_count\":followers_count,\"friends_count\":friends_count,\"listed_count\":listed_count,\"favourites_count\":favourites_count,\"profile_image_url\":profile_image_url,\"retweet_count\":retweet_count,\"source\":source,\"created_at\":created_at})\n",
    "    politicians_tweets = pd.DataFrame(data_politicians_filtered)\n",
    "    return politicians_tweets"
   ]
  },
  {
   "cell_type": "markdown",
   "id": "2fabaf97",
   "metadata": {},
   "source": [
    "# Trying Sentiment Analysis"
   ]
  },
  {
   "cell_type": "code",
   "execution_count": 1,
   "id": "67f66ff4",
   "metadata": {
    "ExecuteTime": {
     "end_time": "2021-06-04T08:15:44.768483Z",
     "start_time": "2021-06-04T08:15:42.977425Z"
    }
   },
   "outputs": [
    {
     "ename": "LookupError",
     "evalue": "\n**********************************************************************\n  Resource \u001b[93mtwitter_samples\u001b[0m not found.\n  Please use the NLTK Downloader to obtain the resource:\n\n  \u001b[31m>>> import nltk\n  >>> nltk.download('twitter_samples')\n  \u001b[0m\n  For more information see: https://www.nltk.org/data.html\n\n  Attempted to load \u001b[93mcorpora/twitter_samples\u001b[0m\n\n  Searched in:\n    - '/Users/home/nltk_data'\n    - '/Users/home/.pyenv/versions/3.8.6/envs/starfish/nltk_data'\n    - '/Users/home/.pyenv/versions/3.8.6/envs/starfish/share/nltk_data'\n    - '/Users/home/.pyenv/versions/3.8.6/envs/starfish/lib/nltk_data'\n    - '/usr/share/nltk_data'\n    - '/usr/local/share/nltk_data'\n    - '/usr/lib/nltk_data'\n    - '/usr/local/lib/nltk_data'\n**********************************************************************\n",
     "output_type": "error",
     "traceback": [
      "\u001b[0;31m---------------------------------------------------------------------------\u001b[0m",
      "\u001b[0;31mLookupError\u001b[0m                               Traceback (most recent call last)",
      "\u001b[0;32m~/.pyenv/versions/3.8.6/envs/starfish/lib/python3.8/site-packages/nltk/corpus/util.py\u001b[0m in \u001b[0;36m__load\u001b[0;34m(self)\u001b[0m\n\u001b[1;32m     82\u001b[0m                 \u001b[0;32mtry\u001b[0m\u001b[0;34m:\u001b[0m\u001b[0;34m\u001b[0m\u001b[0;34m\u001b[0m\u001b[0m\n\u001b[0;32m---> 83\u001b[0;31m                     \u001b[0mroot\u001b[0m \u001b[0;34m=\u001b[0m \u001b[0mnltk\u001b[0m\u001b[0;34m.\u001b[0m\u001b[0mdata\u001b[0m\u001b[0;34m.\u001b[0m\u001b[0mfind\u001b[0m\u001b[0;34m(\u001b[0m\u001b[0;34m\"{}/{}\"\u001b[0m\u001b[0;34m.\u001b[0m\u001b[0mformat\u001b[0m\u001b[0;34m(\u001b[0m\u001b[0mself\u001b[0m\u001b[0;34m.\u001b[0m\u001b[0msubdir\u001b[0m\u001b[0;34m,\u001b[0m \u001b[0mzip_name\u001b[0m\u001b[0;34m)\u001b[0m\u001b[0;34m)\u001b[0m\u001b[0;34m\u001b[0m\u001b[0;34m\u001b[0m\u001b[0m\n\u001b[0m\u001b[1;32m     84\u001b[0m                 \u001b[0;32mexcept\u001b[0m \u001b[0mLookupError\u001b[0m\u001b[0;34m:\u001b[0m\u001b[0;34m\u001b[0m\u001b[0;34m\u001b[0m\u001b[0m\n",
      "\u001b[0;32m~/.pyenv/versions/3.8.6/envs/starfish/lib/python3.8/site-packages/nltk/data.py\u001b[0m in \u001b[0;36mfind\u001b[0;34m(resource_name, paths)\u001b[0m\n\u001b[1;32m    582\u001b[0m     \u001b[0mresource_not_found\u001b[0m \u001b[0;34m=\u001b[0m \u001b[0;34m\"\\n%s\\n%s\\n%s\\n\"\u001b[0m \u001b[0;34m%\u001b[0m \u001b[0;34m(\u001b[0m\u001b[0msep\u001b[0m\u001b[0;34m,\u001b[0m \u001b[0mmsg\u001b[0m\u001b[0;34m,\u001b[0m \u001b[0msep\u001b[0m\u001b[0;34m)\u001b[0m\u001b[0;34m\u001b[0m\u001b[0;34m\u001b[0m\u001b[0m\n\u001b[0;32m--> 583\u001b[0;31m     \u001b[0;32mraise\u001b[0m \u001b[0mLookupError\u001b[0m\u001b[0;34m(\u001b[0m\u001b[0mresource_not_found\u001b[0m\u001b[0;34m)\u001b[0m\u001b[0;34m\u001b[0m\u001b[0;34m\u001b[0m\u001b[0m\n\u001b[0m\u001b[1;32m    584\u001b[0m \u001b[0;34m\u001b[0m\u001b[0m\n",
      "\u001b[0;31mLookupError\u001b[0m: \n**********************************************************************\n  Resource \u001b[93mtwitter_samples\u001b[0m not found.\n  Please use the NLTK Downloader to obtain the resource:\n\n  \u001b[31m>>> import nltk\n  >>> nltk.download('twitter_samples')\n  \u001b[0m\n  For more information see: https://www.nltk.org/data.html\n\n  Attempted to load \u001b[93mcorpora/twitter_samples.zip/twitter_samples/\u001b[0m\n\n  Searched in:\n    - '/Users/home/nltk_data'\n    - '/Users/home/.pyenv/versions/3.8.6/envs/starfish/nltk_data'\n    - '/Users/home/.pyenv/versions/3.8.6/envs/starfish/share/nltk_data'\n    - '/Users/home/.pyenv/versions/3.8.6/envs/starfish/lib/nltk_data'\n    - '/usr/share/nltk_data'\n    - '/usr/local/share/nltk_data'\n    - '/usr/lib/nltk_data'\n    - '/usr/local/lib/nltk_data'\n**********************************************************************\n",
      "\nDuring handling of the above exception, another exception occurred:\n",
      "\u001b[0;31mLookupError\u001b[0m                               Traceback (most recent call last)",
      "\u001b[0;32m<ipython-input-1-23f399fdccb8>\u001b[0m in \u001b[0;36m<module>\u001b[0;34m\u001b[0m\n\u001b[1;32m     41\u001b[0m \u001b[0;32mif\u001b[0m \u001b[0m__name__\u001b[0m \u001b[0;34m==\u001b[0m \u001b[0;34m\"__main__\"\u001b[0m\u001b[0;34m:\u001b[0m\u001b[0;34m\u001b[0m\u001b[0;34m\u001b[0m\u001b[0m\n\u001b[1;32m     42\u001b[0m \u001b[0;34m\u001b[0m\u001b[0m\n\u001b[0;32m---> 43\u001b[0;31m     \u001b[0mpositive_tweets\u001b[0m \u001b[0;34m=\u001b[0m \u001b[0mtwitter_samples\u001b[0m\u001b[0;34m.\u001b[0m\u001b[0mstrings\u001b[0m\u001b[0;34m(\u001b[0m\u001b[0;34m'positive_tweets.json'\u001b[0m\u001b[0;34m)\u001b[0m\u001b[0;34m\u001b[0m\u001b[0;34m\u001b[0m\u001b[0m\n\u001b[0m\u001b[1;32m     44\u001b[0m     \u001b[0mnegative_tweets\u001b[0m \u001b[0;34m=\u001b[0m \u001b[0mtwitter_samples\u001b[0m\u001b[0;34m.\u001b[0m\u001b[0mstrings\u001b[0m\u001b[0;34m(\u001b[0m\u001b[0;34m'negative_tweets.json'\u001b[0m\u001b[0;34m)\u001b[0m\u001b[0;34m\u001b[0m\u001b[0;34m\u001b[0m\u001b[0m\n\u001b[1;32m     45\u001b[0m     \u001b[0mtext\u001b[0m \u001b[0;34m=\u001b[0m \u001b[0mtwitter_samples\u001b[0m\u001b[0;34m.\u001b[0m\u001b[0mstrings\u001b[0m\u001b[0;34m(\u001b[0m\u001b[0;34m'tweets.20150430-223406.json'\u001b[0m\u001b[0;34m)\u001b[0m\u001b[0;34m\u001b[0m\u001b[0;34m\u001b[0m\u001b[0m\n",
      "\u001b[0;32m~/.pyenv/versions/3.8.6/envs/starfish/lib/python3.8/site-packages/nltk/corpus/util.py\u001b[0m in \u001b[0;36m__getattr__\u001b[0;34m(self, attr)\u001b[0m\n\u001b[1;32m    118\u001b[0m             \u001b[0;32mraise\u001b[0m \u001b[0mAttributeError\u001b[0m\u001b[0;34m(\u001b[0m\u001b[0;34m\"LazyCorpusLoader object has no attribute '__bases__'\"\u001b[0m\u001b[0;34m)\u001b[0m\u001b[0;34m\u001b[0m\u001b[0;34m\u001b[0m\u001b[0m\n\u001b[1;32m    119\u001b[0m \u001b[0;34m\u001b[0m\u001b[0m\n\u001b[0;32m--> 120\u001b[0;31m         \u001b[0mself\u001b[0m\u001b[0;34m.\u001b[0m\u001b[0m__load\u001b[0m\u001b[0;34m(\u001b[0m\u001b[0;34m)\u001b[0m\u001b[0;34m\u001b[0m\u001b[0;34m\u001b[0m\u001b[0m\n\u001b[0m\u001b[1;32m    121\u001b[0m         \u001b[0;31m# This looks circular, but its not, since __load() changes our\u001b[0m\u001b[0;34m\u001b[0m\u001b[0;34m\u001b[0m\u001b[0;34m\u001b[0m\u001b[0m\n\u001b[1;32m    122\u001b[0m         \u001b[0;31m# __class__ to something new:\u001b[0m\u001b[0;34m\u001b[0m\u001b[0;34m\u001b[0m\u001b[0;34m\u001b[0m\u001b[0m\n",
      "\u001b[0;32m~/.pyenv/versions/3.8.6/envs/starfish/lib/python3.8/site-packages/nltk/corpus/util.py\u001b[0m in \u001b[0;36m__load\u001b[0;34m(self)\u001b[0m\n\u001b[1;32m     83\u001b[0m                     \u001b[0mroot\u001b[0m \u001b[0;34m=\u001b[0m \u001b[0mnltk\u001b[0m\u001b[0;34m.\u001b[0m\u001b[0mdata\u001b[0m\u001b[0;34m.\u001b[0m\u001b[0mfind\u001b[0m\u001b[0;34m(\u001b[0m\u001b[0;34m\"{}/{}\"\u001b[0m\u001b[0;34m.\u001b[0m\u001b[0mformat\u001b[0m\u001b[0;34m(\u001b[0m\u001b[0mself\u001b[0m\u001b[0;34m.\u001b[0m\u001b[0msubdir\u001b[0m\u001b[0;34m,\u001b[0m \u001b[0mzip_name\u001b[0m\u001b[0;34m)\u001b[0m\u001b[0;34m)\u001b[0m\u001b[0;34m\u001b[0m\u001b[0;34m\u001b[0m\u001b[0m\n\u001b[1;32m     84\u001b[0m                 \u001b[0;32mexcept\u001b[0m \u001b[0mLookupError\u001b[0m\u001b[0;34m:\u001b[0m\u001b[0;34m\u001b[0m\u001b[0;34m\u001b[0m\u001b[0m\n\u001b[0;32m---> 85\u001b[0;31m                     \u001b[0;32mraise\u001b[0m \u001b[0me\u001b[0m\u001b[0;34m\u001b[0m\u001b[0;34m\u001b[0m\u001b[0m\n\u001b[0m\u001b[1;32m     86\u001b[0m \u001b[0;34m\u001b[0m\u001b[0m\n\u001b[1;32m     87\u001b[0m         \u001b[0;31m# Load the corpus.\u001b[0m\u001b[0;34m\u001b[0m\u001b[0;34m\u001b[0m\u001b[0;34m\u001b[0m\u001b[0m\n",
      "\u001b[0;32m~/.pyenv/versions/3.8.6/envs/starfish/lib/python3.8/site-packages/nltk/corpus/util.py\u001b[0m in \u001b[0;36m__load\u001b[0;34m(self)\u001b[0m\n\u001b[1;32m     78\u001b[0m         \u001b[0;32melse\u001b[0m\u001b[0;34m:\u001b[0m\u001b[0;34m\u001b[0m\u001b[0;34m\u001b[0m\u001b[0m\n\u001b[1;32m     79\u001b[0m             \u001b[0;32mtry\u001b[0m\u001b[0;34m:\u001b[0m\u001b[0;34m\u001b[0m\u001b[0;34m\u001b[0m\u001b[0m\n\u001b[0;32m---> 80\u001b[0;31m                 \u001b[0mroot\u001b[0m \u001b[0;34m=\u001b[0m \u001b[0mnltk\u001b[0m\u001b[0;34m.\u001b[0m\u001b[0mdata\u001b[0m\u001b[0;34m.\u001b[0m\u001b[0mfind\u001b[0m\u001b[0;34m(\u001b[0m\u001b[0;34m\"{}/{}\"\u001b[0m\u001b[0;34m.\u001b[0m\u001b[0mformat\u001b[0m\u001b[0;34m(\u001b[0m\u001b[0mself\u001b[0m\u001b[0;34m.\u001b[0m\u001b[0msubdir\u001b[0m\u001b[0;34m,\u001b[0m \u001b[0mself\u001b[0m\u001b[0;34m.\u001b[0m\u001b[0m__name\u001b[0m\u001b[0;34m)\u001b[0m\u001b[0;34m)\u001b[0m\u001b[0;34m\u001b[0m\u001b[0;34m\u001b[0m\u001b[0m\n\u001b[0m\u001b[1;32m     81\u001b[0m             \u001b[0;32mexcept\u001b[0m \u001b[0mLookupError\u001b[0m \u001b[0;32mas\u001b[0m \u001b[0me\u001b[0m\u001b[0;34m:\u001b[0m\u001b[0;34m\u001b[0m\u001b[0;34m\u001b[0m\u001b[0m\n\u001b[1;32m     82\u001b[0m                 \u001b[0;32mtry\u001b[0m\u001b[0;34m:\u001b[0m\u001b[0;34m\u001b[0m\u001b[0;34m\u001b[0m\u001b[0m\n",
      "\u001b[0;32m~/.pyenv/versions/3.8.6/envs/starfish/lib/python3.8/site-packages/nltk/data.py\u001b[0m in \u001b[0;36mfind\u001b[0;34m(resource_name, paths)\u001b[0m\n\u001b[1;32m    581\u001b[0m     \u001b[0msep\u001b[0m \u001b[0;34m=\u001b[0m \u001b[0;34m\"*\"\u001b[0m \u001b[0;34m*\u001b[0m \u001b[0;36m70\u001b[0m\u001b[0;34m\u001b[0m\u001b[0;34m\u001b[0m\u001b[0m\n\u001b[1;32m    582\u001b[0m     \u001b[0mresource_not_found\u001b[0m \u001b[0;34m=\u001b[0m \u001b[0;34m\"\\n%s\\n%s\\n%s\\n\"\u001b[0m \u001b[0;34m%\u001b[0m \u001b[0;34m(\u001b[0m\u001b[0msep\u001b[0m\u001b[0;34m,\u001b[0m \u001b[0mmsg\u001b[0m\u001b[0;34m,\u001b[0m \u001b[0msep\u001b[0m\u001b[0;34m)\u001b[0m\u001b[0;34m\u001b[0m\u001b[0;34m\u001b[0m\u001b[0m\n\u001b[0;32m--> 583\u001b[0;31m     \u001b[0;32mraise\u001b[0m \u001b[0mLookupError\u001b[0m\u001b[0;34m(\u001b[0m\u001b[0mresource_not_found\u001b[0m\u001b[0;34m)\u001b[0m\u001b[0;34m\u001b[0m\u001b[0;34m\u001b[0m\u001b[0m\n\u001b[0m\u001b[1;32m    584\u001b[0m \u001b[0;34m\u001b[0m\u001b[0m\n\u001b[1;32m    585\u001b[0m \u001b[0;34m\u001b[0m\u001b[0m\n",
      "\u001b[0;31mLookupError\u001b[0m: \n**********************************************************************\n  Resource \u001b[93mtwitter_samples\u001b[0m not found.\n  Please use the NLTK Downloader to obtain the resource:\n\n  \u001b[31m>>> import nltk\n  >>> nltk.download('twitter_samples')\n  \u001b[0m\n  For more information see: https://www.nltk.org/data.html\n\n  Attempted to load \u001b[93mcorpora/twitter_samples\u001b[0m\n\n  Searched in:\n    - '/Users/home/nltk_data'\n    - '/Users/home/.pyenv/versions/3.8.6/envs/starfish/nltk_data'\n    - '/Users/home/.pyenv/versions/3.8.6/envs/starfish/share/nltk_data'\n    - '/Users/home/.pyenv/versions/3.8.6/envs/starfish/lib/nltk_data'\n    - '/usr/share/nltk_data'\n    - '/usr/local/share/nltk_data'\n    - '/usr/lib/nltk_data'\n    - '/usr/local/lib/nltk_data'\n**********************************************************************\n"
     ]
    }
   ],
   "source": [
    "from nltk.stem.wordnet import WordNetLemmatizer\n",
    "from nltk.corpus import twitter_samples, stopwords\n",
    "from nltk.tag import pos_tag\n",
    "from nltk.tokenize import word_tokenize\n",
    "from nltk import FreqDist, classify, NaiveBayesClassifier\n",
    "\n",
    "import re, string, random\n",
    "\n",
    "def remove_noise(tweet_tokens, stop_words = ()):\n",
    "\n",
    "    cleaned_tokens = []\n",
    "\n",
    "    for token, tag in pos_tag(tweet_tokens):\n",
    "        token = re.sub('http[s]?://(?:[a-zA-Z]|[0-9]|[$-_@.&+#]|[!*\\(\\),]|'\\\n",
    "                       '(?:%[0-9a-fA-F][0-9a-fA-F]))+','', token)\n",
    "        token = re.sub(\"(@[A-Za-z0-9_]+)\",\"\", token)\n",
    "\n",
    "        if tag.startswith(\"NN\"):\n",
    "            pos = 'n'\n",
    "        elif tag.startswith('VB'):\n",
    "            pos = 'v'\n",
    "        else:\n",
    "            pos = 'a'\n",
    "\n",
    "        lemmatizer = WordNetLemmatizer()\n",
    "        token = lemmatizer.lemmatize(token, pos)\n",
    "\n",
    "        if len(token) > 0 and token not in string.punctuation and token.lower() not in stop_words:\n",
    "            cleaned_tokens.append(token.lower())\n",
    "    return cleaned_tokens\n",
    "\n",
    "def get_all_words(cleaned_tokens_list):\n",
    "    for tokens in cleaned_tokens_list:\n",
    "        for token in tokens:\n",
    "            yield token\n",
    "\n",
    "def get_tweets_for_model(cleaned_tokens_list):\n",
    "    for tweet_tokens in cleaned_tokens_list:\n",
    "        yield dict([token, True] for token in tweet_tokens)\n",
    "\n",
    "if __name__ == \"__main__\":\n",
    "\n",
    "    positive_tweets = twitter_samples.strings('positive_tweets.json')\n",
    "    negative_tweets = twitter_samples.strings('negative_tweets.json')\n",
    "    text = twitter_samples.strings('tweets.20150430-223406.json')\n",
    "    tweet_tokens = twitter_samples.tokenized('positive_tweets.json')[0]\n",
    "\n",
    "    stop_words = stopwords.words('english')\n",
    "\n",
    "    positive_tweet_tokens = twitter_samples.tokenized('positive_tweets.json')\n",
    "    negative_tweet_tokens = twitter_samples.tokenized('negative_tweets.json')\n",
    "\n",
    "    positive_cleaned_tokens_list = []\n",
    "    negative_cleaned_tokens_list = []\n",
    "\n",
    "    for tokens in positive_tweet_tokens:\n",
    "        positive_cleaned_tokens_list.append(remove_noise(tokens, stop_words))\n",
    "\n",
    "    for tokens in negative_tweet_tokens:\n",
    "        negative_cleaned_tokens_list.append(remove_noise(tokens, stop_words))\n",
    "\n",
    "    all_pos_words = get_all_words(positive_cleaned_tokens_list)\n",
    "\n",
    "    freq_dist_pos = FreqDist(all_pos_words)\n",
    "    print(freq_dist_pos.most_common(10))\n",
    "\n",
    "    positive_tokens_for_model = get_tweets_for_model(positive_cleaned_tokens_list)\n",
    "    negative_tokens_for_model = get_tweets_for_model(negative_cleaned_tokens_list)\n",
    "\n",
    "    positive_dataset = [(tweet_dict, \"Positive\")\n",
    "                         for tweet_dict in positive_tokens_for_model]\n",
    "\n",
    "    negative_dataset = [(tweet_dict, \"Negative\")\n",
    "                         for tweet_dict in negative_tokens_for_model]\n",
    "\n",
    "    dataset = positive_dataset + negative_dataset\n",
    "\n",
    "    random.shuffle(dataset)\n",
    "\n",
    "    train_data = dataset[:7000]\n",
    "    test_data = dataset[7000:]\n",
    "\n",
    "    classifier = NaiveBayesClassifier.train(train_data)\n",
    "\n",
    "    print(\"Accuracy is:\", classify.accuracy(classifier, test_data))\n",
    "\n",
    "    print(classifier.show_most_informative_features(10))\n",
    "\n",
    "    custom_tweet = \"I ordered just once from TerribleCo, they screwed up, never used the app again.\"\n",
    "\n",
    "    custom_tokens = remove_noise(word_tokenize(custom_tweet))\n",
    "\n",
    "    print(custom_tweet, classifier.classify(dict([token, True] for token in custom_tokens)))"
   ]
  },
  {
   "cell_type": "markdown",
   "id": "1973da72",
   "metadata": {},
   "source": [
    "# Trying stuff from Fany"
   ]
  },
  {
   "cell_type": "code",
   "execution_count": 68,
   "id": "a41facf9",
   "metadata": {
    "ExecuteTime": {
     "end_time": "2021-06-04T15:57:11.737151Z",
     "start_time": "2021-06-04T15:57:09.184268Z"
    }
   },
   "outputs": [
    {
     "name": "stdout",
     "output_type": "stream",
     "text": [
      "Collecting twython\n",
      "  Downloading twython-3.8.2-py3-none-any.whl (33 kB)\n",
      "Requirement already satisfied: requests-oauthlib>=0.4.0 in /Users/home/.pyenv/versions/3.8.6/envs/starfish/lib/python3.8/site-packages (from twython) (1.3.0)\n",
      "Requirement already satisfied: requests>=2.1.0 in /Users/home/.pyenv/versions/3.8.6/envs/starfish/lib/python3.8/site-packages (from twython) (2.25.1)\n",
      "Requirement already satisfied: certifi>=2017.4.17 in /Users/home/.pyenv/versions/3.8.6/envs/starfish/lib/python3.8/site-packages (from requests>=2.1.0->twython) (2021.5.30)\n",
      "Requirement already satisfied: idna<3,>=2.5 in /Users/home/.pyenv/versions/3.8.6/envs/starfish/lib/python3.8/site-packages (from requests>=2.1.0->twython) (2.10)\n",
      "Requirement already satisfied: chardet<5,>=3.0.2 in /Users/home/.pyenv/versions/3.8.6/envs/starfish/lib/python3.8/site-packages (from requests>=2.1.0->twython) (4.0.0)\n",
      "Requirement already satisfied: urllib3<1.27,>=1.21.1 in /Users/home/.pyenv/versions/3.8.6/envs/starfish/lib/python3.8/site-packages (from requests>=2.1.0->twython) (1.26.5)\n",
      "Requirement already satisfied: oauthlib>=3.0.0 in /Users/home/.pyenv/versions/3.8.6/envs/starfish/lib/python3.8/site-packages (from requests-oauthlib>=0.4.0->twython) (3.1.1)\n",
      "Installing collected packages: twython\n",
      "Successfully installed twython-3.8.2\n",
      "Note: you may need to restart the kernel to use updated packages.\n"
     ]
    }
   ],
   "source": [
    "pip install twython"
   ]
  },
  {
   "cell_type": "code",
   "execution_count": 69,
   "id": "ddaa049b",
   "metadata": {
    "ExecuteTime": {
     "end_time": "2021-06-04T15:57:13.815469Z",
     "start_time": "2021-06-04T15:57:13.802996Z"
    }
   },
   "outputs": [],
   "source": [
    "import os\n",
    "from os.path import join\n",
    "from twython import Twython\n",
    "import pandas as pd\n",
    "import os\n",
    "import time\n",
    "\n",
    "CONSUMER_KEY = ''\n",
    "CONSUMER_SECRET = ''\n",
    "ACCESS_TOKEN = ''\n",
    "ACCESS_SECRET = ''\n",
    "python_tweets = Twython(CONSUMER_KEY, CONSUMER_SECRET)"
   ]
  },
  {
   "cell_type": "code",
   "execution_count": 87,
   "id": "c99fdf18",
   "metadata": {
    "ExecuteTime": {
     "end_time": "2021-06-04T16:11:08.938576Z",
     "start_time": "2021-06-04T16:11:08.926083Z"
    }
   },
   "outputs": [],
   "source": [
    "#### Twitter limitation\n",
    "#Limit of 100,000 requests per day to the /statuses/user_timeline endpoint, in addition to existing user-level and app-level rate limits. This limit is applied on a per-application basis, meaning that a single developer app can make up to 100,000 calls during any single 24-hour period.\n",
    "#This method can only return up to 3,200 of a user's most recent Tweets. Native retweets of other statuses by the user is included in this total, regardless of whether include_rts is set to false when requesting this resource.\n",
    "#- We can just retrieve 200 tweets/request\n",
    "#- 900 tweets 15 min\n",
    "#- 100000 in 24h\n",
    "\n",
    "def get_streamer_data(streamer):\n",
    "    streamer_data=[]\n",
    "#     time.sleep(60*15) #run every 15min\n",
    "#     for outlet in news:\n",
    "    streamer_data.append(python_tweets.get_user_timeline(screen_name=streamer, count=10))\n",
    "    streamer_tweets = pd.DataFrame(streamer_data)\n",
    "    return streamer_tweets\n",
    "\n",
    "def get_streamer_data_filtered(streamer):\n",
    "    data_streamer_filtered=[]\n",
    "    for column in get_streamer_data(streamer):\n",
    "        for row in get_streamer_data(streamer)[column]:\n",
    "            id_new = row[\"id\"]\n",
    "            text = row[\"text\"]\n",
    "            try:\n",
    "                url = row[\"entities\"][\"urls\"][0][\"url\"]\n",
    "            except:\n",
    "                url =\"\"\n",
    "            try:\n",
    "                expanded_url = row[\"entities\"][\"urls\"][0][\"expanded_url\"]\n",
    "            except:\n",
    "                expanded_url =\"\"\n",
    "            name = row[\"user\"][\"name\"]\n",
    "            location = row[\"user\"][\"location\"]\n",
    "            followers_count = row[\"user\"][\"followers_count\"]\n",
    "            friends_count = row[\"user\"][\"friends_count\"]\n",
    "            listed_count = row[\"user\"][\"listed_count\"]\n",
    "            favourites_count = row[\"user\"][\"favourites_count\"]\n",
    "            profile_image_url = row[\"user\"][\"profile_image_url\"]\n",
    "            retweet_count= row[\"retweet_count\"]\n",
    "            source = row[\"source\"]\n",
    "            created_at = row[\"created_at\"]\n",
    "            data_streamer_filtered.append({\"id_new\":id_new,\"text\":text,\"url\":url,\"expanded_url\":expanded_url,\"name\":name,\"location\":location,\"followers_count\":followers_count,\"friends_count\":friends_count,\"listed_count\":listed_count,\"favourites_count\":favourites_count,\"profile_image_url\":profile_image_url,\"retweet_count\":retweet_count,\"source\":source,\"created_at\":created_at})\n",
    "    streamer_tweets = pd.DataFrame(data_streamer_filtered)\n",
    "    return streamer_tweets"
   ]
  },
  {
   "cell_type": "code",
   "execution_count": 85,
   "id": "28735bc4",
   "metadata": {
    "ExecuteTime": {
     "end_time": "2021-06-04T16:09:49.966895Z",
     "start_time": "2021-06-04T16:09:47.977823Z"
    }
   },
   "outputs": [
    {
     "data": {
      "text/html": [
       "<div>\n",
       "<style scoped>\n",
       "    .dataframe tbody tr th:only-of-type {\n",
       "        vertical-align: middle;\n",
       "    }\n",
       "\n",
       "    .dataframe tbody tr th {\n",
       "        vertical-align: top;\n",
       "    }\n",
       "\n",
       "    .dataframe thead th {\n",
       "        text-align: right;\n",
       "    }\n",
       "</style>\n",
       "<table border=\"1\" class=\"dataframe\">\n",
       "  <thead>\n",
       "    <tr style=\"text-align: right;\">\n",
       "      <th></th>\n",
       "      <th>id_new</th>\n",
       "      <th>text</th>\n",
       "      <th>url</th>\n",
       "      <th>expanded_url</th>\n",
       "      <th>name</th>\n",
       "      <th>location</th>\n",
       "      <th>followers_count</th>\n",
       "      <th>friends_count</th>\n",
       "      <th>listed_count</th>\n",
       "      <th>favourites_count</th>\n",
       "      <th>profile_image_url</th>\n",
       "      <th>retweet_count</th>\n",
       "      <th>source</th>\n",
       "      <th>created_at</th>\n",
       "    </tr>\n",
       "  </thead>\n",
       "  <tbody>\n",
       "    <tr>\n",
       "      <th>0</th>\n",
       "      <td>1400754844349046788</td>\n",
       "      <td>@just9n I'm fried, can't wait to do it again o...</td>\n",
       "      <td></td>\n",
       "      <td></td>\n",
       "      <td>Michael Grzesiek</td>\n",
       "      <td>California, USA</td>\n",
       "      <td>1885666</td>\n",
       "      <td>826</td>\n",
       "      <td>1572</td>\n",
       "      <td>5945</td>\n",
       "      <td>http://pbs.twimg.com/profile_images/9866742091...</td>\n",
       "      <td>1</td>\n",
       "      <td>&lt;a href=\"http://twitter.com/download/android\" ...</td>\n",
       "      <td>Fri Jun 04 10:02:34 +0000 2021</td>\n",
       "    </tr>\n",
       "    <tr>\n",
       "      <th>1</th>\n",
       "      <td>1400749815416250369</td>\n",
       "      <td>@NeatPoint Streamed it all.</td>\n",
       "      <td></td>\n",
       "      <td></td>\n",
       "      <td>Michael Grzesiek</td>\n",
       "      <td>California, USA</td>\n",
       "      <td>1885666</td>\n",
       "      <td>826</td>\n",
       "      <td>1572</td>\n",
       "      <td>5945</td>\n",
       "      <td>http://pbs.twimg.com/profile_images/9866742091...</td>\n",
       "      <td>0</td>\n",
       "      <td>&lt;a href=\"http://twitter.com/download/android\" ...</td>\n",
       "      <td>Fri Jun 04 09:42:35 +0000 2021</td>\n",
       "    </tr>\n",
       "    <tr>\n",
       "      <th>2</th>\n",
       "      <td>1400749023728865281</td>\n",
       "      <td>@StopRooT YOU ARE MAD.</td>\n",
       "      <td></td>\n",
       "      <td></td>\n",
       "      <td>Michael Grzesiek</td>\n",
       "      <td>California, USA</td>\n",
       "      <td>1885666</td>\n",
       "      <td>826</td>\n",
       "      <td>1572</td>\n",
       "      <td>5945</td>\n",
       "      <td>http://pbs.twimg.com/profile_images/9866742091...</td>\n",
       "      <td>2</td>\n",
       "      <td>&lt;a href=\"http://twitter.com/download/android\" ...</td>\n",
       "      <td>Fri Jun 04 09:39:26 +0000 2021</td>\n",
       "    </tr>\n",
       "    <tr>\n",
       "      <th>3</th>\n",
       "      <td>1400746434186547200</td>\n",
       "      <td>Hitting level 70 straight destroying my neck a...</td>\n",
       "      <td>https://t.co/Cs6m89OUDq</td>\n",
       "      <td>https://twitter.com/i/web/status/1400746434186...</td>\n",
       "      <td>Michael Grzesiek</td>\n",
       "      <td>California, USA</td>\n",
       "      <td>1885666</td>\n",
       "      <td>826</td>\n",
       "      <td>1572</td>\n",
       "      <td>5945</td>\n",
       "      <td>http://pbs.twimg.com/profile_images/9866742091...</td>\n",
       "      <td>31</td>\n",
       "      <td>&lt;a href=\"http://twitter.com/download/android\" ...</td>\n",
       "      <td>Fri Jun 04 09:29:09 +0000 2021</td>\n",
       "    </tr>\n",
       "    <tr>\n",
       "      <th>4</th>\n",
       "      <td>1400196596046852099</td>\n",
       "      <td>The TBC leveling grind continues.. \\nhttps://t...</td>\n",
       "      <td>https://t.co/0nsby7MTHi</td>\n",
       "      <td>http://twitch.tv/shroud</td>\n",
       "      <td>Michael Grzesiek</td>\n",
       "      <td>California, USA</td>\n",
       "      <td>1885666</td>\n",
       "      <td>826</td>\n",
       "      <td>1572</td>\n",
       "      <td>5945</td>\n",
       "      <td>http://pbs.twimg.com/profile_images/9866742091...</td>\n",
       "      <td>21</td>\n",
       "      <td>&lt;a href=\"https://mobile.twitter.com\" rel=\"nofo...</td>\n",
       "      <td>Wed Jun 02 21:04:17 +0000 2021</td>\n",
       "    </tr>\n",
       "    <tr>\n",
       "      <th>5</th>\n",
       "      <td>1399990838285852672</td>\n",
       "      <td>Thank you to my guild Hero for keeping me sane...</td>\n",
       "      <td></td>\n",
       "      <td></td>\n",
       "      <td>Michael Grzesiek</td>\n",
       "      <td>California, USA</td>\n",
       "      <td>1885666</td>\n",
       "      <td>826</td>\n",
       "      <td>1572</td>\n",
       "      <td>5945</td>\n",
       "      <td>http://pbs.twimg.com/profile_images/9866742091...</td>\n",
       "      <td>246</td>\n",
       "      <td>&lt;a href=\"http://twitter.com/download/iphone\" r...</td>\n",
       "      <td>Wed Jun 02 07:26:41 +0000 2021</td>\n",
       "    </tr>\n",
       "    <tr>\n",
       "      <th>6</th>\n",
       "      <td>1399835481026699264</td>\n",
       "      <td>TBC INTO 27. BIG STUFF\\nhttps://t.co/0nsby7MTH...</td>\n",
       "      <td>https://t.co/0nsby7MTHi</td>\n",
       "      <td>http://twitch.tv/shroud</td>\n",
       "      <td>Michael Grzesiek</td>\n",
       "      <td>California, USA</td>\n",
       "      <td>1885666</td>\n",
       "      <td>826</td>\n",
       "      <td>1572</td>\n",
       "      <td>5945</td>\n",
       "      <td>http://pbs.twimg.com/profile_images/9866742091...</td>\n",
       "      <td>18</td>\n",
       "      <td>&lt;a href=\"https://mobile.twitter.com\" rel=\"nofo...</td>\n",
       "      <td>Tue Jun 01 21:09:21 +0000 2021</td>\n",
       "    </tr>\n",
       "    <tr>\n",
       "      <th>7</th>\n",
       "      <td>1399809169771831296</td>\n",
       "      <td>@Digiileo @sonii NEVER</td>\n",
       "      <td></td>\n",
       "      <td></td>\n",
       "      <td>Michael Grzesiek</td>\n",
       "      <td>California, USA</td>\n",
       "      <td>1885666</td>\n",
       "      <td>826</td>\n",
       "      <td>1572</td>\n",
       "      <td>5945</td>\n",
       "      <td>http://pbs.twimg.com/profile_images/9866742091...</td>\n",
       "      <td>1</td>\n",
       "      <td>&lt;a href=\"http://twitter.com/download/android\" ...</td>\n",
       "      <td>Tue Jun 01 19:24:47 +0000 2021</td>\n",
       "    </tr>\n",
       "    <tr>\n",
       "      <th>8</th>\n",
       "      <td>1399808378440847362</td>\n",
       "      <td>@sonii CANDY CHOCOLATE COFFEE\\n FUEL UP.</td>\n",
       "      <td></td>\n",
       "      <td></td>\n",
       "      <td>Michael Grzesiek</td>\n",
       "      <td>California, USA</td>\n",
       "      <td>1885666</td>\n",
       "      <td>826</td>\n",
       "      <td>1572</td>\n",
       "      <td>5945</td>\n",
       "      <td>http://pbs.twimg.com/profile_images/9866742091...</td>\n",
       "      <td>23</td>\n",
       "      <td>&lt;a href=\"http://twitter.com/download/android\" ...</td>\n",
       "      <td>Tue Jun 01 19:21:39 +0000 2021</td>\n",
       "    </tr>\n",
       "    <tr>\n",
       "      <th>9</th>\n",
       "      <td>1399553647403364358</td>\n",
       "      <td>@sonii @Soviethammer007 @taylgator STRAP IN!</td>\n",
       "      <td></td>\n",
       "      <td></td>\n",
       "      <td>Michael Grzesiek</td>\n",
       "      <td>California, USA</td>\n",
       "      <td>1885666</td>\n",
       "      <td>826</td>\n",
       "      <td>1572</td>\n",
       "      <td>5945</td>\n",
       "      <td>http://pbs.twimg.com/profile_images/9866742091...</td>\n",
       "      <td>1</td>\n",
       "      <td>&lt;a href=\"http://twitter.com/download/android\" ...</td>\n",
       "      <td>Tue Jun 01 02:29:26 +0000 2021</td>\n",
       "    </tr>\n",
       "  </tbody>\n",
       "</table>\n",
       "</div>"
      ],
      "text/plain": [
       "                id_new                                               text  \\\n",
       "0  1400754844349046788  @just9n I'm fried, can't wait to do it again o...   \n",
       "1  1400749815416250369                        @NeatPoint Streamed it all.   \n",
       "2  1400749023728865281                             @StopRooT YOU ARE MAD.   \n",
       "3  1400746434186547200  Hitting level 70 straight destroying my neck a...   \n",
       "4  1400196596046852099  The TBC leveling grind continues.. \\nhttps://t...   \n",
       "5  1399990838285852672  Thank you to my guild Hero for keeping me sane...   \n",
       "6  1399835481026699264  TBC INTO 27. BIG STUFF\\nhttps://t.co/0nsby7MTH...   \n",
       "7  1399809169771831296                             @Digiileo @sonii NEVER   \n",
       "8  1399808378440847362           @sonii CANDY CHOCOLATE COFFEE\\n FUEL UP.   \n",
       "9  1399553647403364358       @sonii @Soviethammer007 @taylgator STRAP IN!   \n",
       "\n",
       "                       url                                       expanded_url  \\\n",
       "0                                                                               \n",
       "1                                                                               \n",
       "2                                                                               \n",
       "3  https://t.co/Cs6m89OUDq  https://twitter.com/i/web/status/1400746434186...   \n",
       "4  https://t.co/0nsby7MTHi                            http://twitch.tv/shroud   \n",
       "5                                                                               \n",
       "6  https://t.co/0nsby7MTHi                            http://twitch.tv/shroud   \n",
       "7                                                                               \n",
       "8                                                                               \n",
       "9                                                                               \n",
       "\n",
       "               name         location  followers_count  friends_count  \\\n",
       "0  Michael Grzesiek  California, USA          1885666            826   \n",
       "1  Michael Grzesiek  California, USA          1885666            826   \n",
       "2  Michael Grzesiek  California, USA          1885666            826   \n",
       "3  Michael Grzesiek  California, USA          1885666            826   \n",
       "4  Michael Grzesiek  California, USA          1885666            826   \n",
       "5  Michael Grzesiek  California, USA          1885666            826   \n",
       "6  Michael Grzesiek  California, USA          1885666            826   \n",
       "7  Michael Grzesiek  California, USA          1885666            826   \n",
       "8  Michael Grzesiek  California, USA          1885666            826   \n",
       "9  Michael Grzesiek  California, USA          1885666            826   \n",
       "\n",
       "   listed_count  favourites_count  \\\n",
       "0          1572              5945   \n",
       "1          1572              5945   \n",
       "2          1572              5945   \n",
       "3          1572              5945   \n",
       "4          1572              5945   \n",
       "5          1572              5945   \n",
       "6          1572              5945   \n",
       "7          1572              5945   \n",
       "8          1572              5945   \n",
       "9          1572              5945   \n",
       "\n",
       "                                   profile_image_url  retweet_count  \\\n",
       "0  http://pbs.twimg.com/profile_images/9866742091...              1   \n",
       "1  http://pbs.twimg.com/profile_images/9866742091...              0   \n",
       "2  http://pbs.twimg.com/profile_images/9866742091...              2   \n",
       "3  http://pbs.twimg.com/profile_images/9866742091...             31   \n",
       "4  http://pbs.twimg.com/profile_images/9866742091...             21   \n",
       "5  http://pbs.twimg.com/profile_images/9866742091...            246   \n",
       "6  http://pbs.twimg.com/profile_images/9866742091...             18   \n",
       "7  http://pbs.twimg.com/profile_images/9866742091...              1   \n",
       "8  http://pbs.twimg.com/profile_images/9866742091...             23   \n",
       "9  http://pbs.twimg.com/profile_images/9866742091...              1   \n",
       "\n",
       "                                              source  \\\n",
       "0  <a href=\"http://twitter.com/download/android\" ...   \n",
       "1  <a href=\"http://twitter.com/download/android\" ...   \n",
       "2  <a href=\"http://twitter.com/download/android\" ...   \n",
       "3  <a href=\"http://twitter.com/download/android\" ...   \n",
       "4  <a href=\"https://mobile.twitter.com\" rel=\"nofo...   \n",
       "5  <a href=\"http://twitter.com/download/iphone\" r...   \n",
       "6  <a href=\"https://mobile.twitter.com\" rel=\"nofo...   \n",
       "7  <a href=\"http://twitter.com/download/android\" ...   \n",
       "8  <a href=\"http://twitter.com/download/android\" ...   \n",
       "9  <a href=\"http://twitter.com/download/android\" ...   \n",
       "\n",
       "                       created_at  \n",
       "0  Fri Jun 04 10:02:34 +0000 2021  \n",
       "1  Fri Jun 04 09:42:35 +0000 2021  \n",
       "2  Fri Jun 04 09:39:26 +0000 2021  \n",
       "3  Fri Jun 04 09:29:09 +0000 2021  \n",
       "4  Wed Jun 02 21:04:17 +0000 2021  \n",
       "5  Wed Jun 02 07:26:41 +0000 2021  \n",
       "6  Tue Jun 01 21:09:21 +0000 2021  \n",
       "7  Tue Jun 01 19:24:47 +0000 2021  \n",
       "8  Tue Jun 01 19:21:39 +0000 2021  \n",
       "9  Tue Jun 01 02:29:26 +0000 2021  "
      ]
     },
     "execution_count": 85,
     "metadata": {},
     "output_type": "execute_result"
    }
   ],
   "source": [
    "get_streamer_data_filtered('shroud')"
   ]
  },
  {
   "cell_type": "code",
   "execution_count": 2,
   "id": "ac69518e",
   "metadata": {
    "ExecuteTime": {
     "end_time": "2021-06-08T11:52:56.268130Z",
     "start_time": "2021-06-08T11:52:55.387781Z"
    }
   },
   "outputs": [],
   "source": [
    "import pandas as pd"
   ]
  },
  {
   "cell_type": "code",
   "execution_count": 4,
   "id": "d419d0c5",
   "metadata": {
    "ExecuteTime": {
     "end_time": "2021-06-08T11:53:29.268595Z",
     "start_time": "2021-06-08T11:53:29.236211Z"
    }
   },
   "outputs": [],
   "source": [
    "socials = pd.read_csv('StarFish/data/socials_clean.csv')\n",
    "socials.set_index('username')"
   ]
  },
  {
   "cell_type": "code",
   "execution_count": 12,
   "id": "b457f112",
   "metadata": {
    "ExecuteTime": {
     "end_time": "2021-06-08T11:57:24.336983Z",
     "start_time": "2021-06-08T11:57:24.301123Z"
    }
   },
   "outputs": [
    {
     "data": {
      "text/html": [
       "<div>\n",
       "<style scoped>\n",
       "    .dataframe tbody tr th:only-of-type {\n",
       "        vertical-align: middle;\n",
       "    }\n",
       "\n",
       "    .dataframe tbody tr th {\n",
       "        vertical-align: top;\n",
       "    }\n",
       "\n",
       "    .dataframe thead th {\n",
       "        text-align: right;\n",
       "    }\n",
       "</style>\n",
       "<table border=\"1\" class=\"dataframe\">\n",
       "  <thead>\n",
       "    <tr style=\"text-align: right;\">\n",
       "      <th></th>\n",
       "      <th>Twitter</th>\n",
       "      <th>YouTube</th>\n",
       "      <th>Instagram</th>\n",
       "      <th>Discord</th>\n",
       "    </tr>\n",
       "    <tr>\n",
       "      <th>username</th>\n",
       "      <th></th>\n",
       "      <th></th>\n",
       "      <th></th>\n",
       "      <th></th>\n",
       "    </tr>\n",
       "  </thead>\n",
       "  <tbody>\n",
       "    <tr>\n",
       "      <th>tommyinnit</th>\n",
       "      <td>tommyinnit</td>\n",
       "      <td>NaN</td>\n",
       "      <td>tommyinnitt</td>\n",
       "      <td>https://discord.gg/an6rt4d</td>\n",
       "    </tr>\n",
       "    <tr>\n",
       "      <th>Quackity</th>\n",
       "      <td>quackity</td>\n",
       "      <td>UCFbZ2e9IrPejOdp8wsKUxvA</td>\n",
       "      <td>?hl=en</td>\n",
       "      <td>https://www.discord.gg/quackity</td>\n",
       "    </tr>\n",
       "    <tr>\n",
       "      <th>Sapnap</th>\n",
       "      <td>sapnap</td>\n",
       "      <td>UCEKH2P285Qylr60_e32Xn_g</td>\n",
       "      <td>sapnapinsta</td>\n",
       "      <td>https://discord.gg/qwmnrnp</td>\n",
       "    </tr>\n",
       "    <tr>\n",
       "      <th>auronplay</th>\n",
       "      <td>auronplay?ref_src=twsrc%5egoogle%7ctwcamp%5ese...</td>\n",
       "      <td>UCFR2oaNj02WnXkOgLH0iqOA</td>\n",
       "      <td>auronplay</td>\n",
       "      <td>NaN</td>\n",
       "    </tr>\n",
       "    <tr>\n",
       "      <th>xQcOW</th>\n",
       "      <td>xqc</td>\n",
       "      <td>UCmDTrq0LNgPodDOFZiSbsww</td>\n",
       "      <td>NaN</td>\n",
       "      <td>https://discord.gg/xqcow</td>\n",
       "    </tr>\n",
       "    <tr>\n",
       "      <th>...</th>\n",
       "      <td>...</td>\n",
       "      <td>...</td>\n",
       "      <td>...</td>\n",
       "      <td>...</td>\n",
       "    </tr>\n",
       "    <tr>\n",
       "      <th>SwordsofLegendsOnline</th>\n",
       "      <td>playsolonline</td>\n",
       "      <td>NaN</td>\n",
       "      <td>swordsoflegendsonline</td>\n",
       "      <td>https://discord.gg/joinsolo</td>\n",
       "    </tr>\n",
       "    <tr>\n",
       "      <th>easywithaces</th>\n",
       "      <td>easywithaces</td>\n",
       "      <td>UCce8Fo7_Va3Np3wMhJLPQEA</td>\n",
       "      <td>easywithaces</td>\n",
       "      <td>https://discord.gg/easywithaces</td>\n",
       "    </tr>\n",
       "    <tr>\n",
       "      <th>SimpleFlips</th>\n",
       "      <td>simpleflips</td>\n",
       "      <td>NaN</td>\n",
       "      <td>NaN</td>\n",
       "      <td>https://discord.gg/0ldoz0zjzyhrg48u</td>\n",
       "    </tr>\n",
       "    <tr>\n",
       "      <th>Raptor</th>\n",
       "      <td>justraptah</td>\n",
       "      <td>UCV8Qdw3dsy2xtHTr7fiIVgw</td>\n",
       "      <td>dominickraptor</td>\n",
       "      <td>NaN</td>\n",
       "    </tr>\n",
       "    <tr>\n",
       "      <th>Kiaraakitty</th>\n",
       "      <td>kiaraakitty</td>\n",
       "      <td>NaN</td>\n",
       "      <td>kiaraakitty</td>\n",
       "      <td>http://discord.gg/kiaraakitty</td>\n",
       "    </tr>\n",
       "  </tbody>\n",
       "</table>\n",
       "<p>2450 rows × 4 columns</p>\n",
       "</div>"
      ],
      "text/plain": [
       "                                                                 Twitter  \\\n",
       "username                                                                   \n",
       "tommyinnit                                                    tommyinnit   \n",
       "Quackity                                                        quackity   \n",
       "Sapnap                                                            sapnap   \n",
       "auronplay              auronplay?ref_src=twsrc%5egoogle%7ctwcamp%5ese...   \n",
       "xQcOW                                                                xqc   \n",
       "...                                                                  ...   \n",
       "SwordsofLegendsOnline                                      playsolonline   \n",
       "easywithaces                                                easywithaces   \n",
       "SimpleFlips                                                  simpleflips   \n",
       "Raptor                                                        justraptah   \n",
       "Kiaraakitty                                                  kiaraakitty   \n",
       "\n",
       "                                        YouTube              Instagram  \\\n",
       "username                                                                 \n",
       "tommyinnit                                  NaN            tommyinnitt   \n",
       "Quackity               UCFbZ2e9IrPejOdp8wsKUxvA                 ?hl=en   \n",
       "Sapnap                 UCEKH2P285Qylr60_e32Xn_g            sapnapinsta   \n",
       "auronplay              UCFR2oaNj02WnXkOgLH0iqOA              auronplay   \n",
       "xQcOW                  UCmDTrq0LNgPodDOFZiSbsww                    NaN   \n",
       "...                                         ...                    ...   \n",
       "SwordsofLegendsOnline                       NaN  swordsoflegendsonline   \n",
       "easywithaces           UCce8Fo7_Va3Np3wMhJLPQEA           easywithaces   \n",
       "SimpleFlips                                 NaN                    NaN   \n",
       "Raptor                 UCV8Qdw3dsy2xtHTr7fiIVgw         dominickraptor   \n",
       "Kiaraakitty                                 NaN            kiaraakitty   \n",
       "\n",
       "                                                   Discord  \n",
       "username                                                    \n",
       "tommyinnit                      https://discord.gg/an6rt4d  \n",
       "Quackity                   https://www.discord.gg/quackity  \n",
       "Sapnap                          https://discord.gg/qwmnrnp  \n",
       "auronplay                                              NaN  \n",
       "xQcOW                             https://discord.gg/xqcow  \n",
       "...                                                    ...  \n",
       "SwordsofLegendsOnline          https://discord.gg/joinsolo  \n",
       "easywithaces               https://discord.gg/easywithaces  \n",
       "SimpleFlips            https://discord.gg/0ldoz0zjzyhrg48u  \n",
       "Raptor                                                 NaN  \n",
       "Kiaraakitty                  http://discord.gg/kiaraakitty  \n",
       "\n",
       "[2450 rows x 4 columns]"
      ]
     },
     "execution_count": 12,
     "metadata": {},
     "output_type": "execute_result"
    }
   ],
   "source": [
    "temp.set_index('username')"
   ]
  },
  {
   "cell_type": "code",
   "execution_count": 11,
   "id": "f4bc457a",
   "metadata": {
    "ExecuteTime": {
     "end_time": "2021-06-08T11:56:08.288694Z",
     "start_time": "2021-06-08T11:56:08.257994Z"
    }
   },
   "outputs": [
    {
     "data": {
      "text/html": [
       "<div>\n",
       "<style scoped>\n",
       "    .dataframe tbody tr th:only-of-type {\n",
       "        vertical-align: middle;\n",
       "    }\n",
       "\n",
       "    .dataframe tbody tr th {\n",
       "        vertical-align: top;\n",
       "    }\n",
       "\n",
       "    .dataframe thead th {\n",
       "        text-align: right;\n",
       "    }\n",
       "</style>\n",
       "<table border=\"1\" class=\"dataframe\">\n",
       "  <thead>\n",
       "    <tr style=\"text-align: right;\">\n",
       "      <th></th>\n",
       "      <th>username</th>\n",
       "      <th>Twitter</th>\n",
       "      <th>YouTube</th>\n",
       "      <th>Instagram</th>\n",
       "      <th>Discord</th>\n",
       "    </tr>\n",
       "  </thead>\n",
       "  <tbody>\n",
       "    <tr>\n",
       "      <th>1</th>\n",
       "      <td>Quackity</td>\n",
       "      <td>quackity</td>\n",
       "      <td>UCFbZ2e9IrPejOdp8wsKUxvA</td>\n",
       "      <td>?hl=en</td>\n",
       "      <td>https://www.discord.gg/quackity</td>\n",
       "    </tr>\n",
       "  </tbody>\n",
       "</table>\n",
       "</div>"
      ],
      "text/plain": [
       "   username   Twitter                   YouTube Instagram  \\\n",
       "1  Quackity  quackity  UCFbZ2e9IrPejOdp8wsKUxvA    ?hl=en   \n",
       "\n",
       "                           Discord  \n",
       "1  https://www.discord.gg/quackity  "
      ]
     },
     "execution_count": 11,
     "metadata": {},
     "output_type": "execute_result"
    }
   ],
   "source": [
    "temp[temp['username'] == 'Quackity']"
   ]
  },
  {
   "cell_type": "code",
   "execution_count": null,
   "id": "ff4b3dcc",
   "metadata": {},
   "outputs": [],
   "source": [
    "temp.loc[]"
   ]
  },
  {
   "cell_type": "code",
   "execution_count": null,
   "id": "4a534adc",
   "metadata": {},
   "outputs": [],
   "source": []
  }
 ],
 "metadata": {
  "kernelspec": {
   "display_name": "Python 3",
   "language": "python",
   "name": "python3"
  },
  "language_info": {
   "codemirror_mode": {
    "name": "ipython",
    "version": 3
   },
   "file_extension": ".py",
   "mimetype": "text/x-python",
   "name": "python",
   "nbconvert_exporter": "python",
   "pygments_lexer": "ipython3",
   "version": "3.8.6"
  },
  "toc": {
   "base_numbering": 1,
   "nav_menu": {},
   "number_sections": true,
   "sideBar": true,
   "skip_h1_title": false,
   "title_cell": "Table of Contents",
   "title_sidebar": "Contents",
   "toc_cell": false,
   "toc_position": {},
   "toc_section_display": true,
   "toc_window_display": false
  }
 },
 "nbformat": 4,
 "nbformat_minor": 5
}
