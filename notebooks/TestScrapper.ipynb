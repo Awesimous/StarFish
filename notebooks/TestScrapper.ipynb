{
 "cells": [
  {
   "cell_type": "code",
   "execution_count": 25,
   "id": "f81735f3-9098-481e-83bd-02a839f4f07d",
   "metadata": {},
   "outputs": [],
   "source": [
    "#selenium imports\n",
    "from selenium import webdriver #launch/initialise a browser.\n",
    "from selenium.webdriver.common.keys import Keys #Set of special keys codes.\n",
    "from selenium.webdriver.support import expected_conditions as EC #what you are looking for on a specific page in order to determine that the webpage has loaded.\n",
    "from selenium.webdriver.common.by import By #search for things using specific parameters\n",
    "from selenium.webdriver.support.wait import WebDriverWait #wait for a page to load."
   ]
  },
  {
   "cell_type": "code",
   "execution_count": 26,
   "id": "3fddb258-d086-4deb-a3f9-18b0f33aff51",
   "metadata": {},
   "outputs": [],
   "source": [
    "#other imports \n",
    "import requests\n",
    "#from bs4 import BeautifulSoup\n",
    "import bs4\n",
    "from urllib.request import urlopen, Request\n",
    "from bs4 import BeautifulSoup as soup"
   ]
  },
  {
   "cell_type": "code",
   "execution_count": 27,
   "id": "94ea0e52-14e0-45f3-ac63-0e549b531b80",
   "metadata": {},
   "outputs": [],
   "source": [
    "#do we need to get firefox inside our venv to work with it? \n",
    "\n",
    "#open the driver\n",
    "#driver = webdriver.Firefox('/Applications/Firefox.app')\n"
   ]
  },
  {
   "cell_type": "code",
   "execution_count": 28,
   "id": "b4cc0776-e6d3-44f6-ad5e-e5e03dae20e6",
   "metadata": {},
   "outputs": [],
   "source": [
    "#get the page\n",
    "#driver.get('https://twitchtracker.com/channels/viewership?page=1')"
   ]
  },
  {
   "cell_type": "code",
   "execution_count": null,
   "id": "e825cef9-3935-4585-8901-82088c4df52c",
   "metadata": {},
   "outputs": [],
   "source": [
    "\n"
   ]
  },
  {
   "cell_type": "code",
   "execution_count": 51,
   "id": "cd779b27-a78f-4006-9d71-a3fbd482df8b",
   "metadata": {},
   "outputs": [],
   "source": [
    "driver = webdriver.Firefox('/Applications/Firefox.app')"
   ]
  },
  {
   "cell_type": "code",
   "execution_count": 52,
   "id": "b14c727c-4911-49b8-9e72-befab7f7adc0",
   "metadata": {},
   "outputs": [],
   "source": [
    "twitch_tracker = 'https://twitchtracker.com/channels/viewership?page=1'\n",
    "driver.get(twitch_tracker)"
   ]
  },
  {
   "cell_type": "code",
   "execution_count": 50,
   "id": "743b0c37-0487-492a-bb6b-cff0b0f6fa3a",
   "metadata": {},
   "outputs": [
    {
     "name": "stdout",
     "output_type": "stream",
     "text": [
      "None\n"
     ]
    }
   ],
   "source": [
    "get_userid = WebDriverWait(driver, 3).until(EC.element_to_be_clickable((By.XPATH, '//div[3]/div[2]/div[2]/table/tbody/tr[1]/td[3]/a')))\n",
    "print(get_userid.get_attribute(\"value\"))\n",
    "#xpath of the userid\n",
    "#/html/body/div[3]/div[2]/div[2]/table/tbody/tr[1]/td[3]/a\n",
    "#//div[3]/div[2]/div[2]/table/tbody/tr[1]/td[3]/a"
   ]
  },
  {
   "cell_type": "code",
   "execution_count": 38,
   "id": "cd60de3a-f302-4f64-855d-32eaeede6ec8",
   "metadata": {},
   "outputs": [],
   "source": [
    "#Pseudo-Code the scrapper\n",
    "#task go to twitchtracker.com iterate through the pages and scrap the userIDs\n",
    "\n",
    "#connect to the web-server\n",
    "#connect to twitchtracker.com\n",
    "#iterate over the pages; pages = input variable take a list of pages\n",
    "#with the input variable scrap every page for the ID name"
   ]
  },
  {
   "cell_type": "code",
   "execution_count": null,
   "id": "c3d3edbb-3dbb-435d-8f6e-d490bfb36ac6",
   "metadata": {},
   "outputs": [],
   "source": []
  }
 ],
 "metadata": {
  "kernelspec": {
   "display_name": "Python 3",
   "language": "python",
   "name": "python3"
  },
  "language_info": {
   "codemirror_mode": {
    "name": "ipython",
    "version": 3
   },
   "file_extension": ".py",
   "mimetype": "text/x-python",
   "name": "python",
   "nbconvert_exporter": "python",
   "pygments_lexer": "ipython3",
   "version": "3.8.6"
  }
 },
 "nbformat": 4,
 "nbformat_minor": 5
}
