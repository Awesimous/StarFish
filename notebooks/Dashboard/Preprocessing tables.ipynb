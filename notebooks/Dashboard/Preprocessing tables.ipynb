{
 "cells": [
  {
   "cell_type": "code",
   "execution_count": 2,
   "id": "38b73743",
   "metadata": {
    "ExecuteTime": {
     "end_time": "2021-06-03T15:04:16.675376Z",
     "start_time": "2021-06-03T15:04:16.672826Z"
    }
   },
   "outputs": [],
   "source": [
    "import pandas as pd"
   ]
  },
  {
   "cell_type": "markdown",
   "id": "2f17ccb5",
   "metadata": {},
   "source": [
    "# Create and process df for streamer"
   ]
  },
  {
   "cell_type": "code",
   "execution_count": 3,
   "id": "26a0a9e6",
   "metadata": {
    "ExecuteTime": {
     "end_time": "2021-06-03T15:04:19.304837Z",
     "start_time": "2021-06-03T15:04:19.290942Z"
    }
   },
   "outputs": [],
   "source": [
    "# import first dataframe (you can save the games df by running: df.to_csv(r'path/filename', index=False))\n",
    "df = pd.read_csv('streamer_df')"
   ]
  },
  {
   "cell_type": "code",
   "execution_count": 4,
   "id": "d06e767f",
   "metadata": {
    "ExecuteTime": {
     "end_time": "2021-06-03T15:04:21.600003Z",
     "start_time": "2021-06-03T15:04:21.578844Z"
    }
   },
   "outputs": [
    {
     "data": {
      "text/plain": [
       "(2450, 11)"
      ]
     },
     "execution_count": 4,
     "metadata": {},
     "output_type": "execute_result"
    }
   ],
   "source": [
    "# getting rows that contain ads out of the way\n",
    "df = df[df[\"Time Streamed\"].str.contains(\"ads\")==False]\n",
    "df.shape"
   ]
  },
  {
   "cell_type": "code",
   "execution_count": 7,
   "id": "703db0f7",
   "metadata": {
    "ExecuteTime": {
     "end_time": "2021-06-03T15:05:39.775672Z",
     "start_time": "2021-06-03T15:05:39.751509Z"
    },
    "scrolled": false
   },
   "outputs": [],
   "source": [
    "# creating a new column that contains hours where we replace all hours with an emptry string and convert numbers in string to float\n",
    "df['Time Streamed (in hours)'] = df['Time Streamed'].str.replace('hours','').apply(lambda x: float(x))\n",
    "\n",
    "\n",
    "# do same thing for hours watched\n",
    "df['Hours Watched'] = df['Hours Watched'].apply(lambda x: int(x))\n",
    "\n",
    "# do it for every other columns\n",
    "df['AVG Viewers'] = df['AVG Viewers'].apply(lambda x: int(x))\n",
    "df['All Time Peak Viewers'] = df['All Time Peak Viewers'].apply(lambda x: int(x))\n",
    "df['Total Followers'] = df['Total Followers'].apply(lambda x: int(x))\n",
    "df['Total Views'] = df['Total Views'].apply(lambda x: int(x))\n",
    "# df['Followers Gained'] = df['Followers Gained'].str.replace('+','').apply(lambda x: int(x))\n",
    "# check if it worked\n",
    "df.dtypes\n",
    "\n",
    "# drop and rename columns\n",
    "df.drop(columns=['Unnamed: 0', 'Unnamed: 1', 'Time Streamed'], axis=1,inplace=True)\n",
    "df.rename(columns={'Unnamed: 2':'username'}, inplace=True)\n",
    "\n",
    "# sort according to importance\n",
    "df = df[['username', 'AVG Viewers', 'Time Streamed (in hours)', 'Hours Watched', 'Followers Gained', 'Total Followers', 'Total Views', 'All Time Peak Viewers']]"
   ]
  },
  {
   "cell_type": "code",
   "execution_count": 9,
   "id": "a58cd61e",
   "metadata": {
    "ExecuteTime": {
     "end_time": "2021-06-03T15:06:30.111900Z",
     "start_time": "2021-06-03T15:06:30.093977Z"
    }
   },
   "outputs": [],
   "source": [
    "df.to_csv(r'/Users/home/code/Awesimous/StarFish/notebooks/streamer_df_clean', index=False)"
   ]
  },
  {
   "cell_type": "code",
   "execution_count": 6,
   "id": "e86f0f4e",
   "metadata": {
    "ExecuteTime": {
     "end_time": "2021-06-02T17:56:52.582889Z",
     "start_time": "2021-06-02T17:56:52.577604Z"
    }
   },
   "outputs": [
    {
     "data": {
      "text/plain": [
       "0"
      ]
     },
     "execution_count": 6,
     "metadata": {},
     "output_type": "execute_result"
    }
   ],
   "source": [
    "df['AVG Viewers'].isna().sum()"
   ]
  },
  {
   "cell_type": "code",
   "execution_count": 7,
   "id": "6420487a",
   "metadata": {
    "ExecuteTime": {
     "end_time": "2021-06-02T17:56:52.767050Z",
     "start_time": "2021-06-02T17:56:52.587906Z"
    }
   },
   "outputs": [
    {
     "name": "stderr",
     "output_type": "stream",
     "text": [
      "/Users/home/.pyenv/versions/3.8.6/envs/lewagon/lib/python3.8/site-packages/seaborn/distributions.py:2557: FutureWarning: `distplot` is a deprecated function and will be removed in a future version. Please adapt your code to use either `displot` (a figure-level function with similar flexibility) or `histplot` (an axes-level function for histograms).\n",
      "  warnings.warn(msg, FutureWarning)\n"
     ]
    },
    {
     "data": {
      "text/plain": [
       "<AxesSubplot:xlabel='AVG Viewers', ylabel='Density'>"
      ]
     },
     "execution_count": 7,
     "metadata": {},
     "output_type": "execute_result"
    },
    {
     "data": {
      "image/png": "[encoded data removed]",
      "text/plain": [
       "<Figure size 432x288 with 1 Axes>"
      ]
     },
     "metadata": {
      "needs_background": "light"
     },
     "output_type": "display_data"
    }
   ],
   "source": [
    "sns.distplot(df['AVG Viewers'], bins=10)"
   ]
  },
  {
   "cell_type": "code",
   "execution_count": 8,
   "id": "4100b724",
   "metadata": {
    "ExecuteTime": {
     "end_time": "2021-06-02T17:56:52.775140Z",
     "start_time": "2021-06-02T17:56:52.769934Z"
    }
   },
   "outputs": [
    {
     "data": {
      "text/plain": [
       "0.40060813134749224"
      ]
     },
     "execution_count": 8,
     "metadata": {},
     "output_type": "execute_result"
    }
   ],
   "source": [
    "# try first visualization of correlation\n",
    "df['Time Streamed (in hours)'].corr(df['Hours Watched'])"
   ]
  },
  {
   "cell_type": "code",
   "execution_count": 9,
   "id": "3e513426",
   "metadata": {
    "ExecuteTime": {
     "end_time": "2021-06-02T17:56:52.796233Z",
     "start_time": "2021-06-02T17:56:52.777767Z"
    }
   },
   "outputs": [
    {
     "data": {
      "text/html": [
       "<div>\n",
       "<style scoped>\n",
       "    .dataframe tbody tr th:only-of-type {\n",
       "        vertical-align: middle;\n",
       "    }\n",
       "\n",
       "    .dataframe tbody tr th {\n",
       "        vertical-align: top;\n",
       "    }\n",
       "\n",
       "    .dataframe thead th {\n",
       "        text-align: right;\n",
       "    }\n",
       "</style>\n",
       "<table border=\"1\" class=\"dataframe\">\n",
       "  <thead>\n",
       "    <tr style=\"text-align: right;\">\n",
       "      <th></th>\n",
       "      <th>AVG Viewers</th>\n",
       "      <th>Time Streamed (in hours)</th>\n",
       "      <th>Hours Watched</th>\n",
       "      <th>Followers Gained</th>\n",
       "      <th>Total Followers</th>\n",
       "      <th>Total Views</th>\n",
       "      <th>All Time Peak Viewers</th>\n",
       "    </tr>\n",
       "  </thead>\n",
       "  <tbody>\n",
       "    <tr>\n",
       "      <th>AVG Viewers</th>\n",
       "      <td>1.000000</td>\n",
       "      <td>-0.004063</td>\n",
       "      <td>0.628819</td>\n",
       "      <td>0.522981</td>\n",
       "      <td>0.509105</td>\n",
       "      <td>0.282773</td>\n",
       "      <td>0.476700</td>\n",
       "    </tr>\n",
       "    <tr>\n",
       "      <th>Time Streamed (in hours)</th>\n",
       "      <td>-0.004063</td>\n",
       "      <td>1.000000</td>\n",
       "      <td>0.400608</td>\n",
       "      <td>0.074139</td>\n",
       "      <td>0.144488</td>\n",
       "      <td>0.321864</td>\n",
       "      <td>0.076545</td>\n",
       "    </tr>\n",
       "    <tr>\n",
       "      <th>Hours Watched</th>\n",
       "      <td>0.628819</td>\n",
       "      <td>0.400608</td>\n",
       "      <td>1.000000</td>\n",
       "      <td>0.387128</td>\n",
       "      <td>0.508710</td>\n",
       "      <td>0.487839</td>\n",
       "      <td>0.393445</td>\n",
       "    </tr>\n",
       "    <tr>\n",
       "      <th>Followers Gained</th>\n",
       "      <td>0.522981</td>\n",
       "      <td>0.074139</td>\n",
       "      <td>0.387128</td>\n",
       "      <td>1.000000</td>\n",
       "      <td>0.427136</td>\n",
       "      <td>0.118600</td>\n",
       "      <td>0.295296</td>\n",
       "    </tr>\n",
       "    <tr>\n",
       "      <th>Total Followers</th>\n",
       "      <td>0.509105</td>\n",
       "      <td>0.144488</td>\n",
       "      <td>0.508710</td>\n",
       "      <td>0.427136</td>\n",
       "      <td>1.000000</td>\n",
       "      <td>0.498032</td>\n",
       "      <td>0.589309</td>\n",
       "    </tr>\n",
       "    <tr>\n",
       "      <th>Total Views</th>\n",
       "      <td>0.282773</td>\n",
       "      <td>0.321864</td>\n",
       "      <td>0.487839</td>\n",
       "      <td>0.118600</td>\n",
       "      <td>0.498032</td>\n",
       "      <td>1.000000</td>\n",
       "      <td>0.383347</td>\n",
       "    </tr>\n",
       "    <tr>\n",
       "      <th>All Time Peak Viewers</th>\n",
       "      <td>0.476700</td>\n",
       "      <td>0.076545</td>\n",
       "      <td>0.393445</td>\n",
       "      <td>0.295296</td>\n",
       "      <td>0.589309</td>\n",
       "      <td>0.383347</td>\n",
       "      <td>1.000000</td>\n",
       "    </tr>\n",
       "  </tbody>\n",
       "</table>\n",
       "</div>"
      ],
      "text/plain": [
       "                          AVG Viewers  Time Streamed (in hours)  \\\n",
       "AVG Viewers                  1.000000                 -0.004063   \n",
       "Time Streamed (in hours)    -0.004063                  1.000000   \n",
       "Hours Watched                0.628819                  0.400608   \n",
       "Followers Gained             0.522981                  0.074139   \n",
       "Total Followers              0.509105                  0.144488   \n",
       "Total Views                  0.282773                  0.321864   \n",
       "All Time Peak Viewers        0.476700                  0.076545   \n",
       "\n",
       "                          Hours Watched  Followers Gained  Total Followers  \\\n",
       "AVG Viewers                    0.628819          0.522981         0.509105   \n",
       "Time Streamed (in hours)       0.400608          0.074139         0.144488   \n",
       "Hours Watched                  1.000000          0.387128         0.508710   \n",
       "Followers Gained               0.387128          1.000000         0.427136   \n",
       "Total Followers                0.508710          0.427136         1.000000   \n",
       "Total Views                    0.487839          0.118600         0.498032   \n",
       "All Time Peak Viewers          0.393445          0.295296         0.589309   \n",
       "\n",
       "                          Total Views  All Time Peak Viewers  \n",
       "AVG Viewers                  0.282773               0.476700  \n",
       "Time Streamed (in hours)     0.321864               0.076545  \n",
       "Hours Watched                0.487839               0.393445  \n",
       "Followers Gained             0.118600               0.295296  \n",
       "Total Followers              0.498032               0.589309  \n",
       "Total Views                  1.000000               0.383347  \n",
       "All Time Peak Viewers        0.383347               1.000000  "
      ]
     },
     "execution_count": 9,
     "metadata": {},
     "output_type": "execute_result"
    }
   ],
   "source": [
    "df.corr()"
   ]
  },
  {
   "cell_type": "markdown",
   "id": "405305dc",
   "metadata": {},
   "source": [
    "# Robustscale all values to see what happens to correlation"
   ]
  },
  {
   "cell_type": "code",
   "execution_count": 10,
   "id": "2a4db41a",
   "metadata": {
    "ExecuteTime": {
     "end_time": "2021-06-02T17:56:52.804060Z",
     "start_time": "2021-06-02T17:56:52.798035Z"
    }
   },
   "outputs": [],
   "source": [
    "X = df.drop(columns='username')\n",
    "\n",
    "from sklearn.preprocessing import RobustScaler\n",
    "scaler = RobustScaler().fit(X)\n",
    "scaled_features = scaler.transform(X)\n",
    "\n",
    "scaled_features_df = pd.DataFrame(scaled_features, index=X.index, columns=X.columns)"
   ]
  },
  {
   "cell_type": "code",
   "execution_count": 16,
   "id": "35de82c8",
   "metadata": {
    "ExecuteTime": {
     "end_time": "2021-06-02T17:58:40.516045Z",
     "start_time": "2021-06-02T17:58:40.502810Z"
    }
   },
   "outputs": [
    {
     "data": {
      "text/html": [
       "<div>\n",
       "<style scoped>\n",
       "    .dataframe tbody tr th:only-of-type {\n",
       "        vertical-align: middle;\n",
       "    }\n",
       "\n",
       "    .dataframe tbody tr th {\n",
       "        vertical-align: top;\n",
       "    }\n",
       "\n",
       "    .dataframe thead th {\n",
       "        text-align: right;\n",
       "    }\n",
       "</style>\n",
       "<table border=\"1\" class=\"dataframe\">\n",
       "  <thead>\n",
       "    <tr style=\"text-align: right;\">\n",
       "      <th></th>\n",
       "      <th>AVG Viewers</th>\n",
       "      <th>Time Streamed (in hours)</th>\n",
       "      <th>Hours Watched</th>\n",
       "      <th>Followers Gained</th>\n",
       "      <th>Total Followers</th>\n",
       "      <th>Total Views</th>\n",
       "      <th>All Time Peak Viewers</th>\n",
       "    </tr>\n",
       "  </thead>\n",
       "  <tbody>\n",
       "    <tr>\n",
       "      <th>AVG Viewers</th>\n",
       "      <td>1.000000</td>\n",
       "      <td>-0.004063</td>\n",
       "      <td>0.628819</td>\n",
       "      <td>0.522981</td>\n",
       "      <td>0.509105</td>\n",
       "      <td>0.282773</td>\n",
       "      <td>0.476700</td>\n",
       "    </tr>\n",
       "    <tr>\n",
       "      <th>Time Streamed (in hours)</th>\n",
       "      <td>-0.004063</td>\n",
       "      <td>1.000000</td>\n",
       "      <td>0.400608</td>\n",
       "      <td>0.074139</td>\n",
       "      <td>0.144488</td>\n",
       "      <td>0.321864</td>\n",
       "      <td>0.076545</td>\n",
       "    </tr>\n",
       "    <tr>\n",
       "      <th>Hours Watched</th>\n",
       "      <td>0.628819</td>\n",
       "      <td>0.400608</td>\n",
       "      <td>1.000000</td>\n",
       "      <td>0.387128</td>\n",
       "      <td>0.508710</td>\n",
       "      <td>0.487839</td>\n",
       "      <td>0.393445</td>\n",
       "    </tr>\n",
       "    <tr>\n",
       "      <th>Followers Gained</th>\n",
       "      <td>0.522981</td>\n",
       "      <td>0.074139</td>\n",
       "      <td>0.387128</td>\n",
       "      <td>1.000000</td>\n",
       "      <td>0.427136</td>\n",
       "      <td>0.118600</td>\n",
       "      <td>0.295296</td>\n",
       "    </tr>\n",
       "    <tr>\n",
       "      <th>Total Followers</th>\n",
       "      <td>0.509105</td>\n",
       "      <td>0.144488</td>\n",
       "      <td>0.508710</td>\n",
       "      <td>0.427136</td>\n",
       "      <td>1.000000</td>\n",
       "      <td>0.498032</td>\n",
       "      <td>0.589309</td>\n",
       "    </tr>\n",
       "    <tr>\n",
       "      <th>Total Views</th>\n",
       "      <td>0.282773</td>\n",
       "      <td>0.321864</td>\n",
       "      <td>0.487839</td>\n",
       "      <td>0.118600</td>\n",
       "      <td>0.498032</td>\n",
       "      <td>1.000000</td>\n",
       "      <td>0.383347</td>\n",
       "    </tr>\n",
       "    <tr>\n",
       "      <th>All Time Peak Viewers</th>\n",
       "      <td>0.476700</td>\n",
       "      <td>0.076545</td>\n",
       "      <td>0.393445</td>\n",
       "      <td>0.295296</td>\n",
       "      <td>0.589309</td>\n",
       "      <td>0.383347</td>\n",
       "      <td>1.000000</td>\n",
       "    </tr>\n",
       "  </tbody>\n",
       "</table>\n",
       "</div>"
      ],
      "text/plain": [
       "                          AVG Viewers  Time Streamed (in hours)  \\\n",
       "AVG Viewers                  1.000000                 -0.004063   \n",
       "Time Streamed (in hours)    -0.004063                  1.000000   \n",
       "Hours Watched                0.628819                  0.400608   \n",
       "Followers Gained             0.522981                  0.074139   \n",
       "Total Followers              0.509105                  0.144488   \n",
       "Total Views                  0.282773                  0.321864   \n",
       "All Time Peak Viewers        0.476700                  0.076545   \n",
       "\n",
       "                          Hours Watched  Followers Gained  Total Followers  \\\n",
       "AVG Viewers                    0.628819          0.522981         0.509105   \n",
       "Time Streamed (in hours)       0.400608          0.074139         0.144488   \n",
       "Hours Watched                  1.000000          0.387128         0.508710   \n",
       "Followers Gained               0.387128          1.000000         0.427136   \n",
       "Total Followers                0.508710          0.427136         1.000000   \n",
       "Total Views                    0.487839          0.118600         0.498032   \n",
       "All Time Peak Viewers          0.393445          0.295296         0.589309   \n",
       "\n",
       "                          Total Views  All Time Peak Viewers  \n",
       "AVG Viewers                  0.282773               0.476700  \n",
       "Time Streamed (in hours)     0.321864               0.076545  \n",
       "Hours Watched                0.487839               0.393445  \n",
       "Followers Gained             0.118600               0.295296  \n",
       "Total Followers              0.498032               0.589309  \n",
       "Total Views                  1.000000               0.383347  \n",
       "All Time Peak Viewers        0.383347               1.000000  "
      ]
     },
     "execution_count": 16,
     "metadata": {},
     "output_type": "execute_result"
    }
   ],
   "source": [
    "# look at new correlation\n",
    "scaled_features_df.corr()"
   ]
  },
  {
   "cell_type": "markdown",
   "id": "6bd668a6",
   "metadata": {},
   "source": [
    "# Trying out Twitter API"
   ]
  },
  {
   "cell_type": "code",
   "execution_count": null,
   "id": "2bd388cc",
   "metadata": {},
   "outputs": [],
   "source": []
  }
 ],
 "metadata": {
  "kernelspec": {
   "display_name": "Python 3",
   "language": "python",
   "name": "python3"
  },
  "language_info": {
   "codemirror_mode": {
    "name": "ipython",
    "version": 3
   },
   "file_extension": ".py",
   "mimetype": "text/x-python",
   "name": "python",
   "nbconvert_exporter": "python",
   "pygments_lexer": "ipython3",
   "version": "3.8.6"
  },
  "toc": {
   "base_numbering": 1,
   "nav_menu": {},
   "number_sections": true,
   "sideBar": true,
   "skip_h1_title": false,
   "title_cell": "Table of Contents",
   "title_sidebar": "Contents",
   "toc_cell": false,
   "toc_position": {},
   "toc_section_display": true,
   "toc_window_display": false
  }
 },
 "nbformat": 4,
 "nbformat_minor": 5
}
