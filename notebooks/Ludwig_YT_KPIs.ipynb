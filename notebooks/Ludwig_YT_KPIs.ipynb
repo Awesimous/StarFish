{
 "cells": [
  {
   "cell_type": "markdown",
   "id": "3b85afaf-9ace-4ad4-88be-774ec1b1b4a1",
   "metadata": {},
   "source": [
    "# KPIs & Score out of Youtube API"
   ]
  },
  {
   "cell_type": "code",
   "execution_count": 1,
   "id": "36f4c068-b40d-43b7-9dfb-460e30b4193e",
   "metadata": {},
   "outputs": [],
   "source": [
    "import json"
   ]
  },
  {
   "cell_type": "code",
   "execution_count": null,
   "id": "cb27d335-a4f8-4661-ac3b-413abaf15a5f",
   "metadata": {},
   "outputs": [],
   "source": [
    "data = []\n",
    "with open(\"YTjson/auron.json\") as f:\n",
    "    data = list(json.load(f).items())\n",
    "    \n",
    "    print(\"Type:\", type(data))\n",
    "    data = data[0][1]\n",
    "    print(data)"
   ]
  },
  {
   "cell_type": "code",
   "execution_count": null,
   "id": "5506f389-5637-4691-a1db-f65a23e0cf99",
   "metadata": {},
   "outputs": [],
   "source": [
    "def get_channel_stats(user):#see path json needs to be parsed\n",
    "    with open(f\"YTjson/{user}.json\") as f:\n",
    "        data = list(json.load(f).items())\n",
    "        data = data[0][1]\n",
    "        return data[\"channel_statistics\"]\n",
    "    "
   ]
  },
  {
   "cell_type": "code",
   "execution_count": null,
   "id": "968d6374-10d7-4800-b02f-bd76c45a0f4f",
   "metadata": {},
   "outputs": [],
   "source": [
    "get_channel_stats(\"auron\")"
   ]
  },
  {
   "cell_type": "code",
   "execution_count": null,
   "id": "8af4e678-1cb0-408c-8eda-0a53d743fd66",
   "metadata": {},
   "outputs": [],
   "source": [
    "def get_channel_viewCount(user):#see path json needs to be parsed\n",
    "    with open(f\"YTjson/{user}.json\") as f:\n",
    "        data = list(json.load(f).items())\n",
    "        data = data[0][1]\n",
    "        return data[\"channel_statistics\"][\"viewCount\"]"
   ]
  },
  {
   "cell_type": "code",
   "execution_count": null,
   "id": "b805c7c9-cf07-40f4-b591-6b032ff098f9",
   "metadata": {},
   "outputs": [],
   "source": [
    "get_channel_viewCount(\"auron\")"
   ]
  },
  {
   "cell_type": "code",
   "execution_count": null,
   "id": "8c009b4e-371a-49b0-820f-b0156ae6761d",
   "metadata": {},
   "outputs": [],
   "source": [
    "def get_channel_subscriberCount(user):#see path json needs to be parsed\n",
    "    with open(f\"YTjson/{user}.json\") as f:\n",
    "        data = list(json.load(f).items())\n",
    "        data = data[0][1]\n",
    "        return data[\"channel_statistics\"][\"subscriberCount\"]"
   ]
  },
  {
   "cell_type": "code",
   "execution_count": null,
   "id": "a7134490-5c5d-49ed-aa67-755822f67192",
   "metadata": {},
   "outputs": [],
   "source": [
    "get_channel_subscriberCount(\"AURON\")"
   ]
  },
  {
   "cell_type": "code",
   "execution_count": null,
   "id": "a9d7c7e4-085b-43d1-8775-33e5b982d834",
   "metadata": {},
   "outputs": [],
   "source": [
    "def get_channel_videoCount(user):#see path json needs to be parsed\n",
    "    with open(f\"YTjson/{user}.json\") as f:\n",
    "        data = list(json.load(f).items())\n",
    "        data = data[0][1]\n",
    "        return data[\"channel_statistics\"][\"videoCount\"]"
   ]
  },
  {
   "cell_type": "code",
   "execution_count": null,
   "id": "1f91a50d-a9db-453e-b418-281fc3de6e57",
   "metadata": {},
   "outputs": [],
   "source": [
    "get_channel_videoCount(\"auron\")"
   ]
  },
  {
   "cell_type": "code",
   "execution_count": null,
   "id": "b434fb37-4297-4e75-8cb8-5d3cf89a9f37",
   "metadata": {},
   "outputs": [],
   "source": [
    "data = []\n",
    "with open(\"YTjson/auron.json\") as f:\n",
    "    data = list(json.load(f).items())\n",
    "    \n",
    "    print(\"Type:\", type(data))\n",
    "    data = data[0][1]\n",
    "    data = data[\"video_data\"][\"nw9XlAZkXeE\"]\n",
    "    keys = list(data.keys())\n",
    "    print(data)"
   ]
  },
  {
   "cell_type": "code",
   "execution_count": null,
   "id": "37446d42-a0e0-4006-ab5d-83af527b5455",
   "metadata": {},
   "outputs": [],
   "source": [
    "data = []\n",
    "with open(\"YTjson/auron.json\") as f:\n",
    "    data = list(json.load(f).items())\n",
    "    \n",
    "    data = data[0][1]\n",
    "    data = data[\"video_data\"]\n",
    "    for video_id, inhalt in data.items():\n",
    "        print(video_id, type(inhalt))\n",
    "        for key, value in inhalt.items():\n",
    "            print(key, value)\n",
    "        break\n",
    "        \n"
   ]
  },
  {
   "cell_type": "code",
   "execution_count": null,
   "id": "cd728438-f1b5-41b9-85f1-78b05323cc61",
   "metadata": {},
   "outputs": [],
   "source": [
    "#Die Funktion ruf die einzelnen Werte des Kanals auf. So werden die wichtigen KPIs wiedergegeben. \n",
    "#Ziel If Funktion, um so die wichtigen Key/values wiederzugeben.\n",
    "#"
   ]
  },
  {
   "cell_type": "code",
   "execution_count": 2,
   "id": "6d05d973-e727-4400-b616-ce5e9d8a8dc3",
   "metadata": {},
   "outputs": [
    {
     "ename": "FileNotFoundError",
     "evalue": "[Errno 2] No such file or directory: 'YTjson/auron.json'",
     "output_type": "error",
     "traceback": [
      "\u001b[0;31m---------------------------------------------------------------------------\u001b[0m",
      "\u001b[0;31mFileNotFoundError\u001b[0m                         Traceback (most recent call last)",
      "\u001b[0;32m<ipython-input-2-2489aedb2b12>\u001b[0m in \u001b[0;36m<module>\u001b[0;34m\u001b[0m\n\u001b[1;32m      1\u001b[0m \u001b[0mdata\u001b[0m \u001b[0;34m=\u001b[0m \u001b[0;34m[\u001b[0m\u001b[0;34m]\u001b[0m\u001b[0;34m\u001b[0m\u001b[0;34m\u001b[0m\u001b[0m\n\u001b[0;32m----> 2\u001b[0;31m \u001b[0;32mwith\u001b[0m \u001b[0mopen\u001b[0m\u001b[0;34m(\u001b[0m\u001b[0;34m\"YTjson/auron.json\"\u001b[0m\u001b[0;34m)\u001b[0m \u001b[0;32mas\u001b[0m \u001b[0mf\u001b[0m\u001b[0;34m:\u001b[0m\u001b[0;34m\u001b[0m\u001b[0;34m\u001b[0m\u001b[0m\n\u001b[0m\u001b[1;32m      3\u001b[0m     \u001b[0mdata\u001b[0m \u001b[0;34m=\u001b[0m \u001b[0mlist\u001b[0m\u001b[0;34m(\u001b[0m\u001b[0mjson\u001b[0m\u001b[0;34m.\u001b[0m\u001b[0mload\u001b[0m\u001b[0;34m(\u001b[0m\u001b[0mf\u001b[0m\u001b[0;34m)\u001b[0m\u001b[0;34m.\u001b[0m\u001b[0mitems\u001b[0m\u001b[0;34m(\u001b[0m\u001b[0;34m)\u001b[0m\u001b[0;34m)\u001b[0m\u001b[0;34m\u001b[0m\u001b[0;34m\u001b[0m\u001b[0m\n\u001b[1;32m      4\u001b[0m \u001b[0;34m\u001b[0m\u001b[0m\n\u001b[1;32m      5\u001b[0m     \u001b[0mdata\u001b[0m \u001b[0;34m=\u001b[0m \u001b[0mdata\u001b[0m\u001b[0;34m[\u001b[0m\u001b[0;36m0\u001b[0m\u001b[0;34m]\u001b[0m\u001b[0;34m[\u001b[0m\u001b[0;36m1\u001b[0m\u001b[0;34m]\u001b[0m\u001b[0;34m\u001b[0m\u001b[0;34m\u001b[0m\u001b[0m\n",
      "\u001b[0;31mFileNotFoundError\u001b[0m: [Errno 2] No such file or directory: 'YTjson/auron.json'"
     ]
    }
   ],
   "source": [
    "data = []\n",
    "with open(\"YTjson/auron.json\") as f:\n",
    "    data = list(json.load(f).items())\n",
    "    \n",
    "    data = data[0][1]\n",
    "    data = data[\"video_data\"]\n",
    "    for video_id, inhalt in data.items():\n",
    "        print(video_id, type(inhalt))\n",
    "        for key, value in inhalt.items():\n",
    "            print(key, value)\n",
    "            break"
   ]
  },
  {
   "cell_type": "code",
   "execution_count": null,
   "id": "a5a1a29f-9b02-4499-8dea-a7647ba69933",
   "metadata": {},
   "outputs": [],
   "source": []
  }
 ],
 "metadata": {
  "kernelspec": {
   "display_name": "Python 3",
   "language": "python",
   "name": "python3"
  },
  "language_info": {
   "codemirror_mode": {
    "name": "ipython",
    "version": 3
   },
   "file_extension": ".py",
   "mimetype": "text/x-python",
   "name": "python",
   "nbconvert_exporter": "python",
   "pygments_lexer": "ipython3",
   "version": "3.8.6"
  }
 },
 "nbformat": 4,
 "nbformat_minor": 5
}
