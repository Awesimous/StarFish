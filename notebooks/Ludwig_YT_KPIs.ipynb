{
 "cells": [
  {
   "cell_type": "markdown",
   "id": "3b85afaf-9ace-4ad4-88be-774ec1b1b4a1",
   "metadata": {},
   "source": [
    "# KPIs & Score out of Youtube API"
   ]
  },
  {
   "cell_type": "code",
   "execution_count": 2,
   "id": "36f4c068-b40d-43b7-9dfb-460e30b4193e",
   "metadata": {},
   "outputs": [],
   "source": [
    "import json"
   ]
  },
  {
   "cell_type": "code",
   "execution_count": null,
   "id": "cb27d335-a4f8-4661-ac3b-413abaf15a5f",
   "metadata": {},
   "outputs": [],
   "source": [
    "data = []\n",
    "with open(\"YTjson/auron.json\") as f:\n",
    "    data = list(json.load(f).items())\n",
    "    \n",
    "    print(\"Type:\", type(data))\n",
    "    data = data[0][1]\n",
    "    print(data)"
   ]
  },
  {
   "cell_type": "code",
   "execution_count": 27,
   "id": "5506f389-5637-4691-a1db-f65a23e0cf99",
   "metadata": {},
   "outputs": [],
   "source": [
    "def get_channel_stats(user):#see path json needs to be parsed\n",
    "    with open(f\"YTjson/{user}.json\") as f:\n",
    "        data = list(json.load(f).items())\n",
    "        data = data[0][1]\n",
    "        return data[\"channel_statistics\"]\n",
    "    "
   ]
  },
  {
   "cell_type": "code",
   "execution_count": 29,
   "id": "968d6374-10d7-4800-b02f-bd76c45a0f4f",
   "metadata": {},
   "outputs": [
    {
     "data": {
      "text/plain": [
       "{'viewCount': '1484519640',\n",
       " 'subscriberCount': '11300000',\n",
       " 'hiddenSubscriberCount': False,\n",
       " 'videoCount': '370'}"
      ]
     },
     "execution_count": 29,
     "metadata": {},
     "output_type": "execute_result"
    }
   ],
   "source": [
    "get_channel_stats(\"auron\")"
   ]
  },
  {
   "cell_type": "code",
   "execution_count": 39,
   "id": "8af4e678-1cb0-408c-8eda-0a53d743fd66",
   "metadata": {},
   "outputs": [],
   "source": [
    "def get_channel_viewCount(user):#see path json needs to be parsed\n",
    "    with open(f\"YTjson/{user}.json\") as f:\n",
    "        data = list(json.load(f).items())\n",
    "        data = data[0][1]\n",
    "        return data[\"channel_statistics\"][\"viewCount\"]"
   ]
  },
  {
   "cell_type": "code",
   "execution_count": 40,
   "id": "b805c7c9-cf07-40f4-b591-6b032ff098f9",
   "metadata": {},
   "outputs": [
    {
     "data": {
      "text/plain": [
       "'1484519640'"
      ]
     },
     "execution_count": 40,
     "metadata": {},
     "output_type": "execute_result"
    }
   ],
   "source": [
    "get_channel_viewCount(\"auron\")"
   ]
  },
  {
   "cell_type": "code",
   "execution_count": 41,
   "id": "8c009b4e-371a-49b0-820f-b0156ae6761d",
   "metadata": {},
   "outputs": [],
   "source": [
    "def get_channel_subscriberCount(user):#see path json needs to be parsed\n",
    "    with open(f\"YTjson/{user}.json\") as f:\n",
    "        data = list(json.load(f).items())\n",
    "        data = data[0][1]\n",
    "        return data[\"channel_statistics\"][\"subscriberCount\"]"
   ]
  },
  {
   "cell_type": "code",
   "execution_count": 42,
   "id": "a7134490-5c5d-49ed-aa67-755822f67192",
   "metadata": {},
   "outputs": [
    {
     "data": {
      "text/plain": [
       "'11300000'"
      ]
     },
     "execution_count": 42,
     "metadata": {},
     "output_type": "execute_result"
    }
   ],
   "source": [
    "get_channel_subscriberCount(\"AURON\")"
   ]
  },
  {
   "cell_type": "code",
   "execution_count": 43,
   "id": "a9d7c7e4-085b-43d1-8775-33e5b982d834",
   "metadata": {},
   "outputs": [],
   "source": [
    "def get_channel_videoCount(user):#see path json needs to be parsed\n",
    "    with open(f\"YTjson/{user}.json\") as f:\n",
    "        data = list(json.load(f).items())\n",
    "        data = data[0][1]\n",
    "        return data[\"channel_statistics\"][\"videoCount\"]"
   ]
  },
  {
   "cell_type": "code",
   "execution_count": 44,
   "id": "1f91a50d-a9db-453e-b418-281fc3de6e57",
   "metadata": {},
   "outputs": [
    {
     "data": {
      "text/plain": [
       "'370'"
      ]
     },
     "execution_count": 44,
     "metadata": {},
     "output_type": "execute_result"
    }
   ],
   "source": [
    "get_channel_videoCount(\"auron\")"
   ]
  },
  {
   "cell_type": "code",
   "execution_count": 55,
   "id": "b434fb37-4297-4e75-8cb8-5d3cf89a9f37",
   "metadata": {},
   "outputs": [
    {
     "name": "stdout",
     "output_type": "stream",
     "text": [
      "Type: <class 'list'>\n",
      "{'publishedAt': '2021-06-03T18:41:00Z', 'title': 'MARBELLA VICE #19 || ABOGADO ESTAFADOR', 'channelId': 'UCFR2oaNj02WnXkOgLH0iqOA', 'description': 'http://twitch.com/AuronPlay', 'thumbnails': {'default': {'url': 'https://i.ytimg.com/vi/nw9XlAZkXeE/default.jpg', 'width': 120, 'height': 90}, 'medium': {'url': 'https://i.ytimg.com/vi/nw9XlAZkXeE/mqdefault.jpg', 'width': 320, 'height': 180}, 'high': {'url': 'https://i.ytimg.com/vi/nw9XlAZkXeE/hqdefault.jpg', 'width': 480, 'height': 360}, 'standard': {'url': 'https://i.ytimg.com/vi/nw9XlAZkXeE/sddefault.jpg', 'width': 640, 'height': 480}, 'maxres': {'url': 'https://i.ytimg.com/vi/nw9XlAZkXeE/maxresdefault.jpg', 'width': 1280, 'height': 720}}, 'channelTitle': 'Auron', 'categoryId': '20', 'liveBroadcastContent': 'none', 'localized': {'title': 'MARBELLA VICE #19 || ABOGADO ESTAFADOR', 'description': 'http://twitch.com/AuronPlay'}, 'defaultAudioLanguage': 'es', 'viewCount': '787165', 'likeCount': '61506', 'dislikeCount': '719', 'favoriteCount': '0', 'commentCount': '3336', 'duration': 'PT56M3S', 'dimension': '2d', 'definition': 'hd', 'caption': 'false', 'licensedContent': True, 'contentRating': {}, 'projection': 'rectangular', 'topicCategories': ['https://en.wikipedia.org/wiki/Action-adventure_game', 'https://en.wikipedia.org/wiki/Action_game', 'https://en.wikipedia.org/wiki/Video_game_culture']}\n"
     ]
    }
   ],
   "source": [
    "data = []\n",
    "with open(\"YTjson/auron.json\") as f:\n",
    "    data = list(json.load(f).items())\n",
    "    \n",
    "    print(\"Type:\", type(data))\n",
    "    data = data[0][1]\n",
    "    data = data[\"video_data\"][\"nw9XlAZkXeE\"]\n",
    "    keys = list(data.keys())\n",
    "    print(data)"
   ]
  },
  {
   "cell_type": "code",
   "execution_count": 69,
   "id": "37446d42-a0e0-4006-ab5d-83af527b5455",
   "metadata": {},
   "outputs": [
    {
     "name": "stdout",
     "output_type": "stream",
     "text": [
      "nw9XlAZkXeE <class 'dict'>\n",
      "publishedAt 2021-06-03T18:41:00Z\n",
      "title MARBELLA VICE #19 || ABOGADO ESTAFADOR\n",
      "channelId UCFR2oaNj02WnXkOgLH0iqOA\n",
      "description http://twitch.com/AuronPlay\n",
      "thumbnails {'default': {'url': 'https://i.ytimg.com/vi/nw9XlAZkXeE/default.jpg', 'width': 120, 'height': 90}, 'medium': {'url': 'https://i.ytimg.com/vi/nw9XlAZkXeE/mqdefault.jpg', 'width': 320, 'height': 180}, 'high': {'url': 'https://i.ytimg.com/vi/nw9XlAZkXeE/hqdefault.jpg', 'width': 480, 'height': 360}, 'standard': {'url': 'https://i.ytimg.com/vi/nw9XlAZkXeE/sddefault.jpg', 'width': 640, 'height': 480}, 'maxres': {'url': 'https://i.ytimg.com/vi/nw9XlAZkXeE/maxresdefault.jpg', 'width': 1280, 'height': 720}}\n",
      "channelTitle Auron\n",
      "categoryId 20\n",
      "liveBroadcastContent none\n",
      "localized {'title': 'MARBELLA VICE #19 || ABOGADO ESTAFADOR', 'description': 'http://twitch.com/AuronPlay'}\n",
      "defaultAudioLanguage es\n",
      "viewCount 787165\n",
      "likeCount 61506\n",
      "dislikeCount 719\n",
      "favoriteCount 0\n",
      "commentCount 3336\n",
      "duration PT56M3S\n",
      "dimension 2d\n",
      "definition hd\n",
      "caption false\n",
      "licensedContent True\n",
      "contentRating {}\n",
      "projection rectangular\n",
      "topicCategories ['https://en.wikipedia.org/wiki/Action-adventure_game', 'https://en.wikipedia.org/wiki/Action_game', 'https://en.wikipedia.org/wiki/Video_game_culture']\n"
     ]
    }
   ],
   "source": [
    "data = []\n",
    "with open(\"YTjson/auron.json\") as f:\n",
    "    data = list(json.load(f).items())\n",
    "    \n",
    "    data = data[0][1]\n",
    "    data = data[\"video_data\"]\n",
    "    for video_id, inhalt in data.items():\n",
    "        print(video_id, type(inhalt))\n",
    "        for key, value in inhalt.items():\n",
    "            print(key, value)\n",
    "        break\n",
    "        \n"
   ]
  },
  {
   "cell_type": "code",
   "execution_count": null,
   "id": "cd728438-f1b5-41b9-85f1-78b05323cc61",
   "metadata": {},
   "outputs": [],
   "source": [
    "#Die Funktion ruf die einzelnen Werte des Kanals auf. So werden die wichtigen KPIs wiedergegeben. \n",
    "#Ziel If Funktion, um so die wichtigen Key/values wiederzugeben.\n",
    "#"
   ]
  }
 ],
 "metadata": {
  "kernelspec": {
   "display_name": "Python 3",
   "language": "python",
   "name": "python3"
  },
  "language_info": {
   "codemirror_mode": {
    "name": "ipython",
    "version": 3
   },
   "file_extension": ".py",
   "mimetype": "text/x-python",
   "name": "python",
   "nbconvert_exporter": "python",
   "pygments_lexer": "ipython3",
   "version": "3.8.6"
  }
 },
 "nbformat": 4,
 "nbformat_minor": 5
}
