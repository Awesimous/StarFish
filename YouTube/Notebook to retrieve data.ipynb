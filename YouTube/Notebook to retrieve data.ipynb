{
 "cells": [
  {
   "cell_type": "code",
   "execution_count": 1,
   "id": "194c9f99",
   "metadata": {
    "ExecuteTime": {
     "end_time": "2021-06-04T16:17:04.038754Z",
     "start_time": "2021-06-04T16:17:03.340000Z"
    }
   },
   "outputs": [],
   "source": [
    "import requests\n",
    "from bs4 import BeautifulSoup\n",
    "import pandas as pd\n",
    "import numpy as np\n",
    "from selenium import webdriver\n",
    "from selenium.webdriver.chrome.options import Options\n",
    "import time"
   ]
  },
  {
   "cell_type": "code",
   "execution_count": 2,
   "id": "0fe844ac",
   "metadata": {
    "ExecuteTime": {
     "end_time": "2021-06-04T16:18:14.526046Z",
     "start_time": "2021-06-04T16:18:14.513629Z"
    }
   },
   "outputs": [],
   "source": [
    "df = pd.read_csv('streamer_df')"
   ]
  },
  {
   "cell_type": "code",
   "execution_count": 3,
   "id": "75d9507d",
   "metadata": {
    "ExecuteTime": {
     "end_time": "2021-06-04T16:18:18.347775Z",
     "start_time": "2021-06-04T16:18:18.335197Z"
    }
   },
   "outputs": [],
   "source": [
    "# creates a dataframe for social media plattforms scraped from twitch for a given df with usernames in it\n",
    "def get_social(df):\n",
    "    ''' this function scrapes the URL to youtube and twitter for a username-list'''\n",
    "    import time\n",
    "    t=5\n",
    "    usernames = df.username.to_list()\n",
    "    options = webdriver.ChromeOptions()\n",
    "    options.binary_location = \"/Applications/Google Chrome.app/Contents/MacOS/Google Chrome\"\n",
    "    chrome_driver_binary = \"/Users/frckles/drivers/chromedriver\"\n",
    "    dict = {}\n",
    "    for user in usernames:\n",
    "        URL= f'https://www.twitch.tv/{user}/about'\n",
    "        driver = webdriver.Chrome(chrome_driver_binary, chrome_options=options)\n",
    "        driver.get(URL)\n",
    "        soup=BeautifulSoup(driver.page_source)\n",
    "        twitter = list(set([a[\"href\"].lower() for a in soup.find_all(\"a\", href=True) if \"twitter.com/\" in a[\"href\"]]))\n",
    "        youtube = list(set([a[\"href\"] for a in soup.find_all(\"a\", href=True) if \"youtube.com/\" in a[\"href\"]]))\n",
    "        instagram = list(set([a[\"href\"].lower() for a in soup.find_all(\"a\", href=True) if \"instagram\" in a[\"href\"]]))\n",
    "        discord = list(set([a[\"href\"].lower() for a in soup.find_all(\"a\", href=True) if \"discord\" in a[\"href\"]]))\n",
    "        if twitter:\n",
    "            twitter = twitter[0]\n",
    "        if instagram:\n",
    "            instagram = instagram[0]\n",
    "        if discord:\n",
    "            discord = discord[0]\n",
    "        dict[user] = [twitter, youtube, instagram, discord]\n",
    "        time.sleep(t)\n",
    "    df = pd.DataFrame.from_dict(dict, orient='index')\n",
    "    df['Twitter'] = df[0].apply(lambda x: None if x == [] else x)\n",
    "    df['YouTube'] = df[1].apply(lambda x: None if x == [] else x)\n",
    "    df['Instagram'] = df[2].apply(lambda x: None if x == [] else x)\n",
    "    df['Discord'] = df[3].apply(lambda x: None if x == [] else x)\n",
    "    df.index.name = 'username'\n",
    "    df = df.reset_index()\n",
    "    return df[['username', 'Twitter', 'YouTube', 'Instagram', 'Discord']]"
   ]
  },
  {
   "cell_type": "code",
   "execution_count": null,
   "id": "14a9f184",
   "metadata": {},
   "outputs": [],
   "source": [
    "socials = get_social(df)\n",
    "df_socs = socials.copy()"
   ]
  },
  {
   "cell_type": "code",
   "execution_count": 4,
   "id": "8f4bdbf1",
   "metadata": {
    "ExecuteTime": {
     "end_time": "2021-06-04T16:19:46.146412Z",
     "start_time": "2021-06-04T16:19:46.136139Z"
    }
   },
   "outputs": [],
   "source": [
    "def get_social_id(link):\n",
    "    '''Extract streamer identifier at the end of their social media links'''\n",
    "    if link[-1] == '/':\n",
    "        link = link[:-1]\n",
    "    start = link.rfind('/')\n",
    "    id = link[start + 1:]\n",
    "\n",
    "    return id\n",
    "\n",
    "def get_yt_channel_id(links):\n",
    "    '''Return the first genuine yt channel id in a list of yt links'''\n",
    "    if not links:\n",
    "        return None\n",
    "    channel_id = None\n",
    "    for link in links:\n",
    "        link = link.split('?')[0]\n",
    "        print(link)\n",
    "        id = get_social_id(link)\n",
    "        if len(id) == 24:\n",
    "            channel_id = id\n",
    "            break\n",
    "    \n",
    "    return channel_id\n",
    "\n",
    "\n",
    "def parse_streamer_socials(socials_df):\n",
    "    '''Return a dataframe with relevant ids per treamer and platform'''\n",
    "    for (column_name, column_data) in socials_df.iteritems():\n",
    "        if column_name != 'Discord':\n",
    "            if column_name == 'YouTube':\n",
    "                socials_df[column_name] = socials_df[column_name].apply(get_yt_channel_id)\n",
    "            socials_df[column_name] = column_data.apply(lambda x: get_social_id(x) if x else None)\n",
    "            \n",
    "        \n",
    "    return socials_df"
   ]
  },
  {
   "cell_type": "code",
   "execution_count": null,
   "id": "e2960530",
   "metadata": {},
   "outputs": [],
   "source": [
    "get_yt_channel_id(test_link)"
   ]
  },
  {
   "cell_type": "code",
   "execution_count": null,
   "id": "501c8f53",
   "metadata": {},
   "outputs": [],
   "source": [
    "parse_streamer_socials(df_socs)"
   ]
  }
 ],
 "metadata": {
  "kernelspec": {
   "display_name": "Python 3",
   "language": "python",
   "name": "python3"
  },
  "language_info": {
   "codemirror_mode": {
    "name": "ipython",
    "version": 3
   },
   "file_extension": ".py",
   "mimetype": "text/x-python",
   "name": "python",
   "nbconvert_exporter": "python",
   "pygments_lexer": "ipython3",
   "version": "3.8.6"
  },
  "toc": {
   "base_numbering": 1,
   "nav_menu": {},
   "number_sections": true,
   "sideBar": true,
   "skip_h1_title": false,
   "title_cell": "Table of Contents",
   "title_sidebar": "Contents",
   "toc_cell": false,
   "toc_position": {},
   "toc_section_display": true,
   "toc_window_display": false
  }
 },
 "nbformat": 4,
 "nbformat_minor": 5
}
